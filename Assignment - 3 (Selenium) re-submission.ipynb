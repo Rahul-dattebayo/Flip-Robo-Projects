{
 "cells": [
  {
   "cell_type": "markdown",
   "metadata": {},
   "source": [
    "## Q1. Write a python program to scrape data for “Data Analyst” Job position in “Bangalore” location. You have to scrape the job-title, job-location, company_name, experience_required. You have to scrape first 10 jobs data.\n"
   ]
  },
  {
   "cell_type": "code",
   "execution_count": 174,
   "metadata": {},
   "outputs": [],
   "source": [
    "import selenium\n",
    "import pandas as pd\n",
    "from selenium import webdriver"
   ]
  },
  {
   "cell_type": "code",
   "execution_count": 2,
   "metadata": {},
   "outputs": [],
   "source": [
    "driver = webdriver.Chrome(\"chromedriver.exe\")"
   ]
  },
  {
   "cell_type": "code",
   "execution_count": 3,
   "metadata": {},
   "outputs": [],
   "source": [
    "#Website is called.\n",
    "\n",
    "url = 'https://www.naukri.com'\n",
    "driver.get(url)"
   ]
  },
  {
   "cell_type": "markdown",
   "metadata": {},
   "source": [
    "#### Entering the codes to load the page accordingly"
   ]
  },
  {
   "cell_type": "code",
   "execution_count": 4,
   "metadata": {},
   "outputs": [
    {
     "data": {
      "text/plain": [
       "<selenium.webdriver.remote.webelement.WebElement (session=\"86ffe83cf58fabf588c5ead17081e907\", element=\"5145bcf5-9064-4db6-859a-5ccbfec7555d\")>"
      ]
     },
     "execution_count": 4,
     "metadata": {},
     "output_type": "execute_result"
    }
   ],
   "source": [
    "#Search Bar\n",
    "\n",
    "search_job = driver.find_element_by_id('qsb-keyword-sugg')\n",
    "search_job"
   ]
  },
  {
   "cell_type": "code",
   "execution_count": 5,
   "metadata": {},
   "outputs": [],
   "source": [
    "search_job.send_keys('Data Analyst')"
   ]
  },
  {
   "cell_type": "code",
   "execution_count": 6,
   "metadata": {},
   "outputs": [],
   "source": [
    "search_loc = driver.find_element_by_id('qsb-location-sugg')\n",
    "search_loc.send_keys('Bangalore')"
   ]
  },
  {
   "cell_type": "code",
   "execution_count": 7,
   "metadata": {},
   "outputs": [],
   "source": [
    "#Clicking the search button using xpath fucntion\n",
    "\n",
    "search_btn = driver.find_element_by_xpath(\"//button[@class='btn']\") #(\"//tagname[@AttributeName = 'Attribute value']\")\n",
    "search_btn.click()"
   ]
  },
  {
   "cell_type": "markdown",
   "metadata": {},
   "source": [
    "### Job titles"
   ]
  },
  {
   "cell_type": "code",
   "execution_count": 583,
   "metadata": {},
   "outputs": [
    {
     "ename": "NameError",
     "evalue": "name 'driver' is not defined",
     "output_type": "error",
     "traceback": [
      "\u001b[1;31m---------------------------------------------------------------------------\u001b[0m",
      "\u001b[1;31mNameError\u001b[0m                                 Traceback (most recent call last)",
      "\u001b[1;32m<ipython-input-583-215f6d29974a>\u001b[0m in \u001b[0;36m<module>\u001b[1;34m\u001b[0m\n\u001b[0;32m      1\u001b[0m \u001b[1;31m#Let's extract all the tags having the job titles.\u001b[0m\u001b[1;33m\u001b[0m\u001b[1;33m\u001b[0m\u001b[1;33m\u001b[0m\u001b[0m\n\u001b[0;32m      2\u001b[0m \u001b[1;33m\u001b[0m\u001b[0m\n\u001b[1;32m----> 3\u001b[1;33m \u001b[0mtitles_tags\u001b[0m \u001b[1;33m=\u001b[0m \u001b[0mdriver\u001b[0m\u001b[1;33m.\u001b[0m\u001b[0mfind_elements_by_xpath\u001b[0m\u001b[1;33m(\u001b[0m\u001b[1;34m\"//a[@class = 'title fw500 ellipsis']\"\u001b[0m\u001b[1;33m)\u001b[0m \u001b[1;31m#'elements' word is used to get all the relevant titles\u001b[0m\u001b[1;33m\u001b[0m\u001b[1;33m\u001b[0m\u001b[0m\n\u001b[0m\u001b[0;32m      4\u001b[0m \u001b[0mtitles_tags\u001b[0m\u001b[1;33m\u001b[0m\u001b[1;33m\u001b[0m\u001b[0m\n",
      "\u001b[1;31mNameError\u001b[0m: name 'driver' is not defined"
     ]
    }
   ],
   "source": [
    "#Let's extract all the tags having the job titles.\n",
    "\n",
    "titles_tags = driver.find_elements_by_xpath(\"//a[@class = 'title fw500 ellipsis']\") #'elements' word is used to get all the relevant titles\n",
    "titles_tags"
   ]
  },
  {
   "cell_type": "code",
   "execution_count": 9,
   "metadata": {},
   "outputs": [
    {
     "data": {
      "text/plain": [
       "['Data Scientist / Data Analyst -Business Analyst',\n",
       " 'Hiring Data Analysts For E commerce Platform || WFH',\n",
       " 'Data Analyst',\n",
       " 'Hiring For Data Analyst/ MIS Reporting Analyst - Bangalore',\n",
       " 'DA - Urgent Opening For Data Analyst BFSI Domain - Pan India',\n",
       " 'Data Analyst - Informatica MDM',\n",
       " 'Assistant Vice President - MIS & Reporting ( Business Data Analyst)',\n",
       " 'Data Analyst',\n",
       " 'Data Analyst',\n",
       " 'Data Analyst',\n",
       " 'Data Analyst',\n",
       " 'Data Analyst',\n",
       " 'Data Analyst',\n",
       " 'Senior/Regular Business Analyst / Data Analyst',\n",
       " 'Data Analyst',\n",
       " 'Business Data Analyst - MIS & Reporting',\n",
       " 'Data Analyst / Business Analyst -',\n",
       " 'Business Data Analyst',\n",
       " 'Data Analyst',\n",
       " 'Associate - Data Analyst ( Growth)']"
      ]
     },
     "execution_count": 9,
     "metadata": {},
     "output_type": "execute_result"
    }
   ],
   "source": [
    "job_titles = []\n",
    "for i in titles_tags:\n",
    "    job_titles.append(i.text)\n",
    "job_titles"
   ]
  },
  {
   "cell_type": "markdown",
   "metadata": {},
   "source": [
    "### Companies"
   ]
  },
  {
   "cell_type": "code",
   "execution_count": 10,
   "metadata": {},
   "outputs": [
    {
     "data": {
      "text/plain": [
       "[<selenium.webdriver.remote.webelement.WebElement (session=\"86ffe83cf58fabf588c5ead17081e907\", element=\"a9646479-d888-4ee4-927a-5cef5796ed9b\")>,\n",
       " <selenium.webdriver.remote.webelement.WebElement (session=\"86ffe83cf58fabf588c5ead17081e907\", element=\"646321c4-bb2a-4b62-8e7e-0c575f0d01c0\")>,\n",
       " <selenium.webdriver.remote.webelement.WebElement (session=\"86ffe83cf58fabf588c5ead17081e907\", element=\"284d34c9-984c-47be-9010-f73ad4bbf28f\")>,\n",
       " <selenium.webdriver.remote.webelement.WebElement (session=\"86ffe83cf58fabf588c5ead17081e907\", element=\"75fce6cf-bea4-4a9a-8faa-05f14fb47b2d\")>,\n",
       " <selenium.webdriver.remote.webelement.WebElement (session=\"86ffe83cf58fabf588c5ead17081e907\", element=\"3137fb97-174d-4b3d-9c75-55521cb26aed\")>,\n",
       " <selenium.webdriver.remote.webelement.WebElement (session=\"86ffe83cf58fabf588c5ead17081e907\", element=\"64c7ad80-0b57-4fba-b128-2a9875bcca55\")>,\n",
       " <selenium.webdriver.remote.webelement.WebElement (session=\"86ffe83cf58fabf588c5ead17081e907\", element=\"b62cf210-935c-43c1-8cbe-3de73fef4dc2\")>,\n",
       " <selenium.webdriver.remote.webelement.WebElement (session=\"86ffe83cf58fabf588c5ead17081e907\", element=\"42f816cc-d2dd-4559-8cbf-fb84e5aec5df\")>,\n",
       " <selenium.webdriver.remote.webelement.WebElement (session=\"86ffe83cf58fabf588c5ead17081e907\", element=\"920c036d-f28b-46cf-a6ac-43b6244b68d2\")>,\n",
       " <selenium.webdriver.remote.webelement.WebElement (session=\"86ffe83cf58fabf588c5ead17081e907\", element=\"95f36be3-39ad-4381-bb74-322d1dc127ee\")>,\n",
       " <selenium.webdriver.remote.webelement.WebElement (session=\"86ffe83cf58fabf588c5ead17081e907\", element=\"fc992985-b274-4d16-b52b-7ea653cec2ae\")>,\n",
       " <selenium.webdriver.remote.webelement.WebElement (session=\"86ffe83cf58fabf588c5ead17081e907\", element=\"8c0ed7a6-bf62-4fa8-9d01-3605d10b354f\")>,\n",
       " <selenium.webdriver.remote.webelement.WebElement (session=\"86ffe83cf58fabf588c5ead17081e907\", element=\"0c84f729-28be-4468-86a9-d474cd42d9c6\")>,\n",
       " <selenium.webdriver.remote.webelement.WebElement (session=\"86ffe83cf58fabf588c5ead17081e907\", element=\"c9bfb5f5-220a-4739-8391-064892ea9821\")>,\n",
       " <selenium.webdriver.remote.webelement.WebElement (session=\"86ffe83cf58fabf588c5ead17081e907\", element=\"9d829fd2-e818-48b4-b6fb-e275496a6b15\")>,\n",
       " <selenium.webdriver.remote.webelement.WebElement (session=\"86ffe83cf58fabf588c5ead17081e907\", element=\"ee8ef216-2786-43a9-b314-2b93b4f0a5de\")>,\n",
       " <selenium.webdriver.remote.webelement.WebElement (session=\"86ffe83cf58fabf588c5ead17081e907\", element=\"9688f0d3-5f10-4510-b6ff-7fc167732a12\")>,\n",
       " <selenium.webdriver.remote.webelement.WebElement (session=\"86ffe83cf58fabf588c5ead17081e907\", element=\"5193511d-85a1-4688-800e-b7449c1ae5f8\")>,\n",
       " <selenium.webdriver.remote.webelement.WebElement (session=\"86ffe83cf58fabf588c5ead17081e907\", element=\"7b8d819e-1a85-49ae-96d3-cdf8a76699fe\")>,\n",
       " <selenium.webdriver.remote.webelement.WebElement (session=\"86ffe83cf58fabf588c5ead17081e907\", element=\"439b2aba-3dc2-4ee5-a71a-207253bef703\")>]"
      ]
     },
     "execution_count": 10,
     "metadata": {},
     "output_type": "execute_result"
    }
   ],
   "source": [
    "job_comp = driver.find_elements_by_xpath(\"//a[@class ='subTitle ellipsis fleft']\") #'\" \"' are distinctive and important. \n",
    "job_comp"
   ]
  },
  {
   "cell_type": "code",
   "execution_count": 11,
   "metadata": {},
   "outputs": [
    {
     "data": {
      "text/plain": [
       "['Inflexion Analytix Private Limited',\n",
       " 'Allegis Services India Pvt. Ltd.',\n",
       " 'Applied Materials',\n",
       " 'PHARMACEUTICAL RESEARCH ASSOCIATES INDIA Pvt Ltd',\n",
       " 'Tata Consultancy Services Ltd.',\n",
       " 'Shell India Markets Private Limited',\n",
       " 'INTERTRUSTVITEOS CORPORATE AND FUND SERVICES PVT. LTD.',\n",
       " 'Myntra Designs Pvt. Ltd.',\n",
       " 'Myntra Designs Pvt. Ltd.',\n",
       " 'Myntra Designs Pvt. Ltd.',\n",
       " 'Myntra Designs Pvt. Ltd.',\n",
       " 'Myntra Designs Pvt. Ltd.',\n",
       " 'SA Tech Software (I) Pvt. Ltd.',\n",
       " 'Luxoft',\n",
       " 'IBM India Pvt. Limited',\n",
       " 'INTERTRUST GROUP',\n",
       " 'LatentView Analytics Private Limited',\n",
       " 'ALSTOM India Limited',\n",
       " 'Udaan',\n",
       " 'Myntra Designs Pvt. Ltd.']"
      ]
     },
     "execution_count": 11,
     "metadata": {},
     "output_type": "execute_result"
    }
   ],
   "source": [
    "companies = []\n",
    "for j in job_comp:\n",
    "    companies.append(j.text)\n",
    "    \n",
    "companies"
   ]
  },
  {
   "cell_type": "markdown",
   "metadata": {},
   "source": [
    "### Experience"
   ]
  },
  {
   "cell_type": "code",
   "execution_count": 12,
   "metadata": {},
   "outputs": [
    {
     "data": {
      "text/plain": [
       "[<selenium.webdriver.remote.webelement.WebElement (session=\"86ffe83cf58fabf588c5ead17081e907\", element=\"c358ae49-a164-45b9-9b0e-2a982ebe4ca1\")>,\n",
       " <selenium.webdriver.remote.webelement.WebElement (session=\"86ffe83cf58fabf588c5ead17081e907\", element=\"aac1a03a-5382-4ba5-9e92-6960bba54379\")>,\n",
       " <selenium.webdriver.remote.webelement.WebElement (session=\"86ffe83cf58fabf588c5ead17081e907\", element=\"6b52e12a-6a23-4f9a-b03c-79c2e2fb3837\")>,\n",
       " <selenium.webdriver.remote.webelement.WebElement (session=\"86ffe83cf58fabf588c5ead17081e907\", element=\"75b7e10d-f0c8-417c-8979-8c2bfc7e67dc\")>,\n",
       " <selenium.webdriver.remote.webelement.WebElement (session=\"86ffe83cf58fabf588c5ead17081e907\", element=\"f4a6d98a-5fd1-4f2c-80a0-32ca468fffd5\")>,\n",
       " <selenium.webdriver.remote.webelement.WebElement (session=\"86ffe83cf58fabf588c5ead17081e907\", element=\"80643d23-5bcc-439a-bb08-4b58612f8fa6\")>,\n",
       " <selenium.webdriver.remote.webelement.WebElement (session=\"86ffe83cf58fabf588c5ead17081e907\", element=\"3579c96b-6788-4912-8f11-660768e713d1\")>,\n",
       " <selenium.webdriver.remote.webelement.WebElement (session=\"86ffe83cf58fabf588c5ead17081e907\", element=\"07081881-ee4e-4da5-920d-6eef9ee18daf\")>,\n",
       " <selenium.webdriver.remote.webelement.WebElement (session=\"86ffe83cf58fabf588c5ead17081e907\", element=\"da982b1b-6abf-444e-ad88-a62f497d5c90\")>,\n",
       " <selenium.webdriver.remote.webelement.WebElement (session=\"86ffe83cf58fabf588c5ead17081e907\", element=\"2391fd22-8d4b-482e-b3d7-473392049756\")>,\n",
       " <selenium.webdriver.remote.webelement.WebElement (session=\"86ffe83cf58fabf588c5ead17081e907\", element=\"140f4e05-1b9f-41ed-aa01-ca3f431ef85d\")>,\n",
       " <selenium.webdriver.remote.webelement.WebElement (session=\"86ffe83cf58fabf588c5ead17081e907\", element=\"32ece690-7a3d-4745-bf41-0864a7c56b12\")>,\n",
       " <selenium.webdriver.remote.webelement.WebElement (session=\"86ffe83cf58fabf588c5ead17081e907\", element=\"110c2b8d-22c2-43a9-9223-29ff7c7c7c5d\")>,\n",
       " <selenium.webdriver.remote.webelement.WebElement (session=\"86ffe83cf58fabf588c5ead17081e907\", element=\"0c67af02-e868-4864-a9d5-357613bce261\")>,\n",
       " <selenium.webdriver.remote.webelement.WebElement (session=\"86ffe83cf58fabf588c5ead17081e907\", element=\"8166411a-aca8-4f39-a46d-82abbce56ed7\")>,\n",
       " <selenium.webdriver.remote.webelement.WebElement (session=\"86ffe83cf58fabf588c5ead17081e907\", element=\"498b0ff4-3d7b-43ec-85cc-0c622ac745d6\")>,\n",
       " <selenium.webdriver.remote.webelement.WebElement (session=\"86ffe83cf58fabf588c5ead17081e907\", element=\"1a8cf8e2-dc2f-4afd-ac59-06a965167c9b\")>,\n",
       " <selenium.webdriver.remote.webelement.WebElement (session=\"86ffe83cf58fabf588c5ead17081e907\", element=\"9d4373d5-c7d1-435a-8ddf-8e46a7ee56eb\")>,\n",
       " <selenium.webdriver.remote.webelement.WebElement (session=\"86ffe83cf58fabf588c5ead17081e907\", element=\"fa828e1d-5aea-48c5-a917-2c3aa193c584\")>,\n",
       " <selenium.webdriver.remote.webelement.WebElement (session=\"86ffe83cf58fabf588c5ead17081e907\", element=\"ae64964c-a202-4e32-8522-bc5fbf5fa6a8\")>]"
      ]
     },
     "execution_count": 12,
     "metadata": {},
     "output_type": "execute_result"
    }
   ],
   "source": [
    "#Sometimes even after using the correct tag and attribute names, we don't get the desired output.\n",
    "\n",
    "#We used the parent tag.\n",
    "\n",
    "job_exp = driver.find_elements_by_xpath(\"//li[@class = 'fleft grey-text br2 placeHolderLi experience']//span\")\n",
    "job_exp"
   ]
  },
  {
   "cell_type": "code",
   "execution_count": 13,
   "metadata": {},
   "outputs": [
    {
     "data": {
      "text/plain": [
       "['0-3 Yrs',\n",
       " '0-5 Yrs',\n",
       " '7-10 Yrs',\n",
       " '2-4 Yrs',\n",
       " '4-9 Yrs',\n",
       " '6-9 Yrs',\n",
       " '12-18 Yrs',\n",
       " '3-6 Yrs',\n",
       " '3-6 Yrs',\n",
       " '4-9 Yrs',\n",
       " '4-8 Yrs',\n",
       " '3-6 Yrs',\n",
       " '1-3 Yrs',\n",
       " '3-6 Yrs',\n",
       " '5-10 Yrs',\n",
       " '3-8 Yrs',\n",
       " '1-5 Yrs',\n",
       " '5-10 Yrs',\n",
       " '1-6 Yrs',\n",
       " '2-3 Yrs']"
      ]
     },
     "execution_count": 13,
     "metadata": {},
     "output_type": "execute_result"
    }
   ],
   "source": [
    "experience = []\n",
    "for k in job_exp:\n",
    "    experience.append(k.text)\n",
    "    \n",
    "experience"
   ]
  },
  {
   "cell_type": "markdown",
   "metadata": {},
   "source": [
    "### Location"
   ]
  },
  {
   "cell_type": "code",
   "execution_count": 14,
   "metadata": {},
   "outputs": [
    {
     "data": {
      "text/plain": [
       "[<selenium.webdriver.remote.webelement.WebElement (session=\"86ffe83cf58fabf588c5ead17081e907\", element=\"00edd2a6-f31b-475f-95f9-a9f353332570\")>,\n",
       " <selenium.webdriver.remote.webelement.WebElement (session=\"86ffe83cf58fabf588c5ead17081e907\", element=\"e995f392-72f2-4f0e-a277-3dc97f92e5e0\")>,\n",
       " <selenium.webdriver.remote.webelement.WebElement (session=\"86ffe83cf58fabf588c5ead17081e907\", element=\"b58cbd2d-b8be-42b0-9b49-47c15fed44ce\")>,\n",
       " <selenium.webdriver.remote.webelement.WebElement (session=\"86ffe83cf58fabf588c5ead17081e907\", element=\"77140608-85cb-4bda-8538-852d00008624\")>,\n",
       " <selenium.webdriver.remote.webelement.WebElement (session=\"86ffe83cf58fabf588c5ead17081e907\", element=\"a0e1dd5a-7424-4dd7-97e2-ff2c14536eb6\")>,\n",
       " <selenium.webdriver.remote.webelement.WebElement (session=\"86ffe83cf58fabf588c5ead17081e907\", element=\"5194d5f3-90db-4fac-93eb-b5d6de018e0f\")>,\n",
       " <selenium.webdriver.remote.webelement.WebElement (session=\"86ffe83cf58fabf588c5ead17081e907\", element=\"a6f5d593-046c-4975-8fb4-c1567d6b38cf\")>,\n",
       " <selenium.webdriver.remote.webelement.WebElement (session=\"86ffe83cf58fabf588c5ead17081e907\", element=\"68d0ec0e-c01c-4cfa-8082-90685e7777a5\")>,\n",
       " <selenium.webdriver.remote.webelement.WebElement (session=\"86ffe83cf58fabf588c5ead17081e907\", element=\"2ec2c5cc-e294-4d26-9f0f-2215c526a11a\")>,\n",
       " <selenium.webdriver.remote.webelement.WebElement (session=\"86ffe83cf58fabf588c5ead17081e907\", element=\"d18327db-ee51-4716-b9e3-ff6f767a5da9\")>,\n",
       " <selenium.webdriver.remote.webelement.WebElement (session=\"86ffe83cf58fabf588c5ead17081e907\", element=\"293e9347-7e32-4318-8a04-88dacfc38690\")>,\n",
       " <selenium.webdriver.remote.webelement.WebElement (session=\"86ffe83cf58fabf588c5ead17081e907\", element=\"c05b09d5-b9a1-449b-a073-b6f512b80177\")>,\n",
       " <selenium.webdriver.remote.webelement.WebElement (session=\"86ffe83cf58fabf588c5ead17081e907\", element=\"a60ffd89-4c24-4168-980a-5425ab0ac436\")>,\n",
       " <selenium.webdriver.remote.webelement.WebElement (session=\"86ffe83cf58fabf588c5ead17081e907\", element=\"9abe7b2b-8066-47a5-a94a-16927ecb83e2\")>,\n",
       " <selenium.webdriver.remote.webelement.WebElement (session=\"86ffe83cf58fabf588c5ead17081e907\", element=\"213408ad-0c2e-4234-8fdb-e3e7ae9d4894\")>,\n",
       " <selenium.webdriver.remote.webelement.WebElement (session=\"86ffe83cf58fabf588c5ead17081e907\", element=\"ca824e2c-a418-4685-8f66-a0c8c8502840\")>,\n",
       " <selenium.webdriver.remote.webelement.WebElement (session=\"86ffe83cf58fabf588c5ead17081e907\", element=\"046881e4-eaa7-4ff9-b8bf-ec6a13a50621\")>,\n",
       " <selenium.webdriver.remote.webelement.WebElement (session=\"86ffe83cf58fabf588c5ead17081e907\", element=\"90eced6c-0486-4b26-b152-58c4ed841ea5\")>,\n",
       " <selenium.webdriver.remote.webelement.WebElement (session=\"86ffe83cf58fabf588c5ead17081e907\", element=\"08984ae3-0282-48cf-9e6b-a18f0a77dc4b\")>,\n",
       " <selenium.webdriver.remote.webelement.WebElement (session=\"86ffe83cf58fabf588c5ead17081e907\", element=\"87a91fd2-7fc3-4bd7-8b45-835b7ff93f2f\")>]"
      ]
     },
     "execution_count": 14,
     "metadata": {},
     "output_type": "execute_result"
    }
   ],
   "source": [
    "job_loc = driver.find_elements_by_xpath(\"//li[@class = 'fleft grey-text br2 placeHolderLi location']//span\")\n",
    "job_loc"
   ]
  },
  {
   "cell_type": "code",
   "execution_count": 15,
   "metadata": {},
   "outputs": [
    {
     "data": {
      "text/plain": [
       "['Mumbai, Hyderabad/Secunderabad, Pune, Gurgaon/Gurugram, Chennai, Bangalore/Bengaluru',\n",
       " 'Bangalore/Bengaluru',\n",
       " 'Bangalore/Bengaluru',\n",
       " 'Bangalore/Bengaluru',\n",
       " 'Kolkata, Hyderabad/Secunderabad, Pune, Ahmedabad, Chennai, Bangalore/Bengaluru, Delhi / NCR, Mumbai (All Areas)',\n",
       " 'Bangalore/Bengaluru',\n",
       " 'Mumbai, Bangalore/Bengaluru',\n",
       " 'Bangalore/Bengaluru',\n",
       " 'Bangalore/Bengaluru',\n",
       " 'Bangalore/Bengaluru',\n",
       " 'Bangalore/Bengaluru',\n",
       " 'Bangalore/Bengaluru',\n",
       " 'Kolkata, Pune, Chennai, Bangalore/Bengaluru, Delhi / NCR, Mumbai (All Areas)',\n",
       " 'Bangalore/Bengaluru',\n",
       " 'Bangalore/Bengaluru',\n",
       " 'Mumbai, Bangalore/Bengaluru',\n",
       " 'Chennai, Bangalore/Bengaluru',\n",
       " 'Bangalore/Bengaluru',\n",
       " 'Bangalore/Bengaluru',\n",
       " 'Bangalore/Bengaluru']"
      ]
     },
     "execution_count": 15,
     "metadata": {},
     "output_type": "execute_result"
    }
   ],
   "source": [
    "location = []\n",
    "for l in job_loc:\n",
    "    location.append(l.text)\n",
    "    \n",
    "location"
   ]
  },
  {
   "cell_type": "code",
   "execution_count": 16,
   "metadata": {},
   "outputs": [],
   "source": [
    "import pandas as pd\n",
    "jobs = pd.DataFrame({})\n",
    "jobs['titles'] = job_titles\n",
    "jobs['companies'] = companies\n",
    "jobs['experience'] = experience\n",
    "jobs['location'] = location"
   ]
  },
  {
   "cell_type": "code",
   "execution_count": 17,
   "metadata": {},
   "outputs": [
    {
     "data": {
      "text/html": [
       "<div>\n",
       "<style scoped>\n",
       "    .dataframe tbody tr th:only-of-type {\n",
       "        vertical-align: middle;\n",
       "    }\n",
       "\n",
       "    .dataframe tbody tr th {\n",
       "        vertical-align: top;\n",
       "    }\n",
       "\n",
       "    .dataframe thead th {\n",
       "        text-align: right;\n",
       "    }\n",
       "</style>\n",
       "<table border=\"1\" class=\"dataframe\">\n",
       "  <thead>\n",
       "    <tr style=\"text-align: right;\">\n",
       "      <th></th>\n",
       "      <th>titles</th>\n",
       "      <th>companies</th>\n",
       "      <th>experience</th>\n",
       "      <th>location</th>\n",
       "    </tr>\n",
       "  </thead>\n",
       "  <tbody>\n",
       "    <tr>\n",
       "      <th>0</th>\n",
       "      <td>Data Scientist / Data Analyst -Business Analyst</td>\n",
       "      <td>Inflexion Analytix Private Limited</td>\n",
       "      <td>0-3 Yrs</td>\n",
       "      <td>Mumbai, Hyderabad/Secunderabad, Pune, Gurgaon/...</td>\n",
       "    </tr>\n",
       "    <tr>\n",
       "      <th>1</th>\n",
       "      <td>Hiring Data Analysts For E commerce Platform |...</td>\n",
       "      <td>Allegis Services India Pvt. Ltd.</td>\n",
       "      <td>0-5 Yrs</td>\n",
       "      <td>Bangalore/Bengaluru</td>\n",
       "    </tr>\n",
       "    <tr>\n",
       "      <th>2</th>\n",
       "      <td>Data Analyst</td>\n",
       "      <td>Applied Materials</td>\n",
       "      <td>7-10 Yrs</td>\n",
       "      <td>Bangalore/Bengaluru</td>\n",
       "    </tr>\n",
       "    <tr>\n",
       "      <th>3</th>\n",
       "      <td>Hiring For Data Analyst/ MIS Reporting Analyst...</td>\n",
       "      <td>PHARMACEUTICAL RESEARCH ASSOCIATES INDIA Pvt Ltd</td>\n",
       "      <td>2-4 Yrs</td>\n",
       "      <td>Bangalore/Bengaluru</td>\n",
       "    </tr>\n",
       "    <tr>\n",
       "      <th>4</th>\n",
       "      <td>DA - Urgent Opening For Data Analyst BFSI Doma...</td>\n",
       "      <td>Tata Consultancy Services Ltd.</td>\n",
       "      <td>4-9 Yrs</td>\n",
       "      <td>Kolkata, Hyderabad/Secunderabad, Pune, Ahmedab...</td>\n",
       "    </tr>\n",
       "    <tr>\n",
       "      <th>5</th>\n",
       "      <td>Data Analyst - Informatica MDM</td>\n",
       "      <td>Shell India Markets Private Limited</td>\n",
       "      <td>6-9 Yrs</td>\n",
       "      <td>Bangalore/Bengaluru</td>\n",
       "    </tr>\n",
       "    <tr>\n",
       "      <th>6</th>\n",
       "      <td>Assistant Vice President - MIS &amp; Reporting ( B...</td>\n",
       "      <td>INTERTRUSTVITEOS CORPORATE AND FUND SERVICES P...</td>\n",
       "      <td>12-18 Yrs</td>\n",
       "      <td>Mumbai, Bangalore/Bengaluru</td>\n",
       "    </tr>\n",
       "    <tr>\n",
       "      <th>7</th>\n",
       "      <td>Data Analyst</td>\n",
       "      <td>Myntra Designs Pvt. Ltd.</td>\n",
       "      <td>3-6 Yrs</td>\n",
       "      <td>Bangalore/Bengaluru</td>\n",
       "    </tr>\n",
       "    <tr>\n",
       "      <th>8</th>\n",
       "      <td>Data Analyst</td>\n",
       "      <td>Myntra Designs Pvt. Ltd.</td>\n",
       "      <td>3-6 Yrs</td>\n",
       "      <td>Bangalore/Bengaluru</td>\n",
       "    </tr>\n",
       "    <tr>\n",
       "      <th>9</th>\n",
       "      <td>Data Analyst</td>\n",
       "      <td>Myntra Designs Pvt. Ltd.</td>\n",
       "      <td>4-9 Yrs</td>\n",
       "      <td>Bangalore/Bengaluru</td>\n",
       "    </tr>\n",
       "    <tr>\n",
       "      <th>10</th>\n",
       "      <td>Data Analyst</td>\n",
       "      <td>Myntra Designs Pvt. Ltd.</td>\n",
       "      <td>4-8 Yrs</td>\n",
       "      <td>Bangalore/Bengaluru</td>\n",
       "    </tr>\n",
       "  </tbody>\n",
       "</table>\n",
       "</div>"
      ],
      "text/plain": [
       "                                               titles  \\\n",
       "0     Data Scientist / Data Analyst -Business Analyst   \n",
       "1   Hiring Data Analysts For E commerce Platform |...   \n",
       "2                                        Data Analyst   \n",
       "3   Hiring For Data Analyst/ MIS Reporting Analyst...   \n",
       "4   DA - Urgent Opening For Data Analyst BFSI Doma...   \n",
       "5                      Data Analyst - Informatica MDM   \n",
       "6   Assistant Vice President - MIS & Reporting ( B...   \n",
       "7                                        Data Analyst   \n",
       "8                                        Data Analyst   \n",
       "9                                        Data Analyst   \n",
       "10                                       Data Analyst   \n",
       "\n",
       "                                            companies experience  \\\n",
       "0                  Inflexion Analytix Private Limited    0-3 Yrs   \n",
       "1                    Allegis Services India Pvt. Ltd.    0-5 Yrs   \n",
       "2                                   Applied Materials   7-10 Yrs   \n",
       "3    PHARMACEUTICAL RESEARCH ASSOCIATES INDIA Pvt Ltd    2-4 Yrs   \n",
       "4                      Tata Consultancy Services Ltd.    4-9 Yrs   \n",
       "5                 Shell India Markets Private Limited    6-9 Yrs   \n",
       "6   INTERTRUSTVITEOS CORPORATE AND FUND SERVICES P...  12-18 Yrs   \n",
       "7                            Myntra Designs Pvt. Ltd.    3-6 Yrs   \n",
       "8                            Myntra Designs Pvt. Ltd.    3-6 Yrs   \n",
       "9                            Myntra Designs Pvt. Ltd.    4-9 Yrs   \n",
       "10                           Myntra Designs Pvt. Ltd.    4-8 Yrs   \n",
       "\n",
       "                                             location  \n",
       "0   Mumbai, Hyderabad/Secunderabad, Pune, Gurgaon/...  \n",
       "1                                 Bangalore/Bengaluru  \n",
       "2                                 Bangalore/Bengaluru  \n",
       "3                                 Bangalore/Bengaluru  \n",
       "4   Kolkata, Hyderabad/Secunderabad, Pune, Ahmedab...  \n",
       "5                                 Bangalore/Bengaluru  \n",
       "6                         Mumbai, Bangalore/Bengaluru  \n",
       "7                                 Bangalore/Bengaluru  \n",
       "8                                 Bangalore/Bengaluru  \n",
       "9                                 Bangalore/Bengaluru  \n",
       "10                                Bangalore/Bengaluru  "
      ]
     },
     "execution_count": 17,
     "metadata": {},
     "output_type": "execute_result"
    }
   ],
   "source": [
    "jobs.head(11)"
   ]
  },
  {
   "cell_type": "markdown",
   "metadata": {},
   "source": [
    "## Q2: Write a python program to scrape data for “Data Scientist” Job position in “Bangalore” location. You have to scrape the job-title, job-location, company_name, full job-description. You have to scrape first 10 jobs data"
   ]
  },
  {
   "cell_type": "code",
   "execution_count": 30,
   "metadata": {},
   "outputs": [],
   "source": [
    "pilot = webdriver.Chrome(\"chromedriver.exe\")"
   ]
  },
  {
   "cell_type": "code",
   "execution_count": 31,
   "metadata": {},
   "outputs": [],
   "source": [
    "url = 'https://www.naukri.com'\n",
    "pilot.get(url)"
   ]
  },
  {
   "cell_type": "code",
   "execution_count": 32,
   "metadata": {},
   "outputs": [
    {
     "data": {
      "text/plain": [
       "<selenium.webdriver.remote.webelement.WebElement (session=\"b4d95e6c76e90782fbfef17323a182b4\", element=\"071e7a08-0e48-4351-afe1-0b862e076b72\")>"
      ]
     },
     "execution_count": 32,
     "metadata": {},
     "output_type": "execute_result"
    }
   ],
   "source": [
    "search_job = pilot.find_element_by_id('qsb-keyword-sugg')\n",
    "search_job"
   ]
  },
  {
   "cell_type": "code",
   "execution_count": 33,
   "metadata": {},
   "outputs": [],
   "source": [
    "search_job.send_keys('Data Scientist')"
   ]
  },
  {
   "cell_type": "code",
   "execution_count": 34,
   "metadata": {},
   "outputs": [],
   "source": [
    "search_loc = pilot.find_element_by_id('qsb-location-sugg')\n",
    "search_loc.send_keys('Bangalore')"
   ]
  },
  {
   "cell_type": "code",
   "execution_count": 35,
   "metadata": {},
   "outputs": [],
   "source": [
    "#Click using xpath fucntion\n",
    "\n",
    "search_btn = pilot.find_element_by_xpath(\"//button[@class='btn']\") #(\"//tagname[@AttributeName = 'Attribute value']\")\n",
    "search_btn.click()"
   ]
  },
  {
   "cell_type": "markdown",
   "metadata": {},
   "source": [
    "### Companies"
   ]
  },
  {
   "cell_type": "code",
   "execution_count": 36,
   "metadata": {},
   "outputs": [],
   "source": [
    "comp = pilot.find_elements_by_xpath(\"//a[@class = 'subTitle ellipsis fleft']\")"
   ]
  },
  {
   "cell_type": "code",
   "execution_count": 37,
   "metadata": {},
   "outputs": [
    {
     "data": {
      "text/plain": [
       "[<selenium.webdriver.remote.webelement.WebElement (session=\"b4d95e6c76e90782fbfef17323a182b4\", element=\"13825229-2203-48e8-acda-971e1ed55b3a\")>,\n",
       " <selenium.webdriver.remote.webelement.WebElement (session=\"b4d95e6c76e90782fbfef17323a182b4\", element=\"0d3321fa-5dc4-41b6-bf62-5d1b1fd54f17\")>,\n",
       " <selenium.webdriver.remote.webelement.WebElement (session=\"b4d95e6c76e90782fbfef17323a182b4\", element=\"382e1e41-6c8f-437f-8d30-c5a9a1ad7b25\")>,\n",
       " <selenium.webdriver.remote.webelement.WebElement (session=\"b4d95e6c76e90782fbfef17323a182b4\", element=\"15924234-48ef-4b0b-a0d3-262682513e5d\")>,\n",
       " <selenium.webdriver.remote.webelement.WebElement (session=\"b4d95e6c76e90782fbfef17323a182b4\", element=\"82437ccd-c0c1-4e80-ba8a-256beb7b61d4\")>,\n",
       " <selenium.webdriver.remote.webelement.WebElement (session=\"b4d95e6c76e90782fbfef17323a182b4\", element=\"f178d175-a679-4490-b97f-e5e201078dd4\")>,\n",
       " <selenium.webdriver.remote.webelement.WebElement (session=\"b4d95e6c76e90782fbfef17323a182b4\", element=\"27639ac4-8ab9-4c76-99e8-5db603c76375\")>,\n",
       " <selenium.webdriver.remote.webelement.WebElement (session=\"b4d95e6c76e90782fbfef17323a182b4\", element=\"e2ed8812-733c-4915-84d0-4036540243f6\")>,\n",
       " <selenium.webdriver.remote.webelement.WebElement (session=\"b4d95e6c76e90782fbfef17323a182b4\", element=\"813de69a-e169-4137-9c9e-924c4436b18b\")>,\n",
       " <selenium.webdriver.remote.webelement.WebElement (session=\"b4d95e6c76e90782fbfef17323a182b4\", element=\"b7b0cae1-1234-4adf-b914-ad780ff1c2e9\")>,\n",
       " <selenium.webdriver.remote.webelement.WebElement (session=\"b4d95e6c76e90782fbfef17323a182b4\", element=\"83d1c27b-e31e-4c02-9ffb-2a7c5a836b45\")>,\n",
       " <selenium.webdriver.remote.webelement.WebElement (session=\"b4d95e6c76e90782fbfef17323a182b4\", element=\"d4664e90-3809-47fb-858a-bde22db89730\")>,\n",
       " <selenium.webdriver.remote.webelement.WebElement (session=\"b4d95e6c76e90782fbfef17323a182b4\", element=\"cda434c5-550d-48d5-b21b-70bcd9bc4a3c\")>,\n",
       " <selenium.webdriver.remote.webelement.WebElement (session=\"b4d95e6c76e90782fbfef17323a182b4\", element=\"a2671d6f-2889-49a3-9570-25554023bf74\")>,\n",
       " <selenium.webdriver.remote.webelement.WebElement (session=\"b4d95e6c76e90782fbfef17323a182b4\", element=\"e38730b8-3a8d-4d41-ac13-8ed6ec62e55d\")>,\n",
       " <selenium.webdriver.remote.webelement.WebElement (session=\"b4d95e6c76e90782fbfef17323a182b4\", element=\"746d6683-a63b-4163-9c57-37f85f7d8eca\")>,\n",
       " <selenium.webdriver.remote.webelement.WebElement (session=\"b4d95e6c76e90782fbfef17323a182b4\", element=\"ed613334-c427-4d15-a688-b36e3814e7db\")>,\n",
       " <selenium.webdriver.remote.webelement.WebElement (session=\"b4d95e6c76e90782fbfef17323a182b4\", element=\"4e154678-37d7-4e43-9451-7d90dc820c32\")>,\n",
       " <selenium.webdriver.remote.webelement.WebElement (session=\"b4d95e6c76e90782fbfef17323a182b4\", element=\"b463b3db-55cc-4f30-8664-0cd26667216a\")>,\n",
       " <selenium.webdriver.remote.webelement.WebElement (session=\"b4d95e6c76e90782fbfef17323a182b4\", element=\"ce3d1cee-cbf4-4d22-8400-b4666954433a\")>]"
      ]
     },
     "execution_count": 37,
     "metadata": {},
     "output_type": "execute_result"
    }
   ],
   "source": [
    "comp"
   ]
  },
  {
   "cell_type": "code",
   "execution_count": 38,
   "metadata": {},
   "outputs": [],
   "source": [
    "companies = []\n",
    "\n",
    "for i in comp[0:10]:\n",
    "    companies.append(i.text)"
   ]
  },
  {
   "cell_type": "code",
   "execution_count": 39,
   "metadata": {},
   "outputs": [
    {
     "data": {
      "text/plain": [
       "['Inflexion Analytix Private Limited',\n",
       " 'Nielsen',\n",
       " 'IBM India Pvt. Limited',\n",
       " 'IBM India Pvt. Limited',\n",
       " 'Scienaptic Systems',\n",
       " 'Xoriant Solutions Pvt Ltd',\n",
       " 'Philips India Limited',\n",
       " 'IBM India Pvt. Limited',\n",
       " 'Intel Technology India Pvt Ltd',\n",
       " 'Huawei Technologies India Pvt Ltd']"
      ]
     },
     "execution_count": 39,
     "metadata": {},
     "output_type": "execute_result"
    }
   ],
   "source": [
    "companies"
   ]
  },
  {
   "cell_type": "markdown",
   "metadata": {},
   "source": [
    "### Location"
   ]
  },
  {
   "cell_type": "code",
   "execution_count": null,
   "metadata": {},
   "outputs": [],
   "source": [
    "location = []"
   ]
  },
  {
   "cell_type": "code",
   "execution_count": 50,
   "metadata": {},
   "outputs": [],
   "source": [
    "loc = pilot.find_elements_by_xpath(\"//li[@class = 'fleft grey-text br2 placeHolderLi location']/span[1]\")"
   ]
  },
  {
   "cell_type": "code",
   "execution_count": 51,
   "metadata": {},
   "outputs": [
    {
     "data": {
      "text/plain": [
       "[<selenium.webdriver.remote.webelement.WebElement (session=\"b4d95e6c76e90782fbfef17323a182b4\", element=\"1abbff97-d543-420a-a908-9d81da14e71e\")>,\n",
       " <selenium.webdriver.remote.webelement.WebElement (session=\"b4d95e6c76e90782fbfef17323a182b4\", element=\"6c93aa0a-4b1f-43e4-be9c-cdfc604a32ac\")>,\n",
       " <selenium.webdriver.remote.webelement.WebElement (session=\"b4d95e6c76e90782fbfef17323a182b4\", element=\"f3e22a23-5cea-4d7a-876e-0730329d4307\")>,\n",
       " <selenium.webdriver.remote.webelement.WebElement (session=\"b4d95e6c76e90782fbfef17323a182b4\", element=\"175d03a2-f57a-4be7-90a6-94d981106861\")>,\n",
       " <selenium.webdriver.remote.webelement.WebElement (session=\"b4d95e6c76e90782fbfef17323a182b4\", element=\"2db0c33d-80fd-416f-b73f-ae25c536631a\")>,\n",
       " <selenium.webdriver.remote.webelement.WebElement (session=\"b4d95e6c76e90782fbfef17323a182b4\", element=\"22e3ad7c-f014-495a-9b21-2ba511757f8f\")>,\n",
       " <selenium.webdriver.remote.webelement.WebElement (session=\"b4d95e6c76e90782fbfef17323a182b4\", element=\"d7f3edfc-3837-432c-bbf6-2097c4de172e\")>,\n",
       " <selenium.webdriver.remote.webelement.WebElement (session=\"b4d95e6c76e90782fbfef17323a182b4\", element=\"bf660892-333e-4c6c-acaa-bc1880956929\")>,\n",
       " <selenium.webdriver.remote.webelement.WebElement (session=\"b4d95e6c76e90782fbfef17323a182b4\", element=\"81f54be6-4786-45a1-a62a-6d813e2ccb10\")>,\n",
       " <selenium.webdriver.remote.webelement.WebElement (session=\"b4d95e6c76e90782fbfef17323a182b4\", element=\"64155942-c034-4d3a-a661-8b00fcd4a15e\")>,\n",
       " <selenium.webdriver.remote.webelement.WebElement (session=\"b4d95e6c76e90782fbfef17323a182b4\", element=\"31eb80fc-bf14-4425-a8c4-7038bdfdf4f3\")>,\n",
       " <selenium.webdriver.remote.webelement.WebElement (session=\"b4d95e6c76e90782fbfef17323a182b4\", element=\"2774452d-699d-483a-be9f-13b6303ee4ff\")>,\n",
       " <selenium.webdriver.remote.webelement.WebElement (session=\"b4d95e6c76e90782fbfef17323a182b4\", element=\"b7ab2f5d-758e-4b0c-8806-d285d7f110b7\")>,\n",
       " <selenium.webdriver.remote.webelement.WebElement (session=\"b4d95e6c76e90782fbfef17323a182b4\", element=\"385dc954-244b-4d35-8b59-1f99736485c5\")>,\n",
       " <selenium.webdriver.remote.webelement.WebElement (session=\"b4d95e6c76e90782fbfef17323a182b4\", element=\"229472ae-e224-4e1e-9bad-a45cfd749214\")>,\n",
       " <selenium.webdriver.remote.webelement.WebElement (session=\"b4d95e6c76e90782fbfef17323a182b4\", element=\"35ff6418-3bd0-4df8-aed3-486af11adb4e\")>,\n",
       " <selenium.webdriver.remote.webelement.WebElement (session=\"b4d95e6c76e90782fbfef17323a182b4\", element=\"99d95aea-7e0c-4d08-acfa-da739878a476\")>,\n",
       " <selenium.webdriver.remote.webelement.WebElement (session=\"b4d95e6c76e90782fbfef17323a182b4\", element=\"05576e1e-4b8a-427f-a692-a76be00926cd\")>,\n",
       " <selenium.webdriver.remote.webelement.WebElement (session=\"b4d95e6c76e90782fbfef17323a182b4\", element=\"21dcbe6a-ef8e-4d93-8670-6cf590889a30\")>,\n",
       " <selenium.webdriver.remote.webelement.WebElement (session=\"b4d95e6c76e90782fbfef17323a182b4\", element=\"15e143f8-7153-4080-ad73-d676c5e95b06\")>]"
      ]
     },
     "execution_count": 51,
     "metadata": {},
     "output_type": "execute_result"
    }
   ],
   "source": [
    "loc"
   ]
  },
  {
   "cell_type": "code",
   "execution_count": 77,
   "metadata": {},
   "outputs": [
    {
     "ename": "StaleElementReferenceException",
     "evalue": "Message: stale element reference: element is not attached to the page document\n  (Session info: chrome=90.0.4430.212)\n",
     "output_type": "error",
     "traceback": [
      "\u001b[1;31m---------------------------------------------------------------------------\u001b[0m",
      "\u001b[1;31mStaleElementReferenceException\u001b[0m            Traceback (most recent call last)",
      "\u001b[1;32m<ipython-input-77-30228f0c3f3f>\u001b[0m in \u001b[0;36m<module>\u001b[1;34m\u001b[0m\n\u001b[0;32m      1\u001b[0m \u001b[1;32mfor\u001b[0m \u001b[0mj\u001b[0m \u001b[1;32min\u001b[0m \u001b[0mloc\u001b[0m\u001b[1;33m[\u001b[0m\u001b[1;36m0\u001b[0m\u001b[1;33m:\u001b[0m\u001b[1;36m10\u001b[0m\u001b[1;33m]\u001b[0m\u001b[1;33m:\u001b[0m\u001b[1;33m\u001b[0m\u001b[1;33m\u001b[0m\u001b[0m\n\u001b[1;32m----> 2\u001b[1;33m     \u001b[0mlocation\u001b[0m\u001b[1;33m.\u001b[0m\u001b[0mappend\u001b[0m\u001b[1;33m(\u001b[0m\u001b[0mj\u001b[0m\u001b[1;33m.\u001b[0m\u001b[0mtext\u001b[0m\u001b[1;33m)\u001b[0m\u001b[1;33m\u001b[0m\u001b[1;33m\u001b[0m\u001b[0m\n\u001b[0m",
      "\u001b[1;32m~\\anaconda3\\lib\\site-packages\\selenium\\webdriver\\remote\\webelement.py\u001b[0m in \u001b[0;36mtext\u001b[1;34m(self)\u001b[0m\n\u001b[0;32m     74\u001b[0m     \u001b[1;32mdef\u001b[0m \u001b[0mtext\u001b[0m\u001b[1;33m(\u001b[0m\u001b[0mself\u001b[0m\u001b[1;33m)\u001b[0m\u001b[1;33m:\u001b[0m\u001b[1;33m\u001b[0m\u001b[1;33m\u001b[0m\u001b[0m\n\u001b[0;32m     75\u001b[0m         \u001b[1;34m\"\"\"The text of the element.\"\"\"\u001b[0m\u001b[1;33m\u001b[0m\u001b[1;33m\u001b[0m\u001b[0m\n\u001b[1;32m---> 76\u001b[1;33m         \u001b[1;32mreturn\u001b[0m \u001b[0mself\u001b[0m\u001b[1;33m.\u001b[0m\u001b[0m_execute\u001b[0m\u001b[1;33m(\u001b[0m\u001b[0mCommand\u001b[0m\u001b[1;33m.\u001b[0m\u001b[0mGET_ELEMENT_TEXT\u001b[0m\u001b[1;33m)\u001b[0m\u001b[1;33m[\u001b[0m\u001b[1;34m'value'\u001b[0m\u001b[1;33m]\u001b[0m\u001b[1;33m\u001b[0m\u001b[1;33m\u001b[0m\u001b[0m\n\u001b[0m\u001b[0;32m     77\u001b[0m \u001b[1;33m\u001b[0m\u001b[0m\n\u001b[0;32m     78\u001b[0m     \u001b[1;32mdef\u001b[0m \u001b[0mclick\u001b[0m\u001b[1;33m(\u001b[0m\u001b[0mself\u001b[0m\u001b[1;33m)\u001b[0m\u001b[1;33m:\u001b[0m\u001b[1;33m\u001b[0m\u001b[1;33m\u001b[0m\u001b[0m\n",
      "\u001b[1;32m~\\anaconda3\\lib\\site-packages\\selenium\\webdriver\\remote\\webelement.py\u001b[0m in \u001b[0;36m_execute\u001b[1;34m(self, command, params)\u001b[0m\n\u001b[0;32m    631\u001b[0m             \u001b[0mparams\u001b[0m \u001b[1;33m=\u001b[0m \u001b[1;33m{\u001b[0m\u001b[1;33m}\u001b[0m\u001b[1;33m\u001b[0m\u001b[1;33m\u001b[0m\u001b[0m\n\u001b[0;32m    632\u001b[0m         \u001b[0mparams\u001b[0m\u001b[1;33m[\u001b[0m\u001b[1;34m'id'\u001b[0m\u001b[1;33m]\u001b[0m \u001b[1;33m=\u001b[0m \u001b[0mself\u001b[0m\u001b[1;33m.\u001b[0m\u001b[0m_id\u001b[0m\u001b[1;33m\u001b[0m\u001b[1;33m\u001b[0m\u001b[0m\n\u001b[1;32m--> 633\u001b[1;33m         \u001b[1;32mreturn\u001b[0m \u001b[0mself\u001b[0m\u001b[1;33m.\u001b[0m\u001b[0m_parent\u001b[0m\u001b[1;33m.\u001b[0m\u001b[0mexecute\u001b[0m\u001b[1;33m(\u001b[0m\u001b[0mcommand\u001b[0m\u001b[1;33m,\u001b[0m \u001b[0mparams\u001b[0m\u001b[1;33m)\u001b[0m\u001b[1;33m\u001b[0m\u001b[1;33m\u001b[0m\u001b[0m\n\u001b[0m\u001b[0;32m    634\u001b[0m \u001b[1;33m\u001b[0m\u001b[0m\n\u001b[0;32m    635\u001b[0m     \u001b[1;32mdef\u001b[0m \u001b[0mfind_element\u001b[0m\u001b[1;33m(\u001b[0m\u001b[0mself\u001b[0m\u001b[1;33m,\u001b[0m \u001b[0mby\u001b[0m\u001b[1;33m=\u001b[0m\u001b[0mBy\u001b[0m\u001b[1;33m.\u001b[0m\u001b[0mID\u001b[0m\u001b[1;33m,\u001b[0m \u001b[0mvalue\u001b[0m\u001b[1;33m=\u001b[0m\u001b[1;32mNone\u001b[0m\u001b[1;33m)\u001b[0m\u001b[1;33m:\u001b[0m\u001b[1;33m\u001b[0m\u001b[1;33m\u001b[0m\u001b[0m\n",
      "\u001b[1;32m~\\anaconda3\\lib\\site-packages\\selenium\\webdriver\\remote\\webdriver.py\u001b[0m in \u001b[0;36mexecute\u001b[1;34m(self, driver_command, params)\u001b[0m\n\u001b[0;32m    319\u001b[0m         \u001b[0mresponse\u001b[0m \u001b[1;33m=\u001b[0m \u001b[0mself\u001b[0m\u001b[1;33m.\u001b[0m\u001b[0mcommand_executor\u001b[0m\u001b[1;33m.\u001b[0m\u001b[0mexecute\u001b[0m\u001b[1;33m(\u001b[0m\u001b[0mdriver_command\u001b[0m\u001b[1;33m,\u001b[0m \u001b[0mparams\u001b[0m\u001b[1;33m)\u001b[0m\u001b[1;33m\u001b[0m\u001b[1;33m\u001b[0m\u001b[0m\n\u001b[0;32m    320\u001b[0m         \u001b[1;32mif\u001b[0m \u001b[0mresponse\u001b[0m\u001b[1;33m:\u001b[0m\u001b[1;33m\u001b[0m\u001b[1;33m\u001b[0m\u001b[0m\n\u001b[1;32m--> 321\u001b[1;33m             \u001b[0mself\u001b[0m\u001b[1;33m.\u001b[0m\u001b[0merror_handler\u001b[0m\u001b[1;33m.\u001b[0m\u001b[0mcheck_response\u001b[0m\u001b[1;33m(\u001b[0m\u001b[0mresponse\u001b[0m\u001b[1;33m)\u001b[0m\u001b[1;33m\u001b[0m\u001b[1;33m\u001b[0m\u001b[0m\n\u001b[0m\u001b[0;32m    322\u001b[0m             response['value'] = self._unwrap_value(\n\u001b[0;32m    323\u001b[0m                 response.get('value', None))\n",
      "\u001b[1;32m~\\anaconda3\\lib\\site-packages\\selenium\\webdriver\\remote\\errorhandler.py\u001b[0m in \u001b[0;36mcheck_response\u001b[1;34m(self, response)\u001b[0m\n\u001b[0;32m    240\u001b[0m                 \u001b[0malert_text\u001b[0m \u001b[1;33m=\u001b[0m \u001b[0mvalue\u001b[0m\u001b[1;33m[\u001b[0m\u001b[1;34m'alert'\u001b[0m\u001b[1;33m]\u001b[0m\u001b[1;33m.\u001b[0m\u001b[0mget\u001b[0m\u001b[1;33m(\u001b[0m\u001b[1;34m'text'\u001b[0m\u001b[1;33m)\u001b[0m\u001b[1;33m\u001b[0m\u001b[1;33m\u001b[0m\u001b[0m\n\u001b[0;32m    241\u001b[0m             \u001b[1;32mraise\u001b[0m \u001b[0mexception_class\u001b[0m\u001b[1;33m(\u001b[0m\u001b[0mmessage\u001b[0m\u001b[1;33m,\u001b[0m \u001b[0mscreen\u001b[0m\u001b[1;33m,\u001b[0m \u001b[0mstacktrace\u001b[0m\u001b[1;33m,\u001b[0m \u001b[0malert_text\u001b[0m\u001b[1;33m)\u001b[0m\u001b[1;33m\u001b[0m\u001b[1;33m\u001b[0m\u001b[0m\n\u001b[1;32m--> 242\u001b[1;33m         \u001b[1;32mraise\u001b[0m \u001b[0mexception_class\u001b[0m\u001b[1;33m(\u001b[0m\u001b[0mmessage\u001b[0m\u001b[1;33m,\u001b[0m \u001b[0mscreen\u001b[0m\u001b[1;33m,\u001b[0m \u001b[0mstacktrace\u001b[0m\u001b[1;33m)\u001b[0m\u001b[1;33m\u001b[0m\u001b[1;33m\u001b[0m\u001b[0m\n\u001b[0m\u001b[0;32m    243\u001b[0m \u001b[1;33m\u001b[0m\u001b[0m\n\u001b[0;32m    244\u001b[0m     \u001b[1;32mdef\u001b[0m \u001b[0m_value_or_default\u001b[0m\u001b[1;33m(\u001b[0m\u001b[0mself\u001b[0m\u001b[1;33m,\u001b[0m \u001b[0mobj\u001b[0m\u001b[1;33m,\u001b[0m \u001b[0mkey\u001b[0m\u001b[1;33m,\u001b[0m \u001b[0mdefault\u001b[0m\u001b[1;33m)\u001b[0m\u001b[1;33m:\u001b[0m\u001b[1;33m\u001b[0m\u001b[1;33m\u001b[0m\u001b[0m\n",
      "\u001b[1;31mStaleElementReferenceException\u001b[0m: Message: stale element reference: element is not attached to the page document\n  (Session info: chrome=90.0.4430.212)\n"
     ]
    }
   ],
   "source": [
    "for j in loc[0:10]:\n",
    "    location.append(j.text)"
   ]
  },
  {
   "cell_type": "code",
   "execution_count": 78,
   "metadata": {},
   "outputs": [
    {
     "data": {
      "text/plain": [
       "['-',\n",
       " '-',\n",
       " '-',\n",
       " '-',\n",
       " '-',\n",
       " '-',\n",
       " '-',\n",
       " '-',\n",
       " '-',\n",
       " '-',\n",
       " 'Kolkata, Gurgaon/Gurugram, Bangalore/Bengaluru, Vadodara, Mumbai (All Areas)',\n",
       " '-',\n",
       " '-',\n",
       " '-',\n",
       " '-',\n",
       " '-',\n",
       " '-',\n",
       " '-',\n",
       " '-',\n",
       " '-',\n",
       " '-',\n",
       " 'Mumbai, Hyderabad/Secunderabad, Pune, Gurgaon/Gurugram, Chennai, Bangalore/Bengaluru',\n",
       " 'Kolkata, Gurgaon/Gurugram, Bangalore/Bengaluru, Vadodara, Mumbai (All Areas)',\n",
       " 'Noida, Hyderabad/Secunderabad, Bangalore/Bengaluru',\n",
       " 'Noida, Hyderabad/Secunderabad, Bangalore/Bengaluru',\n",
       " 'Bangalore/Bengaluru',\n",
       " 'Kochi/Cochin, Indore, Hyderabad/Secunderabad, Pune, Ahmedabad, Bangalore/Bengaluru, Mumbai (All Areas)',\n",
       " 'Bangalore/Bengaluru',\n",
       " 'Bangalore/Bengaluru',\n",
       " 'Bangalore/Bengaluru',\n",
       " 'Bangalore/Bengaluru',\n",
       " 'Mumbai, Hyderabad/Secunderabad, Pune, Gurgaon/Gurugram, Chennai, Bangalore/Bengaluru',\n",
       " 'Kolkata, Gurgaon/Gurugram, Bangalore/Bengaluru, Vadodara, Mumbai (All Areas)',\n",
       " 'Noida, Hyderabad/Secunderabad, Bangalore/Bengaluru',\n",
       " 'Noida, Hyderabad/Secunderabad, Bangalore/Bengaluru',\n",
       " 'Bangalore/Bengaluru',\n",
       " 'Kochi/Cochin, Indore, Hyderabad/Secunderabad, Pune, Ahmedabad, Bangalore/Bengaluru, Mumbai (All Areas)',\n",
       " 'Bangalore/Bengaluru',\n",
       " 'Bangalore/Bengaluru',\n",
       " 'Bangalore/Bengaluru',\n",
       " 'Bangalore/Bengaluru',\n",
       " 'Mumbai, Hyderabad/Secunderabad, Pune, Gurgaon/Gurugram, Chennai, Bangalore/Bengaluru',\n",
       " 'Kolkata, Gurgaon/Gurugram, Bangalore/Bengaluru, Vadodara, Mumbai (All Areas)',\n",
       " 'Noida, Hyderabad/Secunderabad, Bangalore/Bengaluru',\n",
       " 'Noida, Hyderabad/Secunderabad, Bangalore/Bengaluru',\n",
       " 'Bangalore/Bengaluru',\n",
       " 'Kochi/Cochin, Indore, Hyderabad/Secunderabad, Pune, Ahmedabad, Bangalore/Bengaluru, Mumbai (All Areas)',\n",
       " 'Bangalore/Bengaluru',\n",
       " 'Bangalore/Bengaluru',\n",
       " 'Bangalore/Bengaluru',\n",
       " 'Bangalore/Bengaluru',\n",
       " 'Mumbai, Hyderabad/Secunderabad, Pune, Gurgaon/Gurugram, Chennai, Bangalore/Bengaluru',\n",
       " 'Kolkata, Gurgaon/Gurugram, Bangalore/Bengaluru, Vadodara, Mumbai (All Areas)',\n",
       " 'Noida, Hyderabad/Secunderabad, Bangalore/Bengaluru',\n",
       " 'Noida, Hyderabad/Secunderabad, Bangalore/Bengaluru',\n",
       " 'Bangalore/Bengaluru',\n",
       " 'Kochi/Cochin, Indore, Hyderabad/Secunderabad, Pune, Ahmedabad, Bangalore/Bengaluru, Mumbai (All Areas)',\n",
       " 'Bangalore/Bengaluru',\n",
       " 'Bangalore/Bengaluru',\n",
       " 'Bangalore/Bengaluru',\n",
       " 'Bangalore/Bengaluru',\n",
       " 'Bangalore/Bengaluru',\n",
       " 'Hyderabad/Secunderabad, Bangalore/Bengaluru, Mumbai (All Areas)',\n",
       " 'Bangalore/Bengaluru',\n",
       " 'Bangalore/Bengaluru',\n",
       " 'Bangalore/Bengaluru',\n",
       " 'Bangalore/Bengaluru',\n",
       " 'Bangalore/Bengaluru',\n",
       " 'Bangalore/Bengaluru',\n",
       " 'Bangalore/Bengaluru',\n",
       " 'Bangalore/Bengaluru',\n",
       " 'Mumbai, Hyderabad/Secunderabad, Pune, Gurgaon/Gurugram, Chennai, Bangalore/Bengaluru',\n",
       " 'Kolkata, Gurgaon/Gurugram, Bangalore/Bengaluru, Vadodara, Mumbai (All Areas)',\n",
       " 'Noida, Hyderabad/Secunderabad, Bangalore/Bengaluru',\n",
       " 'Noida, Hyderabad/Secunderabad, Bangalore/Bengaluru',\n",
       " 'Bangalore/Bengaluru',\n",
       " 'Kochi/Cochin, Indore, Hyderabad/Secunderabad, Pune, Ahmedabad, Bangalore/Bengaluru, Mumbai (All Areas)',\n",
       " 'Bangalore/Bengaluru',\n",
       " 'Bangalore/Bengaluru',\n",
       " 'Bangalore/Bengaluru',\n",
       " 'Bangalore/Bengaluru']"
      ]
     },
     "execution_count": 78,
     "metadata": {},
     "output_type": "execute_result"
    }
   ],
   "source": [
    "location"
   ]
  },
  {
   "cell_type": "markdown",
   "metadata": {},
   "source": [
    "### Experience"
   ]
  },
  {
   "cell_type": "code",
   "execution_count": 58,
   "metadata": {},
   "outputs": [],
   "source": [
    "experience = []"
   ]
  },
  {
   "cell_type": "code",
   "execution_count": 60,
   "metadata": {},
   "outputs": [],
   "source": [
    "exp = pilot.find_elements_by_xpath(\"//li[@class = 'fleft grey-text br2 placeHolderLi experience']/span\")"
   ]
  },
  {
   "cell_type": "code",
   "execution_count": 62,
   "metadata": {},
   "outputs": [
    {
     "data": {
      "text/plain": [
       "[<selenium.webdriver.remote.webelement.WebElement (session=\"b4d95e6c76e90782fbfef17323a182b4\", element=\"2a85de7b-56fd-4d81-a4b5-83830f7fb08b\")>,\n",
       " <selenium.webdriver.remote.webelement.WebElement (session=\"b4d95e6c76e90782fbfef17323a182b4\", element=\"487a5f41-1083-4031-a596-d3d9812dc464\")>,\n",
       " <selenium.webdriver.remote.webelement.WebElement (session=\"b4d95e6c76e90782fbfef17323a182b4\", element=\"394bd653-cbe4-4465-a212-8a3240e07bee\")>,\n",
       " <selenium.webdriver.remote.webelement.WebElement (session=\"b4d95e6c76e90782fbfef17323a182b4\", element=\"0a0e6eda-3463-48ae-a91b-82d2a230b4f9\")>,\n",
       " <selenium.webdriver.remote.webelement.WebElement (session=\"b4d95e6c76e90782fbfef17323a182b4\", element=\"85f24261-0221-4572-b8ef-847156557b2e\")>,\n",
       " <selenium.webdriver.remote.webelement.WebElement (session=\"b4d95e6c76e90782fbfef17323a182b4\", element=\"b9ced96d-46c8-4171-8163-9a3107ebb4ef\")>,\n",
       " <selenium.webdriver.remote.webelement.WebElement (session=\"b4d95e6c76e90782fbfef17323a182b4\", element=\"f0c2de4c-b923-40d2-8b58-9e1e53a82677\")>,\n",
       " <selenium.webdriver.remote.webelement.WebElement (session=\"b4d95e6c76e90782fbfef17323a182b4\", element=\"79f9fc26-238b-4361-8793-87c61ef99b3a\")>,\n",
       " <selenium.webdriver.remote.webelement.WebElement (session=\"b4d95e6c76e90782fbfef17323a182b4\", element=\"40700051-e5e1-48ef-bd16-046998923f2f\")>,\n",
       " <selenium.webdriver.remote.webelement.WebElement (session=\"b4d95e6c76e90782fbfef17323a182b4\", element=\"48b78941-88bc-4929-8b5f-106be077dc16\")>,\n",
       " <selenium.webdriver.remote.webelement.WebElement (session=\"b4d95e6c76e90782fbfef17323a182b4\", element=\"4f6b4335-4109-417e-9131-668913ad4ed9\")>,\n",
       " <selenium.webdriver.remote.webelement.WebElement (session=\"b4d95e6c76e90782fbfef17323a182b4\", element=\"e7a1f171-ae3c-4d22-b06a-625759d3214b\")>,\n",
       " <selenium.webdriver.remote.webelement.WebElement (session=\"b4d95e6c76e90782fbfef17323a182b4\", element=\"e429f74f-c6f1-445d-84c5-55db39a54ece\")>,\n",
       " <selenium.webdriver.remote.webelement.WebElement (session=\"b4d95e6c76e90782fbfef17323a182b4\", element=\"0ef3c437-415a-4165-bf8e-0a86fa58b4e1\")>,\n",
       " <selenium.webdriver.remote.webelement.WebElement (session=\"b4d95e6c76e90782fbfef17323a182b4\", element=\"a719cf77-3770-4836-8d2d-44d57de1a590\")>,\n",
       " <selenium.webdriver.remote.webelement.WebElement (session=\"b4d95e6c76e90782fbfef17323a182b4\", element=\"acccd3d8-16ca-46ec-a9f4-eb8c11dd3723\")>,\n",
       " <selenium.webdriver.remote.webelement.WebElement (session=\"b4d95e6c76e90782fbfef17323a182b4\", element=\"4931b17e-40c7-466f-a240-cae1f8bea49f\")>,\n",
       " <selenium.webdriver.remote.webelement.WebElement (session=\"b4d95e6c76e90782fbfef17323a182b4\", element=\"8d985e4f-d7ce-424d-83ba-3c068996fd59\")>,\n",
       " <selenium.webdriver.remote.webelement.WebElement (session=\"b4d95e6c76e90782fbfef17323a182b4\", element=\"4a79df9a-f027-466c-9370-549f4a3bd3dc\")>,\n",
       " <selenium.webdriver.remote.webelement.WebElement (session=\"b4d95e6c76e90782fbfef17323a182b4\", element=\"1e9a2333-8a6b-4874-b06d-3c72cf398fba\")>]"
      ]
     },
     "execution_count": 62,
     "metadata": {},
     "output_type": "execute_result"
    }
   ],
   "source": [
    "exp"
   ]
  },
  {
   "cell_type": "code",
   "execution_count": 63,
   "metadata": {},
   "outputs": [],
   "source": [
    "for k in exp[:10]:\n",
    "    experience.append(k.text)"
   ]
  },
  {
   "cell_type": "code",
   "execution_count": 64,
   "metadata": {},
   "outputs": [
    {
     "data": {
      "text/plain": [
       "['0-3 Yrs',\n",
       " '3-7 Yrs',\n",
       " '5-8 Yrs',\n",
       " '5-8 Yrs',\n",
       " '5-10 Yrs',\n",
       " '1-3 Yrs',\n",
       " '4-7 Yrs',\n",
       " '6-8 Yrs',\n",
       " '6-10 Yrs',\n",
       " '5-8 Yrs']"
      ]
     },
     "execution_count": 64,
     "metadata": {},
     "output_type": "execute_result"
    }
   ],
   "source": [
    "experience"
   ]
  },
  {
   "cell_type": "markdown",
   "metadata": {},
   "source": [
    "### URLs"
   ]
  },
  {
   "cell_type": "code",
   "execution_count": 65,
   "metadata": {},
   "outputs": [],
   "source": [
    "urls = []\n",
    "\n",
    "for i in pilot.find_elements_by_xpath('//a[@class = \"title fw500 ellipsis\"]'):\n",
    "    urls.append(i.get_attribute('href'))"
   ]
  },
  {
   "cell_type": "code",
   "execution_count": 66,
   "metadata": {},
   "outputs": [
    {
     "data": {
      "text/plain": [
       "['https://www.naukri.com/job-listings-data-scientist-data-analyst-business-analyst-inflexion-analytix-private-limited-mumbai-hyderabad-secunderabad-pune-gurgaon-gurugram-chennai-bangalore-bengaluru-0-to-3-years-100521000368?src=jobsearchDesk&sid=16213321136007171&xp=1&px=1',\n",
       " 'https://www.naukri.com/job-listings-senior-data-scientist-modeling-nielsen-kolkata-gurgaon-gurugram-bangalore-bengaluru-vadodara-baroda-mumbai-all-areas-3-to-7-years-280421003878?src=jobsearchDesk&sid=16213321136007171&xp=2&px=1',\n",
       " 'https://www.naukri.com/job-listings-data-scientist-ibm-garage-ibm-india-pvt-limited-noida-hyderabad-secunderabad-bangalore-bengaluru-5-to-8-years-040521900448?src=jobsearchDesk&sid=16213321136007171&xp=3&px=1',\n",
       " 'https://www.naukri.com/job-listings-data-scientist-ibm-india-pvt-limited-noida-hyderabad-secunderabad-bangalore-bengaluru-5-to-8-years-030521900421?src=jobsearchDesk&sid=16213321136007171&xp=4&px=1',\n",
       " 'https://www.naukri.com/job-listings-senior-data-scientist-credit-risk-scienaptic-systems-bangalore-bengaluru-5-to-10-years-030521500996?src=jobsearchDesk&sid=16213321136007171&xp=5&px=1',\n",
       " 'https://www.naukri.com/job-listings-big-data-data-scientist-xoriant-solutions-pvt-ltd-kochi-cochin-indore-hyderabad-secunderabad-pune-ahmedabad-bangalore-bengaluru-mumbai-all-areas-1-to-3-years-130521005018?src=jobsearchDesk&sid=16213321136007171&xp=6&px=1',\n",
       " 'https://www.naukri.com/job-listings-specialist-i-data-scientist-philips-india-limited-bangalore-bengaluru-4-to-7-years-170521500993?src=jobsearchDesk&sid=16213321136007171&xp=7&px=1',\n",
       " 'https://www.naukri.com/job-listings-data-scientist-ibm-india-pvt-limited-bangalore-bengaluru-6-to-8-years-110521907352?src=jobsearchDesk&sid=16213321136007171&xp=8&px=1',\n",
       " 'https://www.naukri.com/job-listings-lead-data-scientist-intel-technology-india-pvt-ltd-bangalore-bengaluru-6-to-10-years-070521500578?src=jobsearchDesk&sid=16213321136007171&xp=9&px=1',\n",
       " 'https://www.naukri.com/job-listings-sde-lead-data-scientist-l3-huawei-technologies-india-pvt-ltd-bangalore-bengaluru-5-to-8-years-120521901434?src=jobsearchDesk&sid=16213321136007171&xp=10&px=1',\n",
       " 'https://www.naukri.com/job-listings-computational-design-lead-data-scientist-l3-huawei-technologies-india-pvt-ltd-bangalore-bengaluru-5-to-8-years-120521901329?src=jobsearchDesk&sid=16213321136007171&xp=11&px=1',\n",
       " 'https://www.naukri.com/job-listings-hiring-for-data-scientist-on-contract-basis-3-6-months-globaledx-learning-and-technology-solution-pvt-ltd-hyderabad-secunderabad-bangalore-bengaluru-mumbai-all-areas-3-to-8-years-170521003581?src=jobsearchDesk&sid=16213321136007171&xp=12&px=1',\n",
       " 'https://www.naukri.com/job-listings-senior-data-scientist-chatbot-nlp-gojek-tech-bangalore-bengaluru-3-to-7-years-060521500524?src=jobsearchDesk&sid=16213321136007171&xp=13&px=1',\n",
       " 'https://www.naukri.com/job-listings-senior-data-scientist-chatbot-nlp-go-jek-india-bangalore-bengaluru-5-to-10-years-050521500478?src=jobsearchDesk&sid=16213321136007171&xp=14&px=1',\n",
       " 'https://www.naukri.com/job-listings-senior-data-scientist-kinara-capital-kinara-financial-private-limited-bangalore-bengaluru-5-to-10-years-060521500976?src=jobsearchDesk&sid=16213321136007171&xp=15&px=1',\n",
       " 'https://www.naukri.com/job-listings-senior-data-scientist-marketing-analytics-hudsons-bay-company-bangalore-bengaluru-2-to-4-years-140521501771?src=jobsearchDesk&sid=16213321136007171&xp=16&px=1',\n",
       " 'https://www.naukri.com/job-listings-data-scientist-applied-materials-india-private-limited-bangalore-bengaluru-2-to-4-years-070521901521?src=jobsearchDesk&sid=16213321136007171&xp=17&px=1',\n",
       " 'https://www.naukri.com/job-listings-hiring-for-lead-data-scientist-for-bangalore-location-societe-generale-global-solution-centre-pvt-ltd-bangalore-bengaluru-5-to-9-years-130521000901?src=jobsearchDesk&sid=16213321136007171&xp=18&px=1',\n",
       " 'https://www.naukri.com/job-listings-principal-data-scientist-netapp-india-private-limited-bangalore-bengaluru-10-to-15-years-070521906988?src=jobsearchDesk&sid=16213321136007171&xp=19&px=1',\n",
       " 'https://www.naukri.com/job-listings-we-are-hiring-for-the-role-of-data-engineer-data-scientist-collabera-technologies-private-limited-bangalore-bengaluru-5-to-8-years-170521006288?src=jobsearchDesk&sid=16213321136007171&xp=20&px=1']"
      ]
     },
     "execution_count": 66,
     "metadata": {},
     "output_type": "execute_result"
    }
   ],
   "source": [
    "urls"
   ]
  },
  {
   "cell_type": "code",
   "execution_count": 67,
   "metadata": {},
   "outputs": [],
   "source": [
    "import time"
   ]
  },
  {
   "cell_type": "markdown",
   "metadata": {},
   "source": [
    "### Description and Job titles"
   ]
  },
  {
   "cell_type": "code",
   "execution_count": 68,
   "metadata": {},
   "outputs": [],
   "source": [
    "job_titles = []\n",
    "description = []"
   ]
  },
  {
   "cell_type": "code",
   "execution_count": 69,
   "metadata": {},
   "outputs": [],
   "source": [
    "for i in urls[:10]:\n",
    "    pilot.get(i)\n",
    "    time.sleep(3)\n",
    "    \n",
    "    #Fetching the job title\n",
    "    try:\n",
    "        job = pilot.find_element_by_xpath(\"//h1[@class = 'jd-header-title']\")\n",
    "        job_titles.append(job.text)\n",
    "    except:\n",
    "        job_titles.append('-')\n",
    "        \n",
    "    #Fetching the desription\n",
    "    try:\n",
    "        desc = pilot.find_element_by_xpath(\"//section[@class = 'job-desc']\")\n",
    "        description.append(desc.text)\n",
    "    except:\n",
    "        description.append('-')"
   ]
  },
  {
   "cell_type": "code",
   "execution_count": 70,
   "metadata": {},
   "outputs": [
    {
     "data": {
      "text/plain": [
       "['Data Scientist / Data Analyst -Business Analyst',\n",
       " 'Senior Data Scientist, Modeling',\n",
       " '-',\n",
       " '-',\n",
       " 'Senior Data Scientist - Credit risk',\n",
       " '-',\n",
       " 'Specialist I - Data Scientist',\n",
       " '-',\n",
       " 'Lead Data Scientist',\n",
       " 'SDE Lead Data Scientist-L3']"
      ]
     },
     "execution_count": 70,
     "metadata": {},
     "output_type": "execute_result"
    }
   ],
   "source": [
    "job_titles"
   ]
  },
  {
   "cell_type": "code",
   "execution_count": 71,
   "metadata": {},
   "outputs": [
    {
     "data": {
      "text/plain": [
       "[\"Job description\\nJob Role : Data Scientist/Data Analyst /Business Analyst\\n\\nLocation : Chennai/Bangalore/Hyderabad/Pune/Mumbai/Delhi\\n\\nGreetings from CAIA - Center for Artificial Intelligence & Advanced Analytics\\n43% of companies experienced a high deficit of skilled resources with Advanced Analytical skills and AI implementing capabilities in year 2020. CAIA gives you a great opportunity to enter the world of future technologies and Innovations- Data Science, Analytics, AI, Data Visualization and Cloud Computing.\\n\\nWhile 2020 was a year like no other, we are living in an interesting times where data is reshaping the world, and businesses are rapidly adopting technology to gain an edge over others. Hence, there's a substantial increase in demand for technology professionals who can implement systems in data science, machine learning and AI in Tier 1 and Tier 2 organization's working closely with us.\\n\\nTo help you build a sustainable career we would like you to utilize data, software and Analytical approaches in Data Science and AI to up skill and get recruited into an organization appreciating your skilling journey.\\nApplications invited from all Freshers and experienced candidates (0-3 yrs) aspiring to make a career in Artificial Intelligence and Advanced Analytics and Data Science.\\nIf you wish to make a shift in your career or undergo a career transition, upskilling is essential since it allows you to learn more about the domain and acquire the required skills.\\n\\nCall to schedule interview Monday -Saturday from 10:00 am to 7Pm\\n\\nManigandan -+91 7299917200\\n\\nEmail : manigandan@centerforaia.com\\n\\nWhat is needed from you?\\n\\nFreshers who wish to start their career in Analytics and AI and professionals who wish to\\nupskill or change their domain to analytics and emerging technologies are free to apply.\\nAn Educational background in any one of the following- BE/B.Tech, ME/M Tech, MSc, BSc/MSc Maths and Statistics, B Com, BCA, BSc CS, BSC IT, MSC IT, MCA\\nSkills relating to Mathematics/Statistics.\\nNatural passion towards numbers, business, coding, Analytics and Artificial Intelligence, Machine Learning, visualization\\nGood verbal and written communication skills\\nAbility to understand domains in businesses across various sectors\\n\\n\\nSelection procedure includes\\n\\nAptitude Test & Communication Exam - Online / Offline\\nSQL/Python test - Online / Offline\\n\\nCandidates who clears the above will have one-one discussion with our Career Guidance Manager for further evaluation and processing of your Resume.\\n\\n\\nAll the Shortlisted candidates will be eligible to continue the corporate training with CAIA\\nWhat you can expect from us?\\n\\nYou will get trained on the following modules for a period of 12-14 weeks:\\n\\nSQL & PLSQL\\nData Wrangling using Python\\nData Visualization Using Power-BI\\nStatistics for Machine Learning\\nArtificial Intelligence, Data Interpretation\\nSupervised & Unsupervised Learning,\\nNLP & Deep Learning\\nCloud Data Lake\\nBusiness intelligence & Data Visualization\\nSimulation Projects\\nExpected Outcome?\\n\\nAt the end of the Training you are expected to be well versed with the following:\\n\\nAnalysis of large and complex data sets from multiple sources\\nDevelopment and evaluation of data analytics models, algorithms and solutions\\nUnderstanding/implementation of ML algorithms, performance tuning and reporting\\nImplementation of algorithms to mine targeted data and the ability to convert data in to a business story\\nTranslation of business requirements into technical requirements; Data extraction, preparation and transformation\\nIdentification, development and implementation of statistical techniques and algorithms that address business challenges and adds value to the organization\\nRequirement Analysis and communication of findings in the form of a meaningful story with the stakeholders\\nFinding analytical solutions to abstract business issues.\\nApply objective analysis of facts before coming to a conclusion\\n\\nAbout CAIA - Inflexion Analytix Private Limited\\n\\nCenter for Artificial Intelligence and Advanced Analytics (Center for AIA) is the brainchild of experienced and visionary alumni of IIT Madras and Bombay.\\nDigital leaders - 5F World and Systech Solutions have joined hands to create a venture for architecting the future of society, workforce, governments and businesses. 5F World specializes in designing solutions around digital platforms and Systech Solutions has an expertise in architecting Artificial Intelligence and Advance Analytics solutions for Fortune 500 companies.\\nOur Website : http://www.centerforaia.com/\\n\\nhttps://inflexion-analytix-private-limited.business.site/?m=true\\n\\nCenter for Artificial Intelligence & Advanced Analytics (CAIA) focuses on the following:\\n\\n1. Global Research on emerging trends, technologies and applications in AI and Advanced Analytics\\n2. Advanced Training programs for readying the future ready workforce\\n3. Solutions to herald the futuristic lifestyle and workspaces in the field of AI and Data Science.\\nRoleData Analyst\\nIndustry TypeBPO / Call Centre\\nFunctional AreaAnalytics & Business Intelligence\\nEmployment TypeFull Time, Permanent\\nRole CategoryAnalytics & BI\\nEducation\\nUG :Any Graduate in Any Specialization\\nKey Skills\\nBusiness IntelligenceArtificial IntelligenceBig DataITMachine LearningStatisticsDeep LearningAnalyticsBusiness AnalysisSQLData ScienceNLPCloud ComputingData VisualizationSoftwareData WarehousingPython\",\n",
       " 'Job description\\nWe wont say we can predict the future, but our team of Analysts get pretty close, they turn millions of data points into useful information & insights that help our clients to make better decisions on their marketing mix and achieve superior results. Be part of the future and join in on one of the major transformations in the market research industry with the integration of big data and classic marketing mix analysis.\\n\\nResponsibilities:\\nDeliver as a part of our consultant team in driving high quality results on custom project work\\nEnsure effective and timely delivery of project work\\nWork towards understanding statistical models and deliver business insights and findings\\nEnsure compliance to Marketing Mix Modeling modeling practices and company quality standards\\nMaximize the efficient and effective use of resources by utilizing appropriate processes and tools\\nTo build and maintain effective contacts with other departments to ensure the efficient and effective use of resources\\nLiaise with appropriate Marketing Mix Modeling and Nielsen departments to ensure hardware and software requirements are fulfilled\\nWork with co/ third party modellers to deliver business insights and findings\\n\\nQualifications and Skills\\n2-5 years of relevant experience\\nMasters degree in Economics, Mathematics, Statistics, Engineering\\nIn-depth understanding of statistical modeling techniques and applications\\nGood and working knowledge of any statistical languages like SAS, R, Pythons\\nSolid proficiency of decision making and problem resolution skills\\nPassion for results with a challenger mindset\\n\\nAbout the Team:\\nGlobal Product, Technology & Operations supports Nielsen Medias growth strategy by enabling positive client and market solutions. Our Operations Team is in a unique position as the center of data collection, analysis and delivery. We deliver outcomes with the highest quality and integrity standards in an agile and transparent way while standing by our Nielsen values.\\n\\n\\nRoleBusiness Analyst\\nIndustry TypeAnalytics / KPO / Research\\nFunctional AreaStrategy, Management Consulting, Corporate Planning\\nEmployment TypeFull Time, Permanent\\nRole CategoryCorporate Planning/Consulting/Strategy\\nEducation\\nPG :M.A in Economics, MBA/PGDM in Any Specialization, MS/M.Sc(Science) in Statistics, Maths\\nKey Skills\\nPredictive ModelingSASSegmentationK-MeansStatisticsOptimizationRandom ForestRMarketing Mix ModelingLinear RegressionStatistical ModelingBusiness InsightsMarket Research',\n",
       " '-',\n",
       " '-',\n",
       " 'Job description\\n\\nResponsibilities and duties Focus on developing clear and concise analytical approach for problem solving with client partnership\\nStrong understanding of ML libraries and applications e.g. Neural Net, SVMs, boosting methods and implementation using R/Python. Should have academic paper level understanding of math e.g. linear algebra, calculus etc.\\nAbility to code on SAS/R for data munging, analysis and insights and/or languages like Python for creating efficient production ready code\\nManaging delivery of projects including timely communication, setting milestones and tracking Generating actionable insights for business/KPI improvements Ability to work independently, structure analyses and handle multiple priorities Develop and Maintaining Credit Risk Models Strategies Rich experience in at least one production ready deployment of Machine Learning algorithms is a plus. Experience in working on real life large messy dataset to solve real business problems. Kaggle experience is a plus.\\n  Skills Competencies: Experience in Financial Services/ Fintech/ BFSI along with Credit Risk in Retail Banking and Data Science 5 years of experience in building predictive models (Application Scorecard, Behaviour Scorecard, Collection Score Card, Loan Pricing, Loss Forecasting, Cross Sell Model) Experienced Statistical software skills (e.g. SAS, R, Python Strong understanding of ML libraries and applications. Strong experience in leading credit risk model development, validation, deployment, and documentation Analytically oriented with ability to grasp complex risk management strategies, processes, models and draw insights / identify areas of opportunity\\nStrong track record of delivering on high value / critical projects. Ability to communicate with senior stakeholders crisply and confidently on findings, status, bottlenecks, and escalations\\nProven track record of delivering in a start-up environment would be a plus Strong written and oral communication skills\\nRoleOutside Technical Consultant\\nIndustry TypeIT Services & Consulting\\nFunctional AreaIT Software - System Programming\\nEmployment TypeFull Time, Permanent\\nRole CategorySystem Design/Implementation/ERP/CRM\\nEducation\\nUG :Any Graduate in Any Specialization\\nPG :Post Graduation Not Required\\nKey Skills\\nCVSBfsiAnalyticalMachine learningCredit riskData miningRisk managementForecastingFinancial servicesPython',\n",
       " '-',\n",
       " 'Job description\\nResponsibilities and Key Result Areas\\nDesign and develop project prototypes and solutions.\\nParticipate in project estimation, planning and risk management activities\\nIs responsible for delivering input in the planning process to the project leader\\nEnsures that there is proper documentation for the developed solutions.\\nEnsure compliance to the Quality Management System and regulatory requirements\\nKey Technical Skills:\\n4 - 7 yrs years of experience in data science\\nDeveloped Proficient in algorithms on regression modelling (linear/logistic), supervised and unsupervised classification,\\ntree-based techniques (Decision trees /Random forest), neural nets, bagging, Pattern Mining and boosting techniques, etc.\\nProficient and hands on experience in developing models using concepts of Artificial Intelligence,\\nMachine Learning and Deep Learning related technologies (such as Keras, TensorFlow, pyTorch, Azure ML, AWS ML, Scikit, Jupyter, MatLab etc.)\\nExperience with containers like Docker is added advantage\\nExperience in Sql\\nWorking experience in agile/SAFe development methodologies\\nSoft Skill set:\\nFast learner. Ability to grasp key concepts quickly with minimal or no supervision\\nGo-Getter Attitude. Ability to take ownership of team goals and deliver it with quality and within required timeline\\nTeam Player attitude. Key characteristic of the individual who puts the team first before self.\\nAbility to think out of box: Ability to come up with bright ideas and always looking at the next big thing in technology\\nFlexible and willingness to stretch oneself when needed.\\nRoleSoftware Developer\\nIndustry TypeMedical Services / Hospital\\nFunctional AreaIT Software - Application Programming, Maintenance\\nEmployment TypeFull Time, Permanent\\nRole CategoryProgramming & Design\\nEducation\\nUG :Any Graduate in Any Specialization\\nPG :Post Graduation Not Required\\nKey Skills\\nMiningdeep learningdata scienceArtificial IntelligenceMachine learningAgileHTMLRisk managementMATLABSQL',\n",
       " '-',\n",
       " 'Job description\\n\\n\\nWe are seeking an outstanding Lead Data Scientist in AI/ML who will help our team continue to grow and bring high value to Intel. In this role you should demonstrate excellent problem formulation/definition skills in addition to technical skills. The ideal candidate should be:\\n\\nA professional role model with deep and wide expertise in state-of-the-art AI/ML techniques, a passion for solving challenging data science problems and extensive hands-on experience.\\nBe detail-oriented and have an aptitude for solving unstructured problems. You should be excellent in coming up with different approaches to solve business problem using AI and evaluate the trade-off between them.\\nBe self-directed, take charge of opportunities with business impact and drive them to completion.\\nHave prior experience in guiding a team of data scientists, coaching and mentoring them.\\nHave deep technical expertise in feature-engineering of massive datasets, effective exploratory data analysis, and model building using AI/ML techniques.\\nBe a role model innovator by adapting new AI/ML modeling techniques and procedures.\\nHave deep expertise in creation and management of datasets.\\nHave excellent business and communication skills to be able to work with stakeholders like the business teams, engineering teams and partner teams and align them with respect to your focus area.\\nHave the ability to manage and execute an entire AI project from start to finish, including problem solving, data gathering and manipulation, predictive modeling, and project management skills.\\nBe a role-model in storytelling with data and articulating the AI problems in an understandable manner to senior leadership of the Business Units.\\n\\nYou will be a part of the large global AI/ML Research Scientist community and will have access to state-of-the-art training, tools, and methods of the domain.\\n\\n\\nCandidates need to hold at least a masters degree (or higher) in Computer Science/Machine Learning/AI/Data Science\\n8 years of relevant experience in building AI/ML models and in using Python (Scikit-learn, TensorFlow/Pytorch) and SQL (or equivalent).\\nExperience in using data analysis techniques and ML methods like classification, regression pattern finding, clustering, dimensionality reduction, anomaly detection etc.\\nExperience with Hadoop, Spark is an advantage\\nDeep Knowledge of classical AI algorithms and Deep Learning techniques is a must.\\nGreat analytical skills and demonstrated ability of independent and creative thinking.\\nHighly motivated strong team player with the ability to work both independently and collaboratively within a team.\\nHas strong analytical skills, including the abilities to scope out business problems to be solved, start from ambiguous problem statements, identify and access relevant data, make appropriate assumptions, perform insightful analysis and draw conclusions relevant to the business problem.\\nAbility to present information professionally and concisely with supporting data.\\nPrevious experience as a data scientist in semi-conductor industry or data intensive organizations is a plus.\\nExperience in creating powerful data driven visualizations to describe ML modeling results to stakeholders.\\nRoleTeam Lead/Technical Lead\\nIndustry TypeIT Services & Consulting\\nFunctional AreaIT Software - Application Programming, Maintenance\\nEmployment TypeFull Time, Permanent\\nRole CategoryProgramming & Design\\nEducation\\nUG :Any Graduate in Any Specialization\\nPG :Any Postgraduate in Any Specialization\\nKey Skills\\nComputer scienceData analysisFormulationArtificial IntelligenceMachine learningSignal processingPredictive modelingForecastingSQLPython',\n",
       " 'Job description\\nBusiness & Team overview:\\nFounded in 1987, Huawei is a leading global provider of ICT (information and communications technology) infrastructure and smart devices. We are committed to bringing digital to every person, home and organization for a fully connected, intelligent world. We have nearly 194,000 employees, and we operate in more than 170 countries and regions, serving more than 3 billion people around the world.\\n\\nHuawei Technologies has three business directions: Carrier Business Group, which provides innovative and secure network equipment to telecom carriers, including the leading 5G mobile network.\\nEnterprise Business Group, which provides facilities and solutions to big and small companies, including IT facilities.\\nConsumer Business Groups, which provides devices to the customer, including mobile phones, PC, tablet, TV, audio, glasses, watches, locomotives, and headphones. And also provide solutions on mobile offices, smart homes, sports and health, audio-visual entertainment, and smart travel products.\\n\\nThis opportunity is belong to Huawei Consumer Business Group.\\n\\nDriven by the coordinated development of \"Chip-Device-Cloud\", consumer products such as smartphones are becoming increasingly intelligent and pervasive. The era of smart services is the future.\\n\\nHuawei Ads Services is dedicated to provide Huawei end-users with high-quality digital experiences, to build a business closed-loop system for Developers and Improve the ROI for the Advertisers\\n.\\nIn 2020 Q1, along with more than 650 million users and 1,400,000 registered developers worldwide, we have the following unique advantages:\\n1. With All-scenario intelligent solution, the Huawei devices become super entrance of traffic, including mobile phones, PC, tablet, TV, audio, glasses, watches, locomotives, and head phones\\n2. This team will be responsible for building a new Ad Serving Platform and have the opportunity to define the product for our Huawei end-users.\\n3. AI-Driven is the direction of Ads, Huawei is going to build a strong team in India to Innovate and deliver AI-driven Smart Ad Serving Platforms\\n\\nJob Title: Lead Data Scientist\\nWe are looking for a Lead data scientist who will help us discover the information hidden in vast amounts of Ad Campaign data, and help us to optimize the campaign to improve the advertiser ROI and improve the overall consumer experience. Your primary focus will be in applying data mining techniques, doing statistical analysis, and building high quality prediction systems using Deep learning algorithms integrated with our products. Some the key area you will be working on spend recommendation, floor price prediction, CTR/CVR prediction, market funnel analysis and perdition of lead to conversion, etc.\\n\\nResponsibility:\\nAnalyze the data, develop insights and identify the opportunity to utilize the data to predict various Advertisement key indicators like CTR, CVR, Inventory and Develop prediction and optimization algorithms for campaign, look alike modeling, etc for Huawei Ads.\\nTakeup key challenges in AI-driven Smart Ad Serving Platform and focus on research and developing leading AI algorithms and productionize for Huawei Ads.\\nTakeup initiative in identifying the SOTA and finding key gaps in AI algorithms and develop a world leading AI algorithms for optimizing real-time Ad Serving engine. Identify and optimize the core modules such as Traffic Prediction, Optimization, Ad Targeting/Re-targeting, Ad Performance Optimization, Audience insights, Attribution, Bidding, re-ranking, and Diagnostics. Support hundreds of billions of ad requests per day, with efficiently cache technology.\\nTo build and enhance Ad platform features and Prediction capabilities in Huawei Ads Platform\\nOptimized Cost Per Mille; Optimized Cost Per Action; Optimized Cost Per Click and Cost per Click. OCPM, OCPA, OCPC.\\n\\nRequirements:\\n- Strong hands-on experience in implementing and validating big data algorithms and models including Deep Learning models like Seq2Seq/ GRU/RNN/LSTM , Knowledge Graph, Massive Graph algorithms, etc.\\n- Programming experience with Python\\n- Able to validate existing models including Deep Learning models with large scale dataset and able to make changes to the models to achieve better performance\\n- AdServing domain Experience is an added advantage\\nRoleAnalytics Manager\\nIndustry TypeTelecom / ISP\\nFunctional AreaAnalytics & Business Intelligence\\nEmployment TypeFull Time, Permanent\\nRole CategoryAnalytics & BI\\nEducation\\nUG :Any Graduate in Any Specialization\\nPG :Any Postgraduate in Any Specialization\\nKey Skills\\nRnnAlgorithmsLstmArtificial IntelligenceData ScientistBig DataData MiningStatistical AnalysisDeep LearningPython']"
      ]
     },
     "execution_count": 71,
     "metadata": {},
     "output_type": "execute_result"
    }
   ],
   "source": [
    "description"
   ]
  },
  {
   "cell_type": "code",
   "execution_count": 79,
   "metadata": {},
   "outputs": [],
   "source": [
    "import pandas as pd\n",
    "jobs = pd.DataFrame({})\n",
    "jobs['titles'] = job_titles\n",
    "jobs['companies'] = companies\n",
    "jobs['experience'] = experience\n",
    "jobs['description'] = description"
   ]
  },
  {
   "cell_type": "code",
   "execution_count": 586,
   "metadata": {},
   "outputs": [
    {
     "data": {
      "text/html": [
       "<div>\n",
       "<style scoped>\n",
       "    .dataframe tbody tr th:only-of-type {\n",
       "        vertical-align: middle;\n",
       "    }\n",
       "\n",
       "    .dataframe tbody tr th {\n",
       "        vertical-align: top;\n",
       "    }\n",
       "\n",
       "    .dataframe thead th {\n",
       "        text-align: right;\n",
       "    }\n",
       "</style>\n",
       "<table border=\"1\" class=\"dataframe\">\n",
       "  <thead>\n",
       "    <tr style=\"text-align: right;\">\n",
       "      <th></th>\n",
       "      <th>Product Name</th>\n",
       "      <th>Rating</th>\n",
       "      <th>Price</th>\n",
       "    </tr>\n",
       "  </thead>\n",
       "  <tbody>\n",
       "    <tr>\n",
       "      <th>0</th>\n",
       "      <td>ASUS ROG G703GI-E5148T 17.3\" (43.94 cms) FHD 1...</td>\n",
       "      <td>3.7</td>\n",
       "      <td>4,13,890</td>\n",
       "    </tr>\n",
       "    <tr>\n",
       "      <th>1</th>\n",
       "      <td>Lenovo Legion 7 10th Gen Intel Core i9 15.6 in...</td>\n",
       "      <td>3.7</td>\n",
       "      <td>2,62,990</td>\n",
       "    </tr>\n",
       "    <tr>\n",
       "      <th>2</th>\n",
       "      <td>ASUS ZenBook Pro Duo Intel Core i9-10980HK 10t...</td>\n",
       "      <td>3.8</td>\n",
       "      <td>2,79,990</td>\n",
       "    </tr>\n",
       "    <tr>\n",
       "      <th>3</th>\n",
       "      <td>(Renewed) Dell XPS 9570 Laptop|i9-8950HK|32GB ...</td>\n",
       "      <td>-</td>\n",
       "      <td>1,89,900</td>\n",
       "    </tr>\n",
       "    <tr>\n",
       "      <th>4</th>\n",
       "      <td>Dell XPS 9570 15.6\" (39.62cms) UHD Laptop (8th...</td>\n",
       "      <td>2.4</td>\n",
       "      <td>2,49,990</td>\n",
       "    </tr>\n",
       "    <tr>\n",
       "      <th>5</th>\n",
       "      <td>HP Omen X 2S Core i9 9th Gen 15.6-inch Dual Sc...</td>\n",
       "      <td>4.5</td>\n",
       "      <td>3,45,900</td>\n",
       "    </tr>\n",
       "    <tr>\n",
       "      <th>6</th>\n",
       "      <td>ASUS ZenBook Pro Duo UX581 Intel Core i9 9th G...</td>\n",
       "      <td>3.8</td>\n",
       "      <td>2,79,990</td>\n",
       "    </tr>\n",
       "    <tr>\n",
       "      <th>7</th>\n",
       "      <td>Dell G7 7500 15.6inch FHD 300 Hz Display Gamin...</td>\n",
       "      <td>3.4</td>\n",
       "      <td>2,00,690</td>\n",
       "    </tr>\n",
       "    <tr>\n",
       "      <th>8</th>\n",
       "      <td>ASUS ROG Strix Scar 17 (2020), 17.3\" FHD 300Hz...</td>\n",
       "      <td>4.8</td>\n",
       "      <td>2,78,139</td>\n",
       "    </tr>\n",
       "    <tr>\n",
       "      <th>9</th>\n",
       "      <td>(Renewed) ASUS UX581LV-H2035T ZenBook Pro Duo ...</td>\n",
       "      <td>-</td>\n",
       "      <td>2,07,992</td>\n",
       "    </tr>\n",
       "  </tbody>\n",
       "</table>\n",
       "</div>"
      ],
      "text/plain": [
       "                                        Product Name Rating     Price\n",
       "0  ASUS ROG G703GI-E5148T 17.3\" (43.94 cms) FHD 1...    3.7  4,13,890\n",
       "1  Lenovo Legion 7 10th Gen Intel Core i9 15.6 in...    3.7  2,62,990\n",
       "2  ASUS ZenBook Pro Duo Intel Core i9-10980HK 10t...    3.8  2,79,990\n",
       "3  (Renewed) Dell XPS 9570 Laptop|i9-8950HK|32GB ...      -  1,89,900\n",
       "4  Dell XPS 9570 15.6\" (39.62cms) UHD Laptop (8th...    2.4  2,49,990\n",
       "5  HP Omen X 2S Core i9 9th Gen 15.6-inch Dual Sc...    4.5  3,45,900\n",
       "6  ASUS ZenBook Pro Duo UX581 Intel Core i9 9th G...    3.8  2,79,990\n",
       "7  Dell G7 7500 15.6inch FHD 300 Hz Display Gamin...    3.4  2,00,690\n",
       "8  ASUS ROG Strix Scar 17 (2020), 17.3\" FHD 300Hz...    4.8  2,78,139\n",
       "9  (Renewed) ASUS UX581LV-H2035T ZenBook Pro Duo ...      -  2,07,992"
      ]
     },
     "execution_count": 586,
     "metadata": {},
     "output_type": "execute_result"
    }
   ],
   "source": [
    "jobs"
   ]
  },
  {
   "cell_type": "markdown",
   "metadata": {},
   "source": [
    "## Q3"
   ]
  },
  {
   "cell_type": "code",
   "execution_count": 102,
   "metadata": {},
   "outputs": [],
   "source": [
    "chauffeur = webdriver.Chrome(\"chromedriver.exe\")"
   ]
  },
  {
   "cell_type": "code",
   "execution_count": 103,
   "metadata": {},
   "outputs": [],
   "source": [
    "url = 'https://www.naukri.com'\n",
    "chauffeur.get(url)"
   ]
  },
  {
   "cell_type": "code",
   "execution_count": 104,
   "metadata": {},
   "outputs": [
    {
     "data": {
      "text/plain": [
       "<selenium.webdriver.remote.webelement.WebElement (session=\"04c73e84e133a7b1291d7d9273e5fce7\", element=\"c3edfb91-e994-4e2e-9d86-d1446b2f1da2\")>"
      ]
     },
     "execution_count": 104,
     "metadata": {},
     "output_type": "execute_result"
    }
   ],
   "source": [
    "search_job = chauffeur.find_element_by_id('qsb-keyword-sugg')\n",
    "search_job"
   ]
  },
  {
   "cell_type": "code",
   "execution_count": 105,
   "metadata": {},
   "outputs": [],
   "source": [
    "search_job.send_keys('Data Scientist')"
   ]
  },
  {
   "cell_type": "code",
   "execution_count": 106,
   "metadata": {},
   "outputs": [],
   "source": [
    "#Click using xpath fucntion\n",
    "\n",
    "search_btn = chauffeur.find_element_by_xpath(\"//button[@class='btn']\") #(\"//tagname[@AttributeName = 'Attribute value']\")\n",
    "search_btn.click()"
   ]
  },
  {
   "cell_type": "code",
   "execution_count": 107,
   "metadata": {},
   "outputs": [],
   "source": [
    "#Click on delhi filter box\n",
    "\n",
    "chauffeur.find_element_by_xpath(\"//div[@class = 'filterOptns']/div[2]\").click()"
   ]
  },
  {
   "cell_type": "code",
   "execution_count": 111,
   "metadata": {},
   "outputs": [],
   "source": [
    "#(\"//div[@class = 'filters']/label[6]\")\n",
    "\n",
    "chauffeur.find_element_by_xpath(\"/html/body/div[1]/div[3]/div[2]/section[1]/div[2]/div[3]/div[2]/div[2]/label/i\").click()"
   ]
  },
  {
   "cell_type": "markdown",
   "metadata": {},
   "source": [
    "### Job Titles"
   ]
  },
  {
   "cell_type": "code",
   "execution_count": 112,
   "metadata": {},
   "outputs": [
    {
     "data": {
      "text/plain": [
       "[<selenium.webdriver.remote.webelement.WebElement (session=\"04c73e84e133a7b1291d7d9273e5fce7\", element=\"79f30872-9f24-49c5-b1bd-1260dba001de\")>,\n",
       " <selenium.webdriver.remote.webelement.WebElement (session=\"04c73e84e133a7b1291d7d9273e5fce7\", element=\"8234b0d7-5927-428f-ae9f-7464530dd26d\")>,\n",
       " <selenium.webdriver.remote.webelement.WebElement (session=\"04c73e84e133a7b1291d7d9273e5fce7\", element=\"86f5174c-0caf-4edd-a625-37964062fa0a\")>,\n",
       " <selenium.webdriver.remote.webelement.WebElement (session=\"04c73e84e133a7b1291d7d9273e5fce7\", element=\"37017805-87e7-491e-a7e9-561827193551\")>,\n",
       " <selenium.webdriver.remote.webelement.WebElement (session=\"04c73e84e133a7b1291d7d9273e5fce7\", element=\"69ad4b44-beea-4faf-b784-0e17f5c23f75\")>,\n",
       " <selenium.webdriver.remote.webelement.WebElement (session=\"04c73e84e133a7b1291d7d9273e5fce7\", element=\"889a2c5f-9164-45d6-a6e9-e30a6a0cf0f3\")>,\n",
       " <selenium.webdriver.remote.webelement.WebElement (session=\"04c73e84e133a7b1291d7d9273e5fce7\", element=\"050d83d1-88fe-4eee-9018-2994fdeaa477\")>,\n",
       " <selenium.webdriver.remote.webelement.WebElement (session=\"04c73e84e133a7b1291d7d9273e5fce7\", element=\"08a4517c-ec06-44eb-a208-ad43346d4582\")>,\n",
       " <selenium.webdriver.remote.webelement.WebElement (session=\"04c73e84e133a7b1291d7d9273e5fce7\", element=\"94c27732-6c1b-4684-95a6-3b3465e76c3d\")>,\n",
       " <selenium.webdriver.remote.webelement.WebElement (session=\"04c73e84e133a7b1291d7d9273e5fce7\", element=\"733270d4-110f-4a46-8001-c84479221afc\")>,\n",
       " <selenium.webdriver.remote.webelement.WebElement (session=\"04c73e84e133a7b1291d7d9273e5fce7\", element=\"7e0c3974-5462-4c8a-90e6-14eaa7b71d72\")>,\n",
       " <selenium.webdriver.remote.webelement.WebElement (session=\"04c73e84e133a7b1291d7d9273e5fce7\", element=\"ef9448e8-a18e-437d-9f0b-3a9325050b45\")>,\n",
       " <selenium.webdriver.remote.webelement.WebElement (session=\"04c73e84e133a7b1291d7d9273e5fce7\", element=\"d13a2fde-dc74-42be-9cc1-120c8a8a5eb8\")>,\n",
       " <selenium.webdriver.remote.webelement.WebElement (session=\"04c73e84e133a7b1291d7d9273e5fce7\", element=\"62a768c7-9f0c-4854-a2ff-93ede410d248\")>,\n",
       " <selenium.webdriver.remote.webelement.WebElement (session=\"04c73e84e133a7b1291d7d9273e5fce7\", element=\"f123e230-8c18-4a15-bdcc-166c1c84fd2a\")>,\n",
       " <selenium.webdriver.remote.webelement.WebElement (session=\"04c73e84e133a7b1291d7d9273e5fce7\", element=\"547e9688-8a6e-4098-aad4-50b637fd87d4\")>,\n",
       " <selenium.webdriver.remote.webelement.WebElement (session=\"04c73e84e133a7b1291d7d9273e5fce7\", element=\"2424e2bd-b408-4a2b-9446-112391fd1578\")>,\n",
       " <selenium.webdriver.remote.webelement.WebElement (session=\"04c73e84e133a7b1291d7d9273e5fce7\", element=\"b7712bab-dbaa-4dc6-9fd8-80c518c33592\")>,\n",
       " <selenium.webdriver.remote.webelement.WebElement (session=\"04c73e84e133a7b1291d7d9273e5fce7\", element=\"dfe23891-1307-46a1-9148-4c489628aee6\")>,\n",
       " <selenium.webdriver.remote.webelement.WebElement (session=\"04c73e84e133a7b1291d7d9273e5fce7\", element=\"f545d90a-7de1-4505-982c-3c1fc1eee7b7\")>]"
      ]
     },
     "execution_count": 112,
     "metadata": {},
     "output_type": "execute_result"
    }
   ],
   "source": [
    "#Let's extract all the tags having the job titles.\n",
    "\n",
    "titles = chauffeur.find_elements_by_xpath(\"//a[@class = 'title fw500 ellipsis']\") #'elements' word is used to get all the relevant titles\n",
    "titles"
   ]
  },
  {
   "cell_type": "code",
   "execution_count": 113,
   "metadata": {},
   "outputs": [],
   "source": [
    "job_titles = []"
   ]
  },
  {
   "cell_type": "code",
   "execution_count": 114,
   "metadata": {},
   "outputs": [],
   "source": [
    "for i in titles:\n",
    "    job_titles.append(i.text)"
   ]
  },
  {
   "cell_type": "code",
   "execution_count": 115,
   "metadata": {},
   "outputs": [
    {
     "data": {
      "text/plain": [
       "['Data Scientist / Data Analyst -Business Analyst',\n",
       " 'Data Scientist',\n",
       " 'Business Analyst- Data Scientist',\n",
       " 'Data Scientist - High growth VC backed Influencer Marketplace',\n",
       " 'Excellent opportunity For Data Scientist',\n",
       " 'Data Scientist',\n",
       " 'DATA Scientist – Gurgaon (Exp 3-6 years)',\n",
       " 'DATA Scientist – Gurgaon (Exp 3-6 years)',\n",
       " 'Data Scientist - Noida',\n",
       " 'Data Scientist - Python & Machine Learning',\n",
       " 'Data Scientist - Python & Machine Learning',\n",
       " \"Data Scientist - Noida/ B'lore\",\n",
       " 'Data Scientist - Python / Machine Learning / Tableau / Power BI',\n",
       " 'Data Scientist - Python & Machine Learning',\n",
       " 'Data Scientist',\n",
       " 'Data Scientist - Python / Machine Learning / Tableau / Power BI',\n",
       " 'Data Scientist - Python & Machine Learning (ISO 20022)',\n",
       " 'Data Scientist',\n",
       " 'Senior Data Scientist II 5+ yrs II Gurgaon',\n",
       " 'Hiring For Data Scientist @ Prodapt Solutions']"
      ]
     },
     "execution_count": 115,
     "metadata": {},
     "output_type": "execute_result"
    }
   ],
   "source": [
    "job_titles"
   ]
  },
  {
   "cell_type": "markdown",
   "metadata": {},
   "source": [
    "### Comapanies"
   ]
  },
  {
   "cell_type": "code",
   "execution_count": 123,
   "metadata": {},
   "outputs": [],
   "source": [
    "comp = chauffeur.find_elements_by_xpath(\"//a[@class = 'subTitle ellipsis fleft']\")"
   ]
  },
  {
   "cell_type": "code",
   "execution_count": 124,
   "metadata": {},
   "outputs": [
    {
     "data": {
      "text/plain": [
       "[<selenium.webdriver.remote.webelement.WebElement (session=\"04c73e84e133a7b1291d7d9273e5fce7\", element=\"e71cfdda-5c9a-4db7-84df-973013e382c0\")>,\n",
       " <selenium.webdriver.remote.webelement.WebElement (session=\"04c73e84e133a7b1291d7d9273e5fce7\", element=\"0537fed8-560a-44f2-b968-7775bb755095\")>,\n",
       " <selenium.webdriver.remote.webelement.WebElement (session=\"04c73e84e133a7b1291d7d9273e5fce7\", element=\"cb3b8559-6d85-4b33-b05f-af4c127e5ba8\")>,\n",
       " <selenium.webdriver.remote.webelement.WebElement (session=\"04c73e84e133a7b1291d7d9273e5fce7\", element=\"45b6cd5a-2a69-4ecc-8665-9b67039b4579\")>,\n",
       " <selenium.webdriver.remote.webelement.WebElement (session=\"04c73e84e133a7b1291d7d9273e5fce7\", element=\"719f37eb-a3bb-42e3-b319-fd47e887033f\")>,\n",
       " <selenium.webdriver.remote.webelement.WebElement (session=\"04c73e84e133a7b1291d7d9273e5fce7\", element=\"195e2fe3-aaa0-418c-bba7-ade8af7955b3\")>,\n",
       " <selenium.webdriver.remote.webelement.WebElement (session=\"04c73e84e133a7b1291d7d9273e5fce7\", element=\"751dd287-6c6a-4d70-963f-2b3015e7c4bb\")>,\n",
       " <selenium.webdriver.remote.webelement.WebElement (session=\"04c73e84e133a7b1291d7d9273e5fce7\", element=\"3ad27c13-0a4e-4334-8260-587e296495e4\")>,\n",
       " <selenium.webdriver.remote.webelement.WebElement (session=\"04c73e84e133a7b1291d7d9273e5fce7\", element=\"72b1223c-4ca8-4e92-93cf-360099014b2e\")>,\n",
       " <selenium.webdriver.remote.webelement.WebElement (session=\"04c73e84e133a7b1291d7d9273e5fce7\", element=\"a37545fc-f9b7-41ff-ae8e-54c1fc987645\")>,\n",
       " <selenium.webdriver.remote.webelement.WebElement (session=\"04c73e84e133a7b1291d7d9273e5fce7\", element=\"48a4f11b-c5f3-4ed4-8da6-416800a39e12\")>,\n",
       " <selenium.webdriver.remote.webelement.WebElement (session=\"04c73e84e133a7b1291d7d9273e5fce7\", element=\"3f2adf2d-9455-4d4d-b237-152b63cbadd0\")>,\n",
       " <selenium.webdriver.remote.webelement.WebElement (session=\"04c73e84e133a7b1291d7d9273e5fce7\", element=\"37956010-d5df-468f-b2a5-75e494a0082b\")>,\n",
       " <selenium.webdriver.remote.webelement.WebElement (session=\"04c73e84e133a7b1291d7d9273e5fce7\", element=\"7758d4b8-1861-4e7e-823f-d240a0caa49b\")>,\n",
       " <selenium.webdriver.remote.webelement.WebElement (session=\"04c73e84e133a7b1291d7d9273e5fce7\", element=\"08c48472-98d7-4b4b-9b4d-f9142a32e550\")>,\n",
       " <selenium.webdriver.remote.webelement.WebElement (session=\"04c73e84e133a7b1291d7d9273e5fce7\", element=\"5cd2670e-52f1-47fc-9c26-0d144b8ff2ba\")>,\n",
       " <selenium.webdriver.remote.webelement.WebElement (session=\"04c73e84e133a7b1291d7d9273e5fce7\", element=\"d2995dd0-339a-405b-83dd-bdba54c57b0c\")>,\n",
       " <selenium.webdriver.remote.webelement.WebElement (session=\"04c73e84e133a7b1291d7d9273e5fce7\", element=\"d35d29b2-1fce-449b-9e9b-eef3bc5d8af7\")>,\n",
       " <selenium.webdriver.remote.webelement.WebElement (session=\"04c73e84e133a7b1291d7d9273e5fce7\", element=\"14d4790a-a403-46aa-b223-13c8cec3e336\")>,\n",
       " <selenium.webdriver.remote.webelement.WebElement (session=\"04c73e84e133a7b1291d7d9273e5fce7\", element=\"69deadde-04dd-42bc-8d1a-a8e2165b5850\")>]"
      ]
     },
     "execution_count": 124,
     "metadata": {},
     "output_type": "execute_result"
    }
   ],
   "source": [
    "comp"
   ]
  },
  {
   "cell_type": "code",
   "execution_count": 125,
   "metadata": {},
   "outputs": [],
   "source": [
    "companies = []\n",
    "for j in comp:\n",
    "    companies.append(j.text)"
   ]
  },
  {
   "cell_type": "code",
   "execution_count": 127,
   "metadata": {},
   "outputs": [
    {
     "data": {
      "text/plain": [
       "['Inflexion Analytix Private Limited',\n",
       " 'IBM India Pvt. Limited',\n",
       " 'Wipro',\n",
       " 'Ravgins International Pvt. Ltd.',\n",
       " 'NEC CORPORATION INDIA PRIVATE LIMITED',\n",
       " 'Mobikwik',\n",
       " 'CRESCENDO GLOBAL LEADERSHIP HIRING INDIA PRIVATE L IMITED',\n",
       " 'CRESCENDO GLOBAL LEADERSHIP HIRING INDIA PRIVATE L IMITED',\n",
       " 'Optum Global Solutions (India) Private Limited',\n",
       " 'FUTURES AND CAREERS',\n",
       " 'FUTURES AND CAREERS',\n",
       " 'NEC CORPORATION INDIA PRIVATE LIMITED',\n",
       " 'FUTURES AND CAREERS',\n",
       " 'FUTURES AND CAREERS',\n",
       " 'Cloudstrats Technologies Private Limited',\n",
       " 'FUTURES AND CAREERS',\n",
       " 'FUTURES AND CAREERS',\n",
       " 'Country Veggie',\n",
       " 'Zenatix Solutions Private Limited',\n",
       " 'BIZZ-BUDDY ENTERPRISES PRIVATE LIMITED']"
      ]
     },
     "execution_count": 127,
     "metadata": {},
     "output_type": "execute_result"
    }
   ],
   "source": [
    "companies"
   ]
  },
  {
   "cell_type": "code",
   "execution_count": 128,
   "metadata": {},
   "outputs": [],
   "source": [
    "loc = chauffeur.find_elements_by_xpath(\"//li[@class = 'fleft grey-text br2 placeHolderLi location']/span[1]\")"
   ]
  },
  {
   "cell_type": "code",
   "execution_count": 129,
   "metadata": {},
   "outputs": [
    {
     "data": {
      "text/plain": [
       "[<selenium.webdriver.remote.webelement.WebElement (session=\"04c73e84e133a7b1291d7d9273e5fce7\", element=\"20c60e0e-0e5f-4c32-aa42-fd08c7f182eb\")>,\n",
       " <selenium.webdriver.remote.webelement.WebElement (session=\"04c73e84e133a7b1291d7d9273e5fce7\", element=\"5148f998-ffee-4453-9cad-0440357f3929\")>,\n",
       " <selenium.webdriver.remote.webelement.WebElement (session=\"04c73e84e133a7b1291d7d9273e5fce7\", element=\"d7be60b6-e4b8-486f-b7bb-7545d40ed798\")>,\n",
       " <selenium.webdriver.remote.webelement.WebElement (session=\"04c73e84e133a7b1291d7d9273e5fce7\", element=\"df68208f-15e7-4b5f-8f3e-bc6b7b94bb9e\")>,\n",
       " <selenium.webdriver.remote.webelement.WebElement (session=\"04c73e84e133a7b1291d7d9273e5fce7\", element=\"bc830348-5edd-4483-8033-0c01a4939703\")>,\n",
       " <selenium.webdriver.remote.webelement.WebElement (session=\"04c73e84e133a7b1291d7d9273e5fce7\", element=\"37156938-808d-49a7-9cfc-5b8b4c3a4d87\")>,\n",
       " <selenium.webdriver.remote.webelement.WebElement (session=\"04c73e84e133a7b1291d7d9273e5fce7\", element=\"6cb35998-4595-43d9-ba7b-f2f3bf545c83\")>,\n",
       " <selenium.webdriver.remote.webelement.WebElement (session=\"04c73e84e133a7b1291d7d9273e5fce7\", element=\"e47d464e-a1a7-4127-95cf-00a4b0cf3129\")>,\n",
       " <selenium.webdriver.remote.webelement.WebElement (session=\"04c73e84e133a7b1291d7d9273e5fce7\", element=\"675abdca-087b-4c3c-a666-92ed6f4827b8\")>,\n",
       " <selenium.webdriver.remote.webelement.WebElement (session=\"04c73e84e133a7b1291d7d9273e5fce7\", element=\"ceb7cc5a-98d5-47c2-9126-01d72636f43b\")>,\n",
       " <selenium.webdriver.remote.webelement.WebElement (session=\"04c73e84e133a7b1291d7d9273e5fce7\", element=\"b6a24c6a-91bf-4c47-a83c-0b2dede1ef6a\")>,\n",
       " <selenium.webdriver.remote.webelement.WebElement (session=\"04c73e84e133a7b1291d7d9273e5fce7\", element=\"8453a1d7-42f7-4cb3-8bfd-eef4637eb457\")>,\n",
       " <selenium.webdriver.remote.webelement.WebElement (session=\"04c73e84e133a7b1291d7d9273e5fce7\", element=\"08ac16a6-6e64-4fc2-8833-f0d115e85560\")>,\n",
       " <selenium.webdriver.remote.webelement.WebElement (session=\"04c73e84e133a7b1291d7d9273e5fce7\", element=\"4abc7b91-77ea-4648-88ea-7d25f1549efa\")>,\n",
       " <selenium.webdriver.remote.webelement.WebElement (session=\"04c73e84e133a7b1291d7d9273e5fce7\", element=\"a0261da8-4e30-4445-b6d2-009781ee48d8\")>,\n",
       " <selenium.webdriver.remote.webelement.WebElement (session=\"04c73e84e133a7b1291d7d9273e5fce7\", element=\"1561ac0b-5e32-4086-af1a-bd08108b090f\")>,\n",
       " <selenium.webdriver.remote.webelement.WebElement (session=\"04c73e84e133a7b1291d7d9273e5fce7\", element=\"30b8e5fd-3a09-4ec2-a499-fb0349cd0ec7\")>,\n",
       " <selenium.webdriver.remote.webelement.WebElement (session=\"04c73e84e133a7b1291d7d9273e5fce7\", element=\"13a5b97c-6f51-4edb-bb59-4150e260a660\")>,\n",
       " <selenium.webdriver.remote.webelement.WebElement (session=\"04c73e84e133a7b1291d7d9273e5fce7\", element=\"09539ff3-65ad-446a-9312-3be2f2e81072\")>,\n",
       " <selenium.webdriver.remote.webelement.WebElement (session=\"04c73e84e133a7b1291d7d9273e5fce7\", element=\"d3d24e93-bdf7-4c00-aa1c-6883ef1d9a64\")>]"
      ]
     },
     "execution_count": 129,
     "metadata": {},
     "output_type": "execute_result"
    }
   ],
   "source": [
    "loc"
   ]
  },
  {
   "cell_type": "code",
   "execution_count": 130,
   "metadata": {},
   "outputs": [],
   "source": [
    "location = []\n",
    "for k in loc:\n",
    "    location.append(k.text)"
   ]
  },
  {
   "cell_type": "code",
   "execution_count": 131,
   "metadata": {},
   "outputs": [
    {
     "data": {
      "text/plain": [
       "['Mumbai, Hyderabad/Secunderabad, Pune, Gurgaon/Gurugram, Chennai, Bangalore/Bengaluru',\n",
       " 'Noida, Hyderabad/Secunderabad, Bangalore/Bengaluru',\n",
       " 'Noida, Gurgaon/Gurugram',\n",
       " 'Bangalore/Bengaluru, Delhi / NCR, Mumbai (All Areas)',\n",
       " 'Noida, Bangalore/Bengaluru',\n",
       " 'New Delhi, Gurgaon/Gurugram, Delhi / NCR',\n",
       " 'Gurgaon/Gurugram, Delhi / NCR',\n",
       " 'Gurgaon/Gurugram, Delhi / NCR',\n",
       " 'Noida',\n",
       " 'Hyderabad/Secunderabad, Pune, Bangalore/Bengaluru, Delhi / NCR, Mumbai (All Areas)',\n",
       " 'Hyderabad/Secunderabad, Pune, Chennai, Bangalore/Bengaluru, Delhi / NCR, Mumbai (All Areas)',\n",
       " 'Noida, Bangalore/Bengaluru',\n",
       " 'Mumbai, Hyderabad/Secunderabad, Bangalore/Bengaluru, Delhi / NCR',\n",
       " 'Hyderabad/Secunderabad, Bangalore/Bengaluru, Delhi / NCR, Mumbai (All Areas)',\n",
       " 'Bangalore/Bengaluru, Delhi / NCR, Mumbai (All Areas)',\n",
       " 'Hyderabad/Secunderabad, Bangalore/Bengaluru, Delhi / NCR',\n",
       " 'Hyderabad/Secunderabad, Bangalore/Bengaluru, Delhi / NCR',\n",
       " 'Bharuch, Jaipur, Bhopal, Mumbai, Jhansi, Nagpur, Ghaziabad, Jaunpur, Kanpur, New Delhi, Lucknow, Agra, Gurgaon/Gurugram, Rajkot, Bangalore/Bengaluru',\n",
       " 'Gurgaon/Gurugram',\n",
       " 'Kolkata, Hyderabad/Secunderabad, Pune, Chennai, Bangalore/Bengaluru, Delhi / NCR']"
      ]
     },
     "execution_count": 131,
     "metadata": {},
     "output_type": "execute_result"
    }
   ],
   "source": [
    "location"
   ]
  },
  {
   "cell_type": "markdown",
   "metadata": {},
   "source": [
    "### Experience"
   ]
  },
  {
   "cell_type": "code",
   "execution_count": 132,
   "metadata": {},
   "outputs": [],
   "source": [
    "exp = chauffeur.find_elements_by_xpath(\"//li[@class = 'fleft grey-text br2 placeHolderLi experience']/span\")"
   ]
  },
  {
   "cell_type": "code",
   "execution_count": 133,
   "metadata": {},
   "outputs": [],
   "source": [
    "experience = []\n",
    "for l in exp:\n",
    "    experience.append(l.text)"
   ]
  },
  {
   "cell_type": "code",
   "execution_count": 134,
   "metadata": {},
   "outputs": [
    {
     "data": {
      "text/plain": [
       "['0-3 Yrs',\n",
       " '4-9 Yrs',\n",
       " '2-5 Yrs',\n",
       " '3-5 Yrs',\n",
       " '3-7 Yrs',\n",
       " '3-5 Yrs',\n",
       " '3-6 Yrs',\n",
       " '3-6 Yrs',\n",
       " '3-5 Yrs',\n",
       " '2-7 Yrs',\n",
       " '2-7 Yrs',\n",
       " '3-8 Yrs',\n",
       " '3-8 Yrs',\n",
       " '2-7 Yrs',\n",
       " '5-8 Yrs',\n",
       " '3-8 Yrs',\n",
       " '3-8 Yrs',\n",
       " '1-3 Yrs',\n",
       " '5-10 Yrs',\n",
       " '5-10 Yrs']"
      ]
     },
     "execution_count": 134,
     "metadata": {},
     "output_type": "execute_result"
    }
   ],
   "source": [
    "experience"
   ]
  },
  {
   "cell_type": "code",
   "execution_count": 135,
   "metadata": {},
   "outputs": [],
   "source": [
    "import pandas as pd\n",
    "jobs = pd.DataFrame({})\n",
    "jobs['titles'] = job_titles\n",
    "jobs['companies'] = companies\n",
    "jobs['experience'] = experience\n",
    "jobs['location'] = location"
   ]
  },
  {
   "cell_type": "code",
   "execution_count": 137,
   "metadata": {},
   "outputs": [
    {
     "data": {
      "text/html": [
       "<div>\n",
       "<style scoped>\n",
       "    .dataframe tbody tr th:only-of-type {\n",
       "        vertical-align: middle;\n",
       "    }\n",
       "\n",
       "    .dataframe tbody tr th {\n",
       "        vertical-align: top;\n",
       "    }\n",
       "\n",
       "    .dataframe thead th {\n",
       "        text-align: right;\n",
       "    }\n",
       "</style>\n",
       "<table border=\"1\" class=\"dataframe\">\n",
       "  <thead>\n",
       "    <tr style=\"text-align: right;\">\n",
       "      <th></th>\n",
       "      <th>titles</th>\n",
       "      <th>companies</th>\n",
       "      <th>experience</th>\n",
       "      <th>location</th>\n",
       "    </tr>\n",
       "  </thead>\n",
       "  <tbody>\n",
       "    <tr>\n",
       "      <th>0</th>\n",
       "      <td>Data Scientist / Data Analyst -Business Analyst</td>\n",
       "      <td>Inflexion Analytix Private Limited</td>\n",
       "      <td>0-3 Yrs</td>\n",
       "      <td>Mumbai, Hyderabad/Secunderabad, Pune, Gurgaon/...</td>\n",
       "    </tr>\n",
       "    <tr>\n",
       "      <th>1</th>\n",
       "      <td>Data Scientist</td>\n",
       "      <td>IBM India Pvt. Limited</td>\n",
       "      <td>4-9 Yrs</td>\n",
       "      <td>Noida, Hyderabad/Secunderabad, Bangalore/Benga...</td>\n",
       "    </tr>\n",
       "    <tr>\n",
       "      <th>2</th>\n",
       "      <td>Business Analyst- Data Scientist</td>\n",
       "      <td>Wipro</td>\n",
       "      <td>2-5 Yrs</td>\n",
       "      <td>Noida, Gurgaon/Gurugram</td>\n",
       "    </tr>\n",
       "    <tr>\n",
       "      <th>3</th>\n",
       "      <td>Data Scientist - High growth VC backed Influen...</td>\n",
       "      <td>Ravgins International Pvt. Ltd.</td>\n",
       "      <td>3-5 Yrs</td>\n",
       "      <td>Bangalore/Bengaluru, Delhi / NCR, Mumbai (All ...</td>\n",
       "    </tr>\n",
       "    <tr>\n",
       "      <th>4</th>\n",
       "      <td>Excellent opportunity For Data Scientist</td>\n",
       "      <td>NEC CORPORATION INDIA PRIVATE LIMITED</td>\n",
       "      <td>3-7 Yrs</td>\n",
       "      <td>Noida, Bangalore/Bengaluru</td>\n",
       "    </tr>\n",
       "    <tr>\n",
       "      <th>5</th>\n",
       "      <td>Data Scientist</td>\n",
       "      <td>Mobikwik</td>\n",
       "      <td>3-5 Yrs</td>\n",
       "      <td>New Delhi, Gurgaon/Gurugram, Delhi / NCR</td>\n",
       "    </tr>\n",
       "    <tr>\n",
       "      <th>6</th>\n",
       "      <td>DATA Scientist – Gurgaon (Exp 3-6 years)</td>\n",
       "      <td>CRESCENDO GLOBAL LEADERSHIP HIRING INDIA PRIVA...</td>\n",
       "      <td>3-6 Yrs</td>\n",
       "      <td>Gurgaon/Gurugram, Delhi / NCR</td>\n",
       "    </tr>\n",
       "    <tr>\n",
       "      <th>7</th>\n",
       "      <td>DATA Scientist – Gurgaon (Exp 3-6 years)</td>\n",
       "      <td>CRESCENDO GLOBAL LEADERSHIP HIRING INDIA PRIVA...</td>\n",
       "      <td>3-6 Yrs</td>\n",
       "      <td>Gurgaon/Gurugram, Delhi / NCR</td>\n",
       "    </tr>\n",
       "    <tr>\n",
       "      <th>8</th>\n",
       "      <td>Data Scientist - Noida</td>\n",
       "      <td>Optum Global Solutions (India) Private Limited</td>\n",
       "      <td>3-5 Yrs</td>\n",
       "      <td>Noida</td>\n",
       "    </tr>\n",
       "    <tr>\n",
       "      <th>9</th>\n",
       "      <td>Data Scientist - Python &amp; Machine Learning</td>\n",
       "      <td>FUTURES AND CAREERS</td>\n",
       "      <td>2-7 Yrs</td>\n",
       "      <td>Hyderabad/Secunderabad, Pune, Bangalore/Bengal...</td>\n",
       "    </tr>\n",
       "    <tr>\n",
       "      <th>10</th>\n",
       "      <td>Data Scientist - Python &amp; Machine Learning</td>\n",
       "      <td>FUTURES AND CAREERS</td>\n",
       "      <td>2-7 Yrs</td>\n",
       "      <td>Hyderabad/Secunderabad, Pune, Chennai, Bangalo...</td>\n",
       "    </tr>\n",
       "  </tbody>\n",
       "</table>\n",
       "</div>"
      ],
      "text/plain": [
       "                                               titles  \\\n",
       "0     Data Scientist / Data Analyst -Business Analyst   \n",
       "1                                      Data Scientist   \n",
       "2                    Business Analyst- Data Scientist   \n",
       "3   Data Scientist - High growth VC backed Influen...   \n",
       "4            Excellent opportunity For Data Scientist   \n",
       "5                                      Data Scientist   \n",
       "6            DATA Scientist – Gurgaon (Exp 3-6 years)   \n",
       "7            DATA Scientist – Gurgaon (Exp 3-6 years)   \n",
       "8                              Data Scientist - Noida   \n",
       "9          Data Scientist - Python & Machine Learning   \n",
       "10         Data Scientist - Python & Machine Learning   \n",
       "\n",
       "                                            companies experience  \\\n",
       "0                  Inflexion Analytix Private Limited    0-3 Yrs   \n",
       "1                              IBM India Pvt. Limited    4-9 Yrs   \n",
       "2                                               Wipro    2-5 Yrs   \n",
       "3                     Ravgins International Pvt. Ltd.    3-5 Yrs   \n",
       "4               NEC CORPORATION INDIA PRIVATE LIMITED    3-7 Yrs   \n",
       "5                                            Mobikwik    3-5 Yrs   \n",
       "6   CRESCENDO GLOBAL LEADERSHIP HIRING INDIA PRIVA...    3-6 Yrs   \n",
       "7   CRESCENDO GLOBAL LEADERSHIP HIRING INDIA PRIVA...    3-6 Yrs   \n",
       "8      Optum Global Solutions (India) Private Limited    3-5 Yrs   \n",
       "9                                 FUTURES AND CAREERS    2-7 Yrs   \n",
       "10                                FUTURES AND CAREERS    2-7 Yrs   \n",
       "\n",
       "                                             location  \n",
       "0   Mumbai, Hyderabad/Secunderabad, Pune, Gurgaon/...  \n",
       "1   Noida, Hyderabad/Secunderabad, Bangalore/Benga...  \n",
       "2                             Noida, Gurgaon/Gurugram  \n",
       "3   Bangalore/Bengaluru, Delhi / NCR, Mumbai (All ...  \n",
       "4                          Noida, Bangalore/Bengaluru  \n",
       "5            New Delhi, Gurgaon/Gurugram, Delhi / NCR  \n",
       "6                       Gurgaon/Gurugram, Delhi / NCR  \n",
       "7                       Gurgaon/Gurugram, Delhi / NCR  \n",
       "8                                               Noida  \n",
       "9   Hyderabad/Secunderabad, Pune, Bangalore/Bengal...  \n",
       "10  Hyderabad/Secunderabad, Pune, Chennai, Bangalo...  "
      ]
     },
     "execution_count": 137,
     "metadata": {},
     "output_type": "execute_result"
    }
   ],
   "source": [
    "jobs.head(11)"
   ]
  },
  {
   "cell_type": "markdown",
   "metadata": {},
   "source": [
    "## Q4"
   ]
  },
  {
   "cell_type": "code",
   "execution_count": 141,
   "metadata": {},
   "outputs": [],
   "source": [
    "operator = webdriver.Chrome(\"chromedriver.exe\")"
   ]
  },
  {
   "cell_type": "code",
   "execution_count": 142,
   "metadata": {},
   "outputs": [],
   "source": [
    "url = 'https://www.glassdoor.co.in/Job/index.htm'\n",
    "operator.get(url)"
   ]
  },
  {
   "cell_type": "code",
   "execution_count": 143,
   "metadata": {},
   "outputs": [
    {
     "data": {
      "text/plain": [
       "<selenium.webdriver.remote.webelement.WebElement (session=\"c7f3408dc88fcb736fe00ba7b4302ddf\", element=\"c949b52d-8cdb-4939-9f4d-4234040d3dda\")>"
      ]
     },
     "execution_count": 143,
     "metadata": {},
     "output_type": "execute_result"
    }
   ],
   "source": [
    "search_job = operator.find_element_by_id('KeywordSearch')\n",
    "search_job"
   ]
  },
  {
   "cell_type": "code",
   "execution_count": 144,
   "metadata": {},
   "outputs": [],
   "source": [
    "search_job.send_keys('Data Scientist')"
   ]
  },
  {
   "cell_type": "code",
   "execution_count": 145,
   "metadata": {},
   "outputs": [],
   "source": [
    "search_loc = operator.find_element_by_id('LocationSearch')\n",
    "search_loc.clear()"
   ]
  },
  {
   "cell_type": "code",
   "execution_count": 146,
   "metadata": {},
   "outputs": [],
   "source": [
    "search_loc.send_keys('Noida')"
   ]
  },
  {
   "cell_type": "code",
   "execution_count": 147,
   "metadata": {},
   "outputs": [],
   "source": [
    "search_button = operator.find_element_by_id('HeroSearchButton')\n",
    "search_button.click()"
   ]
  },
  {
   "cell_type": "markdown",
   "metadata": {},
   "source": [
    "### Job Titles"
   ]
  },
  {
   "cell_type": "code",
   "execution_count": 153,
   "metadata": {},
   "outputs": [],
   "source": [
    "titles = operator.find_elements_by_xpath(\"//a[@class = 'jobLink css-1rd3saf eigr9kq2']\")"
   ]
  },
  {
   "cell_type": "code",
   "execution_count": 154,
   "metadata": {},
   "outputs": [],
   "source": [
    "job_titles = []\n",
    "for i in titles:\n",
    "    job_titles.append(i.text)"
   ]
  },
  {
   "cell_type": "code",
   "execution_count": 155,
   "metadata": {},
   "outputs": [
    {
     "data": {
      "text/plain": [
       "['Data Science Internship',\n",
       " 'Data Scientist',\n",
       " 'Data Science Intern',\n",
       " 'Data Scientist',\n",
       " 'SEO & Data Science Analyst',\n",
       " 'Data Scientist Intern',\n",
       " 'Data Scientist',\n",
       " 'Applied Data Scientist',\n",
       " 'Big Data Intern',\n",
       " 'Data Scientist - Computer Vision',\n",
       " 'Data Scientist',\n",
       " 'Data Scientist',\n",
       " 'SEO & Data Science Analyst',\n",
       " 'Research Scientist - Computer Vision',\n",
       " 'Data Scientist',\n",
       " 'Data Science Intern - DataTrained',\n",
       " 'RAU-Data Scientist',\n",
       " 'Data Analytics Internship',\n",
       " 'Machine learning Engineers',\n",
       " 'Data Scientist – Voice & NLP',\n",
       " 'Data Scientist',\n",
       " 'Data Scientist',\n",
       " 'Data Science (Python) part time job/internship at Multiple locations',\n",
       " 'Jr. Data Scientist',\n",
       " 'Data Scientist',\n",
       " 'Data Scientists',\n",
       " 'Data Scientist',\n",
       " 'Senior Data Scientist',\n",
       " 'Machine Learning Engineer/ Data Scientist',\n",
       " 'Assistant Manager/Deputy Manager/Manager - Sales - Data Analytics Training Solutions']"
      ]
     },
     "execution_count": 155,
     "metadata": {},
     "output_type": "execute_result"
    }
   ],
   "source": [
    "job_titles"
   ]
  },
  {
   "cell_type": "markdown",
   "metadata": {},
   "source": [
    "### Location"
   ]
  },
  {
   "cell_type": "code",
   "execution_count": 156,
   "metadata": {},
   "outputs": [],
   "source": [
    "location = []"
   ]
  },
  {
   "cell_type": "code",
   "execution_count": 158,
   "metadata": {},
   "outputs": [],
   "source": [
    "loc = operator.find_elements_by_xpath(\"//span[@class = 'pr-xxsm css-1ndif2q e1rrn5ka0']\")"
   ]
  },
  {
   "cell_type": "code",
   "execution_count": 159,
   "metadata": {},
   "outputs": [],
   "source": [
    "for j in loc:\n",
    "    location.append(j.text)"
   ]
  },
  {
   "cell_type": "code",
   "execution_count": 160,
   "metadata": {},
   "outputs": [
    {
     "data": {
      "text/plain": [
       "['Noida',\n",
       " 'Noida',\n",
       " 'Noida',\n",
       " 'Gurgaon',\n",
       " 'Noida',\n",
       " 'Noida',\n",
       " 'Noida',\n",
       " 'Gurgaon',\n",
       " 'Noida',\n",
       " 'Noida',\n",
       " 'Noida',\n",
       " 'Noida',\n",
       " 'Noida',\n",
       " 'Noida',\n",
       " 'Noida',\n",
       " 'Noida',\n",
       " 'Gurgaon',\n",
       " 'New Delhi',\n",
       " 'Noida',\n",
       " 'Noida',\n",
       " 'Noida',\n",
       " 'Gurgaon',\n",
       " 'New Delhi',\n",
       " 'Noida',\n",
       " 'Noida',\n",
       " 'Noida',\n",
       " 'Noida',\n",
       " 'Noida',\n",
       " 'Noida',\n",
       " 'Noida']"
      ]
     },
     "execution_count": 160,
     "metadata": {},
     "output_type": "execute_result"
    }
   ],
   "source": [
    "location"
   ]
  },
  {
   "cell_type": "markdown",
   "metadata": {},
   "source": [
    "### Companies"
   ]
  },
  {
   "cell_type": "code",
   "execution_count": 161,
   "metadata": {},
   "outputs": [],
   "source": [
    "companies = []"
   ]
  },
  {
   "cell_type": "code",
   "execution_count": 162,
   "metadata": {},
   "outputs": [],
   "source": [
    "comp = operator.find_elements_by_xpath(\"//a[@class = ' css-l2wjgv e1n63ojh0 jobLink']\")"
   ]
  },
  {
   "cell_type": "code",
   "execution_count": 163,
   "metadata": {},
   "outputs": [],
   "source": [
    "for k in comp:\n",
    "    companies.append(k.text)"
   ]
  },
  {
   "cell_type": "code",
   "execution_count": 164,
   "metadata": {},
   "outputs": [
    {
     "data": {
      "text/plain": [
       "['Apsidata Solutions',\n",
       " 'Biz2Credit Inc',\n",
       " 'Data Trained Education',\n",
       " 'NatWest Group',\n",
       " 'Adobe',\n",
       " 'Salasar New Age Technologies',\n",
       " 'Techlive',\n",
       " 'dunnhumby',\n",
       " 'Data Trained Education',\n",
       " 'CRMNEXT',\n",
       " 'Salasar New Age Technologies',\n",
       " 'Ericsson',\n",
       " 'Adobe Consultants And Outsourcing Private Limited',\n",
       " 'Adobe',\n",
       " 'WishFin',\n",
       " 'Data Trained Education',\n",
       " 'HDFC Bank',\n",
       " 'TBM Technologies Private Limited',\n",
       " 'VN SoftSol',\n",
       " 'CRMNEXT',\n",
       " 'SearchUrCollege',\n",
       " 'MasterCard',\n",
       " 'Nitesh Kumar',\n",
       " 'xtLytics',\n",
       " 'Lantern Digital Services',\n",
       " 'Jubna',\n",
       " 'Priority Vendor',\n",
       " 'Innovacer',\n",
       " 'Dürr Somac GmbH',\n",
       " 'Emerging India Group']"
      ]
     },
     "execution_count": 164,
     "metadata": {},
     "output_type": "execute_result"
    }
   ],
   "source": [
    "companies"
   ]
  },
  {
   "cell_type": "code",
   "execution_count": 165,
   "metadata": {},
   "outputs": [],
   "source": [
    "#First 10 Job postings.\n",
    "\n",
    "import pandas as pd\n",
    "jobs = pd.DataFrame({})\n",
    "jobs['titles'] = job_titles\n",
    "jobs['companies'] = companies\n",
    "jobs['location'] = location"
   ]
  },
  {
   "cell_type": "code",
   "execution_count": 166,
   "metadata": {},
   "outputs": [
    {
     "data": {
      "text/html": [
       "<div>\n",
       "<style scoped>\n",
       "    .dataframe tbody tr th:only-of-type {\n",
       "        vertical-align: middle;\n",
       "    }\n",
       "\n",
       "    .dataframe tbody tr th {\n",
       "        vertical-align: top;\n",
       "    }\n",
       "\n",
       "    .dataframe thead th {\n",
       "        text-align: right;\n",
       "    }\n",
       "</style>\n",
       "<table border=\"1\" class=\"dataframe\">\n",
       "  <thead>\n",
       "    <tr style=\"text-align: right;\">\n",
       "      <th></th>\n",
       "      <th>titles</th>\n",
       "      <th>companies</th>\n",
       "      <th>location</th>\n",
       "    </tr>\n",
       "  </thead>\n",
       "  <tbody>\n",
       "    <tr>\n",
       "      <th>0</th>\n",
       "      <td>Data Science Internship</td>\n",
       "      <td>Apsidata Solutions</td>\n",
       "      <td>Noida</td>\n",
       "    </tr>\n",
       "    <tr>\n",
       "      <th>1</th>\n",
       "      <td>Data Scientist</td>\n",
       "      <td>Biz2Credit Inc</td>\n",
       "      <td>Noida</td>\n",
       "    </tr>\n",
       "    <tr>\n",
       "      <th>2</th>\n",
       "      <td>Data Science Intern</td>\n",
       "      <td>Data Trained Education</td>\n",
       "      <td>Noida</td>\n",
       "    </tr>\n",
       "    <tr>\n",
       "      <th>3</th>\n",
       "      <td>Data Scientist</td>\n",
       "      <td>NatWest Group</td>\n",
       "      <td>Gurgaon</td>\n",
       "    </tr>\n",
       "    <tr>\n",
       "      <th>4</th>\n",
       "      <td>SEO &amp; Data Science Analyst</td>\n",
       "      <td>Adobe</td>\n",
       "      <td>Noida</td>\n",
       "    </tr>\n",
       "    <tr>\n",
       "      <th>5</th>\n",
       "      <td>Data Scientist Intern</td>\n",
       "      <td>Salasar New Age Technologies</td>\n",
       "      <td>Noida</td>\n",
       "    </tr>\n",
       "    <tr>\n",
       "      <th>6</th>\n",
       "      <td>Data Scientist</td>\n",
       "      <td>Techlive</td>\n",
       "      <td>Noida</td>\n",
       "    </tr>\n",
       "    <tr>\n",
       "      <th>7</th>\n",
       "      <td>Applied Data Scientist</td>\n",
       "      <td>dunnhumby</td>\n",
       "      <td>Gurgaon</td>\n",
       "    </tr>\n",
       "    <tr>\n",
       "      <th>8</th>\n",
       "      <td>Big Data Intern</td>\n",
       "      <td>Data Trained Education</td>\n",
       "      <td>Noida</td>\n",
       "    </tr>\n",
       "    <tr>\n",
       "      <th>9</th>\n",
       "      <td>Data Scientist - Computer Vision</td>\n",
       "      <td>CRMNEXT</td>\n",
       "      <td>Noida</td>\n",
       "    </tr>\n",
       "    <tr>\n",
       "      <th>10</th>\n",
       "      <td>Data Scientist</td>\n",
       "      <td>Salasar New Age Technologies</td>\n",
       "      <td>Noida</td>\n",
       "    </tr>\n",
       "  </tbody>\n",
       "</table>\n",
       "</div>"
      ],
      "text/plain": [
       "                              titles                     companies location\n",
       "0            Data Science Internship            Apsidata Solutions    Noida\n",
       "1                     Data Scientist                Biz2Credit Inc    Noida\n",
       "2                Data Science Intern        Data Trained Education    Noida\n",
       "3                     Data Scientist                 NatWest Group  Gurgaon\n",
       "4         SEO & Data Science Analyst                         Adobe    Noida\n",
       "5              Data Scientist Intern  Salasar New Age Technologies    Noida\n",
       "6                     Data Scientist                      Techlive    Noida\n",
       "7             Applied Data Scientist                     dunnhumby  Gurgaon\n",
       "8                    Big Data Intern        Data Trained Education    Noida\n",
       "9   Data Scientist - Computer Vision                       CRMNEXT    Noida\n",
       "10                    Data Scientist  Salasar New Age Technologies    Noida"
      ]
     },
     "execution_count": 166,
     "metadata": {},
     "output_type": "execute_result"
    }
   ],
   "source": [
    "jobs.head(11)"
   ]
  },
  {
   "cell_type": "markdown",
   "metadata": {},
   "source": [
    "## Q5"
   ]
  },
  {
   "cell_type": "code",
   "execution_count": 167,
   "metadata": {},
   "outputs": [],
   "source": [
    "engineer = webdriver.Chrome(\"chromedriver.exe\")"
   ]
  },
  {
   "cell_type": "code",
   "execution_count": 168,
   "metadata": {},
   "outputs": [],
   "source": [
    "url = 'https://www.glassdoor.co.in/Salaries/index.htm'\n",
    "engineer.get(url)"
   ]
  },
  {
   "cell_type": "code",
   "execution_count": 169,
   "metadata": {},
   "outputs": [
    {
     "data": {
      "text/plain": [
       "<selenium.webdriver.remote.webelement.WebElement (session=\"16c99db18c5f209857c82ec9e1cb5e41\", element=\"6a7f6869-aa0e-4efc-a1a5-e0bf652beff2\")>"
      ]
     },
     "execution_count": 169,
     "metadata": {},
     "output_type": "execute_result"
    }
   ],
   "source": [
    "search_job = engineer.find_element_by_id('KeywordSearch')\n",
    "search_job"
   ]
  },
  {
   "cell_type": "code",
   "execution_count": 170,
   "metadata": {},
   "outputs": [],
   "source": [
    "search_job.send_keys('Data Scientist')"
   ]
  },
  {
   "cell_type": "code",
   "execution_count": 171,
   "metadata": {},
   "outputs": [],
   "source": [
    "search_loc = engineer.find_element_by_id('LocationSearch')\n",
    "search_loc.clear()"
   ]
  },
  {
   "cell_type": "code",
   "execution_count": 172,
   "metadata": {},
   "outputs": [],
   "source": [
    "search_loc.send_keys('Noida')"
   ]
  },
  {
   "cell_type": "code",
   "execution_count": 173,
   "metadata": {},
   "outputs": [],
   "source": [
    "search_button = engineer.find_element_by_id('HeroSearchButton')\n",
    "search_button.click()"
   ]
  },
  {
   "cell_type": "markdown",
   "metadata": {},
   "source": [
    "### Minimum Salaries"
   ]
  },
  {
   "cell_type": "code",
   "execution_count": 174,
   "metadata": {},
   "outputs": [],
   "source": [
    "min = engineer.find_elements_by_xpath(\"//div[@class = 'common__RangeBarStyle__values d-flex justify-content-between ']/span[1]\")"
   ]
  },
  {
   "cell_type": "code",
   "execution_count": 175,
   "metadata": {},
   "outputs": [],
   "source": [
    "minimum_salaries = []\n",
    "for i in min:\n",
    "    minimum_salaries.append(i.text)"
   ]
  },
  {
   "cell_type": "code",
   "execution_count": 176,
   "metadata": {},
   "outputs": [
    {
     "data": {
      "text/plain": [
       "['₹343K',\n",
       " '₹577K',\n",
       " '₹586K',\n",
       " '₹355K',\n",
       " '₹450K',\n",
       " '₹1,069K',\n",
       " '₹502K',\n",
       " '₹202K',\n",
       " '₹575K',\n",
       " '₹1,014K',\n",
       " '₹620K',\n",
       " '₹792K',\n",
       " '₹807K',\n",
       " '₹405K',\n",
       " '₹971K',\n",
       " '₹400K',\n",
       " '₹817K',\n",
       " '₹12K',\n",
       " '₹86K',\n",
       " '₹772K']"
      ]
     },
     "execution_count": 176,
     "metadata": {},
     "output_type": "execute_result"
    }
   ],
   "source": [
    "minimum_salaries"
   ]
  },
  {
   "cell_type": "markdown",
   "metadata": {},
   "source": [
    "### Maximum Salaries"
   ]
  },
  {
   "cell_type": "code",
   "execution_count": 188,
   "metadata": {},
   "outputs": [],
   "source": [
    "max = engineer.find_elements_by_xpath(\"//div[@class = 'common__RangeBarStyle__values d-flex justify-content-between ']/span[2]\")"
   ]
  },
  {
   "cell_type": "code",
   "execution_count": 189,
   "metadata": {},
   "outputs": [],
   "source": [
    "maximum_salaries = []\n",
    "for j in max:\n",
    "    maximum_salaries.append(j.text)"
   ]
  },
  {
   "cell_type": "code",
   "execution_count": 190,
   "metadata": {},
   "outputs": [
    {
     "data": {
      "text/plain": [
       "['₹1,095K',\n",
       " '₹2,213K',\n",
       " '₹2,730K',\n",
       " '₹1,613K',\n",
       " '₹11,622K',\n",
       " '₹1,520K',\n",
       " '₹1,465K',\n",
       " '₹1,809K',\n",
       " '₹1,520K',\n",
       " '₹2,149K',\n",
       " '₹1,695K',\n",
       " '₹1,263K',\n",
       " '₹1,986K',\n",
       " '₹1,703K',\n",
       " '₹1,883K',\n",
       " '₹1,124K',\n",
       " '₹2,006K',\n",
       " '₹63K',\n",
       " '₹1,358K',\n",
       " '₹2,091K']"
      ]
     },
     "execution_count": 190,
     "metadata": {},
     "output_type": "execute_result"
    }
   ],
   "source": [
    "maximum_salaries"
   ]
  },
  {
   "cell_type": "markdown",
   "metadata": {},
   "source": [
    "### Company Names"
   ]
  },
  {
   "cell_type": "code",
   "execution_count": 191,
   "metadata": {},
   "outputs": [],
   "source": [
    "companies = []"
   ]
  },
  {
   "cell_type": "code",
   "execution_count": 197,
   "metadata": {},
   "outputs": [
    {
     "data": {
      "text/plain": [
       "[<selenium.webdriver.remote.webelement.WebElement (session=\"16c99db18c5f209857c82ec9e1cb5e41\", element=\"de1c701a-25ae-4bf1-b058-9d896ac94b4d\")>,\n",
       " <selenium.webdriver.remote.webelement.WebElement (session=\"16c99db18c5f209857c82ec9e1cb5e41\", element=\"e4d013e9-3619-47e0-b76e-685d90e6ef76\")>,\n",
       " <selenium.webdriver.remote.webelement.WebElement (session=\"16c99db18c5f209857c82ec9e1cb5e41\", element=\"75982f49-5f79-4fe8-b18c-51ae3eb96517\")>,\n",
       " <selenium.webdriver.remote.webelement.WebElement (session=\"16c99db18c5f209857c82ec9e1cb5e41\", element=\"19ec5f2c-3fa7-4955-bf50-256018b25b24\")>,\n",
       " <selenium.webdriver.remote.webelement.WebElement (session=\"16c99db18c5f209857c82ec9e1cb5e41\", element=\"67b08c11-0226-4a22-8b19-bd5759eddf0f\")>,\n",
       " <selenium.webdriver.remote.webelement.WebElement (session=\"16c99db18c5f209857c82ec9e1cb5e41\", element=\"4a95e658-c910-4b6e-ac86-4f1422e130c8\")>,\n",
       " <selenium.webdriver.remote.webelement.WebElement (session=\"16c99db18c5f209857c82ec9e1cb5e41\", element=\"c3e9c43a-56c9-4bd9-a563-82246d59dcfd\")>,\n",
       " <selenium.webdriver.remote.webelement.WebElement (session=\"16c99db18c5f209857c82ec9e1cb5e41\", element=\"0c7fa620-6f2e-4ce3-9873-b5057dcff20a\")>,\n",
       " <selenium.webdriver.remote.webelement.WebElement (session=\"16c99db18c5f209857c82ec9e1cb5e41\", element=\"f6d3b1f7-8d4e-4d99-92e5-efc16bf5b7a7\")>,\n",
       " <selenium.webdriver.remote.webelement.WebElement (session=\"16c99db18c5f209857c82ec9e1cb5e41\", element=\"39964a9b-4b8d-4351-97ff-68a0dfcf23a8\")>,\n",
       " <selenium.webdriver.remote.webelement.WebElement (session=\"16c99db18c5f209857c82ec9e1cb5e41\", element=\"b25af6da-b892-4fd7-bac4-1e27b4a6d2a4\")>,\n",
       " <selenium.webdriver.remote.webelement.WebElement (session=\"16c99db18c5f209857c82ec9e1cb5e41\", element=\"1d231d36-f30b-4c04-9bcd-4b6f2cc73b7c\")>,\n",
       " <selenium.webdriver.remote.webelement.WebElement (session=\"16c99db18c5f209857c82ec9e1cb5e41\", element=\"56db1841-dedd-4d10-b36e-e9aa5f225b7d\")>,\n",
       " <selenium.webdriver.remote.webelement.WebElement (session=\"16c99db18c5f209857c82ec9e1cb5e41\", element=\"32846410-2de9-4c6b-ad03-b8ec9fc94e60\")>,\n",
       " <selenium.webdriver.remote.webelement.WebElement (session=\"16c99db18c5f209857c82ec9e1cb5e41\", element=\"36430633-8d42-4b61-b209-ae3bbe60eed7\")>,\n",
       " <selenium.webdriver.remote.webelement.WebElement (session=\"16c99db18c5f209857c82ec9e1cb5e41\", element=\"606bcd31-6f62-4ac6-b29d-106f31f97c06\")>,\n",
       " <selenium.webdriver.remote.webelement.WebElement (session=\"16c99db18c5f209857c82ec9e1cb5e41\", element=\"091c7adb-63dd-4f62-a468-46515b9714b9\")>,\n",
       " <selenium.webdriver.remote.webelement.WebElement (session=\"16c99db18c5f209857c82ec9e1cb5e41\", element=\"3a7b417e-1554-404c-8548-7b6530830226\")>,\n",
       " <selenium.webdriver.remote.webelement.WebElement (session=\"16c99db18c5f209857c82ec9e1cb5e41\", element=\"e37db1f0-0298-4fbb-b40b-2f0d568c46a9\")>,\n",
       " <selenium.webdriver.remote.webelement.WebElement (session=\"16c99db18c5f209857c82ec9e1cb5e41\", element=\"4323cfe1-b1b3-4729-b4a0-cc1cc6fecaf7\")>]"
      ]
     },
     "execution_count": 197,
     "metadata": {},
     "output_type": "execute_result"
    }
   ],
   "source": [
    "comp = engineer.find_elements_by_xpath(\"//p[@class = 'm-0 ']\")\n",
    "comp"
   ]
  },
  {
   "cell_type": "code",
   "execution_count": 198,
   "metadata": {},
   "outputs": [],
   "source": [
    "for k in comp:\n",
    "    companies.append(k.text)"
   ]
  },
  {
   "cell_type": "code",
   "execution_count": 199,
   "metadata": {},
   "outputs": [
    {
     "data": {
      "text/plain": [
       "['Tata Consultancy Services',\n",
       " 'Accenture',\n",
       " 'IBM',\n",
       " 'Ericsson-Worldwide',\n",
       " 'Delhivery',\n",
       " 'UnitedHealth Group',\n",
       " 'Valiance Solutions',\n",
       " 'ZS Associates',\n",
       " 'EXL Service',\n",
       " 'Optum Global Solutions',\n",
       " 'Innovaccer',\n",
       " 'Cognizant Technology Solutions',\n",
       " 'Optum',\n",
       " 'Tech Mahindra',\n",
       " 'OYO',\n",
       " 'Nagarro',\n",
       " 'dunnhumby',\n",
       " 'Vidooly Media Tech',\n",
       " 'Algo8.ai',\n",
       " 'Amazon']"
      ]
     },
     "execution_count": 199,
     "metadata": {},
     "output_type": "execute_result"
    }
   ],
   "source": [
    "companies"
   ]
  },
  {
   "cell_type": "markdown",
   "metadata": {},
   "source": [
    "### Average Salary"
   ]
  },
  {
   "cell_type": "code",
   "execution_count": 200,
   "metadata": {},
   "outputs": [],
   "source": [
    "average_salary = []"
   ]
  },
  {
   "cell_type": "code",
   "execution_count": 202,
   "metadata": {},
   "outputs": [],
   "source": [
    "avg = engineer.find_elements_by_xpath(\"//div[@class = 'col-2 d-none d-md-flex flex-row justify-content-end']\")"
   ]
  },
  {
   "cell_type": "code",
   "execution_count": 203,
   "metadata": {},
   "outputs": [],
   "source": [
    "for l in avg:\n",
    "    average_salary.append(l.text)"
   ]
  },
  {
   "cell_type": "code",
   "execution_count": 204,
   "metadata": {},
   "outputs": [
    {
     "data": {
      "text/plain": [
       "['₹ 6,11,228\\n/yr',\n",
       " '₹ 11,46,533\\n/yr',\n",
       " '₹ 8,97,795\\n/yr',\n",
       " '₹ 7,38,057\\n/yr',\n",
       " '₹ 12,39,781\\n/yr',\n",
       " '₹ 13,36,142\\n/yr',\n",
       " '₹ 8,15,192\\n/yr',\n",
       " '₹ 11,35,221\\n/yr',\n",
       " '₹ 11,44,243\\n/yr',\n",
       " '₹ 14,13,288\\n/yr',\n",
       " '₹ 12,07,110\\n/yr',\n",
       " '₹ 10,07,410\\n/yr',\n",
       " '₹ 13,18,851\\n/yr',\n",
       " '₹ 10,52,718\\n/yr',\n",
       " '₹ 14,13,078\\n/yr',\n",
       " '₹ 9,61,653\\n/yr',\n",
       " '₹ 11,00,000\\n/yr',\n",
       " '₹ 15,887\\n/mo',\n",
       " '₹ 6,75,000\\n/yr',\n",
       " '₹ 15,00,000\\n/yr']"
      ]
     },
     "execution_count": 204,
     "metadata": {},
     "output_type": "execute_result"
    }
   ],
   "source": [
    "average_salary"
   ]
  },
  {
   "cell_type": "code",
   "execution_count": 205,
   "metadata": {},
   "outputs": [],
   "source": [
    "#First 10 Job postings.\n",
    "\n",
    "import pandas as pd\n",
    "jobs = pd.DataFrame({})\n",
    "jobs['Minimum Salary'] = minimum_salaries\n",
    "jobs['Maximum Salary'] = maximum_salaries\n",
    "jobs['Average Salary'] = average_salary\n",
    "jobs['Company'] = companies"
   ]
  },
  {
   "cell_type": "code",
   "execution_count": 206,
   "metadata": {},
   "outputs": [
    {
     "data": {
      "text/html": [
       "<div>\n",
       "<style scoped>\n",
       "    .dataframe tbody tr th:only-of-type {\n",
       "        vertical-align: middle;\n",
       "    }\n",
       "\n",
       "    .dataframe tbody tr th {\n",
       "        vertical-align: top;\n",
       "    }\n",
       "\n",
       "    .dataframe thead th {\n",
       "        text-align: right;\n",
       "    }\n",
       "</style>\n",
       "<table border=\"1\" class=\"dataframe\">\n",
       "  <thead>\n",
       "    <tr style=\"text-align: right;\">\n",
       "      <th></th>\n",
       "      <th>Minimum Salary</th>\n",
       "      <th>Maximum Salary</th>\n",
       "      <th>Average Salary</th>\n",
       "      <th>Company</th>\n",
       "    </tr>\n",
       "  </thead>\n",
       "  <tbody>\n",
       "    <tr>\n",
       "      <th>0</th>\n",
       "      <td>₹343K</td>\n",
       "      <td>₹1,095K</td>\n",
       "      <td>₹ 6,11,228\\n/yr</td>\n",
       "      <td>Tata Consultancy Services</td>\n",
       "    </tr>\n",
       "    <tr>\n",
       "      <th>1</th>\n",
       "      <td>₹577K</td>\n",
       "      <td>₹2,213K</td>\n",
       "      <td>₹ 11,46,533\\n/yr</td>\n",
       "      <td>Accenture</td>\n",
       "    </tr>\n",
       "    <tr>\n",
       "      <th>2</th>\n",
       "      <td>₹586K</td>\n",
       "      <td>₹2,730K</td>\n",
       "      <td>₹ 8,97,795\\n/yr</td>\n",
       "      <td>IBM</td>\n",
       "    </tr>\n",
       "    <tr>\n",
       "      <th>3</th>\n",
       "      <td>₹355K</td>\n",
       "      <td>₹1,613K</td>\n",
       "      <td>₹ 7,38,057\\n/yr</td>\n",
       "      <td>Ericsson-Worldwide</td>\n",
       "    </tr>\n",
       "    <tr>\n",
       "      <th>4</th>\n",
       "      <td>₹450K</td>\n",
       "      <td>₹11,622K</td>\n",
       "      <td>₹ 12,39,781\\n/yr</td>\n",
       "      <td>Delhivery</td>\n",
       "    </tr>\n",
       "    <tr>\n",
       "      <th>5</th>\n",
       "      <td>₹1,069K</td>\n",
       "      <td>₹1,520K</td>\n",
       "      <td>₹ 13,36,142\\n/yr</td>\n",
       "      <td>UnitedHealth Group</td>\n",
       "    </tr>\n",
       "    <tr>\n",
       "      <th>6</th>\n",
       "      <td>₹502K</td>\n",
       "      <td>₹1,465K</td>\n",
       "      <td>₹ 8,15,192\\n/yr</td>\n",
       "      <td>Valiance Solutions</td>\n",
       "    </tr>\n",
       "    <tr>\n",
       "      <th>7</th>\n",
       "      <td>₹202K</td>\n",
       "      <td>₹1,809K</td>\n",
       "      <td>₹ 11,35,221\\n/yr</td>\n",
       "      <td>ZS Associates</td>\n",
       "    </tr>\n",
       "    <tr>\n",
       "      <th>8</th>\n",
       "      <td>₹575K</td>\n",
       "      <td>₹1,520K</td>\n",
       "      <td>₹ 11,44,243\\n/yr</td>\n",
       "      <td>EXL Service</td>\n",
       "    </tr>\n",
       "    <tr>\n",
       "      <th>9</th>\n",
       "      <td>₹1,014K</td>\n",
       "      <td>₹2,149K</td>\n",
       "      <td>₹ 14,13,288\\n/yr</td>\n",
       "      <td>Optum Global Solutions</td>\n",
       "    </tr>\n",
       "    <tr>\n",
       "      <th>10</th>\n",
       "      <td>₹620K</td>\n",
       "      <td>₹1,695K</td>\n",
       "      <td>₹ 12,07,110\\n/yr</td>\n",
       "      <td>Innovaccer</td>\n",
       "    </tr>\n",
       "  </tbody>\n",
       "</table>\n",
       "</div>"
      ],
      "text/plain": [
       "   Minimum Salary Maximum Salary    Average Salary                    Company\n",
       "0           ₹343K        ₹1,095K   ₹ 6,11,228\\n/yr  Tata Consultancy Services\n",
       "1           ₹577K        ₹2,213K  ₹ 11,46,533\\n/yr                  Accenture\n",
       "2           ₹586K        ₹2,730K   ₹ 8,97,795\\n/yr                        IBM\n",
       "3           ₹355K        ₹1,613K   ₹ 7,38,057\\n/yr         Ericsson-Worldwide\n",
       "4           ₹450K       ₹11,622K  ₹ 12,39,781\\n/yr                  Delhivery\n",
       "5         ₹1,069K        ₹1,520K  ₹ 13,36,142\\n/yr         UnitedHealth Group\n",
       "6           ₹502K        ₹1,465K   ₹ 8,15,192\\n/yr         Valiance Solutions\n",
       "7           ₹202K        ₹1,809K  ₹ 11,35,221\\n/yr              ZS Associates\n",
       "8           ₹575K        ₹1,520K  ₹ 11,44,243\\n/yr                EXL Service\n",
       "9         ₹1,014K        ₹2,149K  ₹ 14,13,288\\n/yr     Optum Global Solutions\n",
       "10          ₹620K        ₹1,695K  ₹ 12,07,110\\n/yr                 Innovaccer"
      ]
     },
     "execution_count": 206,
     "metadata": {},
     "output_type": "execute_result"
    }
   ],
   "source": [
    "jobs.head(11)"
   ]
  },
  {
   "cell_type": "markdown",
   "metadata": {},
   "source": [
    "## Q6"
   ]
  },
  {
   "cell_type": "code",
   "execution_count": 215,
   "metadata": {},
   "outputs": [],
   "source": [
    "rider = webdriver.Chrome(\"chromedriver.exe\")"
   ]
  },
  {
   "cell_type": "code",
   "execution_count": 216,
   "metadata": {},
   "outputs": [],
   "source": [
    "url = 'https://www.flipkart.com/'\n",
    "rider.get(url)"
   ]
  },
  {
   "cell_type": "markdown",
   "metadata": {},
   "source": [
    "#### Searching the product"
   ]
  },
  {
   "cell_type": "code",
   "execution_count": 217,
   "metadata": {},
   "outputs": [],
   "source": [
    "product_search = rider.find_element_by_name('q')"
   ]
  },
  {
   "cell_type": "code",
   "execution_count": 218,
   "metadata": {},
   "outputs": [],
   "source": [
    "product_search.send_keys('Sunglasses')"
   ]
  },
  {
   "cell_type": "markdown",
   "metadata": {},
   "source": [
    "#### Clicking the search button"
   ]
  },
  {
   "cell_type": "code",
   "execution_count": 219,
   "metadata": {},
   "outputs": [],
   "source": [
    "search = rider.find_element_by_tag_name(\"svg\")"
   ]
  },
  {
   "cell_type": "code",
   "execution_count": 220,
   "metadata": {},
   "outputs": [],
   "source": [
    "search.click()"
   ]
  },
  {
   "cell_type": "markdown",
   "metadata": {},
   "source": [
    "#### 1. Brand"
   ]
  },
  {
   "cell_type": "markdown",
   "metadata": {},
   "source": [
    "#### 2. Description"
   ]
  },
  {
   "cell_type": "markdown",
   "metadata": {},
   "source": [
    "#### 3. Price"
   ]
  },
  {
   "cell_type": "markdown",
   "metadata": {},
   "source": [
    "#### 4. Discount"
   ]
  },
  {
   "cell_type": "code",
   "execution_count": 221,
   "metadata": {},
   "outputs": [],
   "source": [
    "brand=[]\n",
    "description = []\n",
    "price = []\n",
    "discount = []\n",
    "\n",
    "\n",
    "start=0\n",
    "\n",
    "end=4\n",
    "\n",
    "for page in range(start,end):#for loop for scrapping 4 page\n",
    "\n",
    "    brands=rider.find_elements_by_class_name('_2WkVRV')#scraping brands name by class name='_2WkVRV'\n",
    "\n",
    "    for i in brands:\n",
    "\n",
    "        brand.append(i.text)#appending the text in Brand list\n",
    "\n",
    "    desc=rider.find_elements_by_xpath('//a[@class=\"IRpwTa\"]')#scraping description from the xpath\n",
    "\n",
    "    for i in desc:\n",
    "\n",
    "        description.append(i.text)#appending the description in list\n",
    "\n",
    "    prices=rider.find_elements_by_xpath(\"//div[@class='_30jeq3']\")# scraping the price from the xpath\n",
    "\n",
    "    for i in prices:\n",
    "\n",
    "        price.append(i.text)\n",
    "\n",
    "    disc=rider.find_elements_by_xpath(\"//div[@class='_3Ay6Sb']//span\")# scraping the discount from the xpath\n",
    "\n",
    "    for i in disc:\n",
    "\n",
    "        discount.append(i.text)\n",
    "\n",
    "    nxt_button=rider.find_elements_by_xpath(\"//a[@class='_1LKTO3']\")#scraping the list of buttons from the page\n",
    "\n",
    "    try:\n",
    "\n",
    "        rider.get(nxt_button[1].get_attribute('href'))#getting the link from the list for next page\n",
    "\n",
    "    except:\n",
    "\n",
    "        rider.get(nxt_button[0].get_attribute('href'))"
   ]
  },
  {
   "cell_type": "code",
   "execution_count": 224,
   "metadata": {},
   "outputs": [],
   "source": [
    "#First 100 products.\n",
    "\n",
    "import pandas as pd\n",
    "products = pd.DataFrame({})\n",
    "products['Brand'] = brand[:101]\n",
    "products['Product_description'] = description[:101]\n",
    "products['Price'] = price[:101]\n",
    "products['Discount'] = discount[:101]"
   ]
  },
  {
   "cell_type": "code",
   "execution_count": 225,
   "metadata": {},
   "outputs": [
    {
     "data": {
      "text/html": [
       "<div>\n",
       "<style scoped>\n",
       "    .dataframe tbody tr th:only-of-type {\n",
       "        vertical-align: middle;\n",
       "    }\n",
       "\n",
       "    .dataframe tbody tr th {\n",
       "        vertical-align: top;\n",
       "    }\n",
       "\n",
       "    .dataframe thead th {\n",
       "        text-align: right;\n",
       "    }\n",
       "</style>\n",
       "<table border=\"1\" class=\"dataframe\">\n",
       "  <thead>\n",
       "    <tr style=\"text-align: right;\">\n",
       "      <th></th>\n",
       "      <th>Brand</th>\n",
       "      <th>Product_description</th>\n",
       "      <th>Price</th>\n",
       "      <th>Discount</th>\n",
       "    </tr>\n",
       "  </thead>\n",
       "  <tbody>\n",
       "    <tr>\n",
       "      <th>0</th>\n",
       "      <td>New Specs</td>\n",
       "      <td>Gradient Rectangular Sunglasses (56)</td>\n",
       "      <td>₹543</td>\n",
       "      <td>52% off</td>\n",
       "    </tr>\n",
       "    <tr>\n",
       "      <th>1</th>\n",
       "      <td>NuVew</td>\n",
       "      <td>UV Protection Wayfarer Sunglasses (Free Size)</td>\n",
       "      <td>₹627</td>\n",
       "      <td>21% off</td>\n",
       "    </tr>\n",
       "    <tr>\n",
       "      <th>2</th>\n",
       "      <td>ROZZETTA CRAFT</td>\n",
       "      <td>UV Protection Aviator Sunglasses (58)</td>\n",
       "      <td>₹1,115</td>\n",
       "      <td>14% off</td>\n",
       "    </tr>\n",
       "    <tr>\n",
       "      <th>3</th>\n",
       "      <td>Fastrack</td>\n",
       "      <td>Polarized, UV Protection Wrap-around Sunglasse...</td>\n",
       "      <td>₹759</td>\n",
       "      <td>62% off</td>\n",
       "    </tr>\n",
       "    <tr>\n",
       "      <th>4</th>\n",
       "      <td>Fastrack</td>\n",
       "      <td>UV Protection, Gradient Round Sunglasses (Free...</td>\n",
       "      <td>₹449</td>\n",
       "      <td>77% off</td>\n",
       "    </tr>\n",
       "    <tr>\n",
       "      <th>...</th>\n",
       "      <td>...</td>\n",
       "      <td>...</td>\n",
       "      <td>...</td>\n",
       "      <td>...</td>\n",
       "    </tr>\n",
       "    <tr>\n",
       "      <th>96</th>\n",
       "      <td>Crackers</td>\n",
       "      <td>Mirrored, UV Protection Wayfarer Sunglasses (F...</td>\n",
       "      <td>₹777</td>\n",
       "      <td>22% off</td>\n",
       "    </tr>\n",
       "    <tr>\n",
       "      <th>97</th>\n",
       "      <td>PETER JONES</td>\n",
       "      <td>Mirrored Aviator Sunglasses (55)</td>\n",
       "      <td>₹379</td>\n",
       "      <td>74% off</td>\n",
       "    </tr>\n",
       "    <tr>\n",
       "      <th>98</th>\n",
       "      <td>Fastrack</td>\n",
       "      <td>UV Protection Clubmaster Sunglasses (Free Size)</td>\n",
       "      <td>₹319</td>\n",
       "      <td>84% off</td>\n",
       "    </tr>\n",
       "    <tr>\n",
       "      <th>99</th>\n",
       "      <td>ROYAL SON</td>\n",
       "      <td>UV Protection Wrap-around Sunglasses (52)</td>\n",
       "      <td>₹854</td>\n",
       "      <td>57% off</td>\n",
       "    </tr>\n",
       "    <tr>\n",
       "      <th>100</th>\n",
       "      <td>ROZZETTA CRAFT</td>\n",
       "      <td>UV Protection Aviator Sunglasses (55)</td>\n",
       "      <td>₹170</td>\n",
       "      <td>82% off</td>\n",
       "    </tr>\n",
       "  </tbody>\n",
       "</table>\n",
       "<p>101 rows × 4 columns</p>\n",
       "</div>"
      ],
      "text/plain": [
       "              Brand                                Product_description  \\\n",
       "0         New Specs               Gradient Rectangular Sunglasses (56)   \n",
       "1             NuVew      UV Protection Wayfarer Sunglasses (Free Size)   \n",
       "2    ROZZETTA CRAFT              UV Protection Aviator Sunglasses (58)   \n",
       "3          Fastrack  Polarized, UV Protection Wrap-around Sunglasse...   \n",
       "4          Fastrack  UV Protection, Gradient Round Sunglasses (Free...   \n",
       "..              ...                                                ...   \n",
       "96         Crackers  Mirrored, UV Protection Wayfarer Sunglasses (F...   \n",
       "97      PETER JONES                   Mirrored Aviator Sunglasses (55)   \n",
       "98         Fastrack    UV Protection Clubmaster Sunglasses (Free Size)   \n",
       "99        ROYAL SON          UV Protection Wrap-around Sunglasses (52)   \n",
       "100  ROZZETTA CRAFT              UV Protection Aviator Sunglasses (55)   \n",
       "\n",
       "      Price Discount  \n",
       "0      ₹543  52% off  \n",
       "1      ₹627  21% off  \n",
       "2    ₹1,115  14% off  \n",
       "3      ₹759  62% off  \n",
       "4      ₹449  77% off  \n",
       "..      ...      ...  \n",
       "96     ₹777  22% off  \n",
       "97     ₹379  74% off  \n",
       "98     ₹319  84% off  \n",
       "99     ₹854  57% off  \n",
       "100    ₹170  82% off  \n",
       "\n",
       "[101 rows x 4 columns]"
      ]
     },
     "execution_count": 225,
     "metadata": {},
     "output_type": "execute_result"
    }
   ],
   "source": [
    "products"
   ]
  },
  {
   "cell_type": "markdown",
   "metadata": {},
   "source": [
    "## Q7"
   ]
  },
  {
   "cell_type": "code",
   "execution_count": 257,
   "metadata": {},
   "outputs": [],
   "source": [
    "surfer = webdriver.Chrome(\"chromedriver.exe\")"
   ]
  },
  {
   "cell_type": "code",
   "execution_count": 258,
   "metadata": {},
   "outputs": [],
   "source": [
    "url = 'https://www.flipkart.com/apple-iphone-11-black-64-gb-includesearpods-poweradapter/p/itm0f37c2240b217?pid=MOBFKCTSVZAXUHGR&lid=LSTMOBFKCTSVZAXUHGREPBFGI&marketplace.'\n",
    "surfer.get(url)"
   ]
  },
  {
   "cell_type": "markdown",
   "metadata": {},
   "source": [
    "#### Clicking on 'All Reviews'"
   ]
  },
  {
   "cell_type": "code",
   "execution_count": 259,
   "metadata": {},
   "outputs": [],
   "source": [
    "surfer.find_element_by_xpath(\"//div[@class = '_3UAT2v _16PBlm']\").click()"
   ]
  },
  {
   "cell_type": "markdown",
   "metadata": {},
   "source": [
    "#### Rating"
   ]
  },
  {
   "cell_type": "code",
   "execution_count": 260,
   "metadata": {},
   "outputs": [],
   "source": [
    "rating = []"
   ]
  },
  {
   "cell_type": "markdown",
   "metadata": {},
   "source": [
    "#### Review Summary"
   ]
  },
  {
   "cell_type": "code",
   "execution_count": 261,
   "metadata": {},
   "outputs": [],
   "source": [
    "review_summary = []"
   ]
  },
  {
   "cell_type": "markdown",
   "metadata": {},
   "source": [
    "#### Full Review"
   ]
  },
  {
   "cell_type": "code",
   "execution_count": 262,
   "metadata": {},
   "outputs": [],
   "source": [
    "full_review = []"
   ]
  },
  {
   "cell_type": "code",
   "execution_count": 263,
   "metadata": {},
   "outputs": [],
   "source": [
    "start=0\n",
    "\n",
    "end=10\n",
    "\n",
    "for page in range(start,end):#for loop for scrapping 4 page\n",
    "    \n",
    "    for j in surfer.find_elements_by_xpath(\"//div[@class = '_3LWZlK _1BLPMq']\"):\n",
    "        rating.append(j.text)\n",
    "        \n",
    "    for k in surfer.find_elements_by_xpath(\"//p[@class = '_2-N8zT']\"):\n",
    "        review_summary.append(k.text)\n",
    "        \n",
    "    for l in surfer.find_elements_by_xpath(\"//div[@class = 't-ZTKy']/div[1]/div\"):\n",
    "        full_review.append(l.text)\n",
    "        \n",
    "    nxt_button=surfer.find_elements_by_xpath(\"//a[@class='_1LKTO3']\")#scraping the list of buttons from the page\n",
    "\n",
    "    try:\n",
    "\n",
    "        surfer.get(nxt_button[1].get_attribute('href'))#getting the link from the list for next page\n",
    "\n",
    "    except:\n",
    "\n",
    "        surfer.get(nxt_button[0].get_attribute('href'))"
   ]
  },
  {
   "cell_type": "code",
   "execution_count": 264,
   "metadata": {},
   "outputs": [
    {
     "name": "stdout",
     "output_type": "stream",
     "text": [
      "98 100 100\n"
     ]
    }
   ],
   "source": [
    "print(len(rating), len(review_summary), len(full_review))"
   ]
  },
  {
   "cell_type": "code",
   "execution_count": 265,
   "metadata": {},
   "outputs": [],
   "source": [
    "import pandas as pd\n",
    "iphone = pd.DataFrame({})\n",
    "iphone['Rating'] = rating\n",
    "iphone['Review Summary'] = review_summary[:98]\n",
    "iphone['Full Review'] = full_review[:98]"
   ]
  },
  {
   "cell_type": "code",
   "execution_count": 266,
   "metadata": {},
   "outputs": [
    {
     "data": {
      "text/html": [
       "<div>\n",
       "<style scoped>\n",
       "    .dataframe tbody tr th:only-of-type {\n",
       "        vertical-align: middle;\n",
       "    }\n",
       "\n",
       "    .dataframe tbody tr th {\n",
       "        vertical-align: top;\n",
       "    }\n",
       "\n",
       "    .dataframe thead th {\n",
       "        text-align: right;\n",
       "    }\n",
       "</style>\n",
       "<table border=\"1\" class=\"dataframe\">\n",
       "  <thead>\n",
       "    <tr style=\"text-align: right;\">\n",
       "      <th></th>\n",
       "      <th>Rating</th>\n",
       "      <th>Review Summary</th>\n",
       "      <th>Full Review</th>\n",
       "    </tr>\n",
       "  </thead>\n",
       "  <tbody>\n",
       "    <tr>\n",
       "      <th>0</th>\n",
       "      <td>5</td>\n",
       "      <td>Brilliant</td>\n",
       "      <td>The Best Phone for the Money\\n\\nThe iPhone 11 ...</td>\n",
       "    </tr>\n",
       "    <tr>\n",
       "      <th>1</th>\n",
       "      <td>5</td>\n",
       "      <td>Perfect product!</td>\n",
       "      <td>Amazing phone with great cameras and better ba...</td>\n",
       "    </tr>\n",
       "    <tr>\n",
       "      <th>2</th>\n",
       "      <td>5</td>\n",
       "      <td>Great product</td>\n",
       "      <td>Amazing Powerful and Durable Gadget.\\n\\nI’m am...</td>\n",
       "    </tr>\n",
       "    <tr>\n",
       "      <th>3</th>\n",
       "      <td>5</td>\n",
       "      <td>Worth every penny</td>\n",
       "      <td>Previously I was using one plus 3t it was a gr...</td>\n",
       "    </tr>\n",
       "    <tr>\n",
       "      <th>4</th>\n",
       "      <td>4</td>\n",
       "      <td>Good choice</td>\n",
       "      <td>So far it’s been an AMAZING experience coming ...</td>\n",
       "    </tr>\n",
       "    <tr>\n",
       "      <th>...</th>\n",
       "      <td>...</td>\n",
       "      <td>...</td>\n",
       "      <td>...</td>\n",
       "    </tr>\n",
       "    <tr>\n",
       "      <th>93</th>\n",
       "      <td>5</td>\n",
       "      <td>Brilliant</td>\n",
       "      <td>Wow wow and wow, in 48k you will not get anyth...</td>\n",
       "    </tr>\n",
       "    <tr>\n",
       "      <th>94</th>\n",
       "      <td>5</td>\n",
       "      <td>Most Price worthy Iphone</td>\n",
       "      <td>Reviewing within 1st Month\\n\\n\\n1st Month Revi...</td>\n",
       "    </tr>\n",
       "    <tr>\n",
       "      <th>95</th>\n",
       "      <td>5</td>\n",
       "      <td>Best in the market!</td>\n",
       "      <td>The best all rounder iphone. Flipkart is doing...</td>\n",
       "    </tr>\n",
       "    <tr>\n",
       "      <th>96</th>\n",
       "      <td>5</td>\n",
       "      <td>Terrific</td>\n",
       "      <td>I upgraded (downgraded?) from my iPhone X sinc...</td>\n",
       "    </tr>\n",
       "    <tr>\n",
       "      <th>97</th>\n",
       "      <td>5</td>\n",
       "      <td>Terrific purchase</td>\n",
       "      <td>Well , as we all know if its not an Iphone , i...</td>\n",
       "    </tr>\n",
       "  </tbody>\n",
       "</table>\n",
       "<p>98 rows × 3 columns</p>\n",
       "</div>"
      ],
      "text/plain": [
       "   Rating            Review Summary  \\\n",
       "0       5                 Brilliant   \n",
       "1       5          Perfect product!   \n",
       "2       5             Great product   \n",
       "3       5         Worth every penny   \n",
       "4       4               Good choice   \n",
       "..    ...                       ...   \n",
       "93      5                 Brilliant   \n",
       "94      5  Most Price worthy Iphone   \n",
       "95      5       Best in the market!   \n",
       "96      5                  Terrific   \n",
       "97      5         Terrific purchase   \n",
       "\n",
       "                                          Full Review  \n",
       "0   The Best Phone for the Money\\n\\nThe iPhone 11 ...  \n",
       "1   Amazing phone with great cameras and better ba...  \n",
       "2   Amazing Powerful and Durable Gadget.\\n\\nI’m am...  \n",
       "3   Previously I was using one plus 3t it was a gr...  \n",
       "4   So far it’s been an AMAZING experience coming ...  \n",
       "..                                                ...  \n",
       "93  Wow wow and wow, in 48k you will not get anyth...  \n",
       "94  Reviewing within 1st Month\\n\\n\\n1st Month Revi...  \n",
       "95  The best all rounder iphone. Flipkart is doing...  \n",
       "96  I upgraded (downgraded?) from my iPhone X sinc...  \n",
       "97  Well , as we all know if its not an Iphone , i...  \n",
       "\n",
       "[98 rows x 3 columns]"
      ]
     },
     "execution_count": 266,
     "metadata": {},
     "output_type": "execute_result"
    }
   ],
   "source": [
    "iphone"
   ]
  },
  {
   "cell_type": "markdown",
   "metadata": {},
   "source": [
    "## Q8"
   ]
  },
  {
   "cell_type": "code",
   "execution_count": 268,
   "metadata": {},
   "outputs": [],
   "source": [
    "rower = webdriver.Chrome(\"chromedriver.exe\")"
   ]
  },
  {
   "cell_type": "code",
   "execution_count": 269,
   "metadata": {},
   "outputs": [],
   "source": [
    "url = 'https://www.flipkart.com/'\n",
    "rower.get(url)"
   ]
  },
  {
   "cell_type": "code",
   "execution_count": 270,
   "metadata": {},
   "outputs": [],
   "source": [
    "search_bar = rower.find_element_by_name('q')"
   ]
  },
  {
   "cell_type": "code",
   "execution_count": 271,
   "metadata": {},
   "outputs": [],
   "source": [
    "search_bar.send_keys('Sneakers')"
   ]
  },
  {
   "cell_type": "code",
   "execution_count": 273,
   "metadata": {},
   "outputs": [],
   "source": [
    "search_button = rower.find_element_by_tag_name('svg')\n",
    "search_button.click()"
   ]
  },
  {
   "cell_type": "markdown",
   "metadata": {},
   "source": [
    "#### 1. Brand"
   ]
  },
  {
   "cell_type": "code",
   "execution_count": 274,
   "metadata": {},
   "outputs": [],
   "source": [
    "brand = []"
   ]
  },
  {
   "cell_type": "markdown",
   "metadata": {},
   "source": [
    "#### 2. Product description"
   ]
  },
  {
   "cell_type": "code",
   "execution_count": 275,
   "metadata": {},
   "outputs": [],
   "source": [
    "description = []"
   ]
  },
  {
   "cell_type": "markdown",
   "metadata": {},
   "source": [
    "#### 3. Price"
   ]
  },
  {
   "cell_type": "code",
   "execution_count": 276,
   "metadata": {},
   "outputs": [],
   "source": [
    "price = []"
   ]
  },
  {
   "cell_type": "markdown",
   "metadata": {},
   "source": [
    "#### 4. Discount"
   ]
  },
  {
   "cell_type": "code",
   "execution_count": 277,
   "metadata": {},
   "outputs": [],
   "source": [
    "discount = []"
   ]
  },
  {
   "cell_type": "code",
   "execution_count": 281,
   "metadata": {},
   "outputs": [],
   "source": [
    "start=0\n",
    "\n",
    "end=4\n",
    "\n",
    "for page in range(start,end):#for loop for scrapping 4 page\n",
    "    \n",
    "    #brand\n",
    "    comp = rower.find_elements_by_xpath(\"//div[@class = '_2WkVRV']\")\n",
    "\n",
    "    for i in comp:\n",
    "\n",
    "        brand.append(i.text)#appending the text in Brand list\n",
    "        \n",
    "    #description\n",
    "    desc = rower.find_elements_by_xpath(\"//a[@class = 'IRpwTa']\")\n",
    "\n",
    "    for i in desc:\n",
    "\n",
    "        description.append(i.text)#appending the description in list\n",
    "\n",
    "    #price\n",
    "    cost = rower.find_elements_by_xpath(\"//div[@class = '_30jeq3']\")\n",
    "\n",
    "    for i in cost:\n",
    "\n",
    "        price.append(i.text)\n",
    "        \n",
    "    #discount\n",
    "    disc = rower.find_elements_by_xpath(\"//div[@class = '_3Ay6Sb']/span\")\n",
    "\n",
    "    for i in disc:\n",
    "\n",
    "        discount.append(i.text)\n",
    "        \n",
    "\n",
    "    nxt_button=rower.find_elements_by_xpath(\"//a[@class='_1LKTO3']\")#scraping the list of buttons from the page\n",
    "\n",
    "    try:\n",
    "\n",
    "        rower.get(nxt_button[1].get_attribute('href'))#getting the link from the list for next page\n",
    "\n",
    "    except:\n",
    "\n",
    "        rower.get(nxt_button[0].get_attribute('href'))"
   ]
  },
  {
   "cell_type": "code",
   "execution_count": 284,
   "metadata": {},
   "outputs": [],
   "source": [
    "import pandas as pd\n",
    "jobs = pd.DataFrame({})\n",
    "jobs['Brand'] = brand[:101]\n",
    "jobs['Product description'] = description[:101]\n",
    "jobs['Price'] = price[:101]\n",
    "jobs['Discount'] = discount[:101]"
   ]
  },
  {
   "cell_type": "code",
   "execution_count": 285,
   "metadata": {},
   "outputs": [
    {
     "data": {
      "text/html": [
       "<div>\n",
       "<style scoped>\n",
       "    .dataframe tbody tr th:only-of-type {\n",
       "        vertical-align: middle;\n",
       "    }\n",
       "\n",
       "    .dataframe tbody tr th {\n",
       "        vertical-align: top;\n",
       "    }\n",
       "\n",
       "    .dataframe thead th {\n",
       "        text-align: right;\n",
       "    }\n",
       "</style>\n",
       "<table border=\"1\" class=\"dataframe\">\n",
       "  <thead>\n",
       "    <tr style=\"text-align: right;\">\n",
       "      <th></th>\n",
       "      <th>Brand</th>\n",
       "      <th>Product description</th>\n",
       "      <th>Price</th>\n",
       "      <th>Discount</th>\n",
       "    </tr>\n",
       "  </thead>\n",
       "  <tbody>\n",
       "    <tr>\n",
       "      <th>0</th>\n",
       "      <td>DUCATI</td>\n",
       "      <td>Sneakers For Men</td>\n",
       "      <td>₹1,924</td>\n",
       "      <td>47% off</td>\n",
       "    </tr>\n",
       "    <tr>\n",
       "      <th>1</th>\n",
       "      <td>DUCATI</td>\n",
       "      <td>Sneakers For Men</td>\n",
       "      <td>₹1,199</td>\n",
       "      <td>67% off</td>\n",
       "    </tr>\n",
       "    <tr>\n",
       "      <th>2</th>\n",
       "      <td>Robbie jones</td>\n",
       "      <td>Casual Sneakers Shoes For Men Sneakers For Men</td>\n",
       "      <td>₹379</td>\n",
       "      <td>62% off</td>\n",
       "    </tr>\n",
       "    <tr>\n",
       "      <th>3</th>\n",
       "      <td>ORICUM</td>\n",
       "      <td>Combo pack of 2 casual sneaker shoes for men S...</td>\n",
       "      <td>₹377</td>\n",
       "      <td>62% off</td>\n",
       "    </tr>\n",
       "    <tr>\n",
       "      <th>4</th>\n",
       "      <td>Robbie jones</td>\n",
       "      <td>Sneakers For Men</td>\n",
       "      <td>₹474</td>\n",
       "      <td>52% off</td>\n",
       "    </tr>\n",
       "    <tr>\n",
       "      <th>...</th>\n",
       "      <td>...</td>\n",
       "      <td>...</td>\n",
       "      <td>...</td>\n",
       "      <td>...</td>\n",
       "    </tr>\n",
       "    <tr>\n",
       "      <th>96</th>\n",
       "      <td>bluemaker</td>\n",
       "      <td>Combo Pack of 4 Casual Shoes Sneakers For Men</td>\n",
       "      <td>₹474</td>\n",
       "      <td>57% off</td>\n",
       "    </tr>\n",
       "    <tr>\n",
       "      <th>97</th>\n",
       "      <td>Magnolia</td>\n",
       "      <td>Sneakers for men(black_6) Sneakers For Men</td>\n",
       "      <td>₹305</td>\n",
       "      <td>44% off</td>\n",
       "    </tr>\n",
       "    <tr>\n",
       "      <th>98</th>\n",
       "      <td>3SIX5</td>\n",
       "      <td>Sneakers For Men</td>\n",
       "      <td>₹214</td>\n",
       "      <td>81% off</td>\n",
       "    </tr>\n",
       "    <tr>\n",
       "      <th>99</th>\n",
       "      <td>DUCATI</td>\n",
       "      <td>Latest Stylish Casual sneakers for men | Lace ...</td>\n",
       "      <td>₹1,987</td>\n",
       "      <td>23% off</td>\n",
       "    </tr>\n",
       "    <tr>\n",
       "      <th>100</th>\n",
       "      <td>World Wear Footwear</td>\n",
       "      <td>Men 5014 Latest Collection Stylish Casual Spor...</td>\n",
       "      <td>₹499</td>\n",
       "      <td>45% off</td>\n",
       "    </tr>\n",
       "  </tbody>\n",
       "</table>\n",
       "<p>101 rows × 4 columns</p>\n",
       "</div>"
      ],
      "text/plain": [
       "                   Brand                                Product description  \\\n",
       "0                 DUCATI                                   Sneakers For Men   \n",
       "1                 DUCATI                                   Sneakers For Men   \n",
       "2           Robbie jones     Casual Sneakers Shoes For Men Sneakers For Men   \n",
       "3                 ORICUM  Combo pack of 2 casual sneaker shoes for men S...   \n",
       "4           Robbie jones                                   Sneakers For Men   \n",
       "..                   ...                                                ...   \n",
       "96             bluemaker      Combo Pack of 4 Casual Shoes Sneakers For Men   \n",
       "97              Magnolia         Sneakers for men(black_6) Sneakers For Men   \n",
       "98                 3SIX5                                   Sneakers For Men   \n",
       "99                DUCATI  Latest Stylish Casual sneakers for men | Lace ...   \n",
       "100  World Wear Footwear  Men 5014 Latest Collection Stylish Casual Spor...   \n",
       "\n",
       "      Price Discount  \n",
       "0    ₹1,924  47% off  \n",
       "1    ₹1,199  67% off  \n",
       "2      ₹379  62% off  \n",
       "3      ₹377  62% off  \n",
       "4      ₹474  52% off  \n",
       "..      ...      ...  \n",
       "96     ₹474  57% off  \n",
       "97     ₹305  44% off  \n",
       "98     ₹214  81% off  \n",
       "99   ₹1,987  23% off  \n",
       "100    ₹499  45% off  \n",
       "\n",
       "[101 rows x 4 columns]"
      ]
     },
     "execution_count": 285,
     "metadata": {},
     "output_type": "execute_result"
    }
   ],
   "source": [
    "jobs"
   ]
  },
  {
   "cell_type": "markdown",
   "metadata": {},
   "source": [
    "## Q9"
   ]
  },
  {
   "cell_type": "code",
   "execution_count": 286,
   "metadata": {},
   "outputs": [],
   "source": [
    "boater = webdriver.Chrome(\"chromedriver.exe\")"
   ]
  },
  {
   "cell_type": "code",
   "execution_count": 287,
   "metadata": {},
   "outputs": [],
   "source": [
    "url = 'https://www.myntra.com/shoes'\n",
    "boater.get(url)"
   ]
  },
  {
   "cell_type": "markdown",
   "metadata": {},
   "source": [
    "#### Applying filters"
   ]
  },
  {
   "cell_type": "code",
   "execution_count": 290,
   "metadata": {},
   "outputs": [],
   "source": [
    "#“Rs. 6649 to Rs. 13099”\n",
    "\n",
    "filter1 = boater.find_element_by_xpath(\"/html/body/div[2]/div/div[1]/main/div[3]/div[1]/section/div/div[5]/ul/li[2]/label/div\")\n",
    "filter1.click()"
   ]
  },
  {
   "cell_type": "code",
   "execution_count": 289,
   "metadata": {},
   "outputs": [],
   "source": [
    "#Color \"Black\"\n",
    "\n",
    "filter2 = boater.find_element_by_xpath(\"/html/body/div[2]/div/div[1]/main/div[3]/div[1]/section/div/div[6]/ul/li[1]/label/div\")\n",
    "filter2.click()"
   ]
  },
  {
   "cell_type": "markdown",
   "metadata": {},
   "source": [
    "#### 1. Price"
   ]
  },
  {
   "cell_type": "code",
   "execution_count": 291,
   "metadata": {},
   "outputs": [],
   "source": [
    "price = []"
   ]
  },
  {
   "cell_type": "markdown",
   "metadata": {},
   "source": [
    "#### 2. Brand"
   ]
  },
  {
   "cell_type": "code",
   "execution_count": 292,
   "metadata": {},
   "outputs": [],
   "source": [
    "brand = []"
   ]
  },
  {
   "cell_type": "markdown",
   "metadata": {},
   "source": [
    "#### 3. Description"
   ]
  },
  {
   "cell_type": "code",
   "execution_count": 293,
   "metadata": {},
   "outputs": [],
   "source": [
    "description = []"
   ]
  },
  {
   "cell_type": "code",
   "execution_count": 294,
   "metadata": {},
   "outputs": [],
   "source": [
    "start=0\n",
    "\n",
    "end=3\n",
    "\n",
    "for page in range(start,end):#for loop for scrapping 4 page\n",
    "    \n",
    "    #brand\n",
    "    comp = boater.find_elements_by_xpath(\"//h3[@class = 'product-brand']\")\n",
    "\n",
    "    for i in comp:\n",
    "\n",
    "        brand.append(i.text)#appending the text in Brand list\n",
    "        \n",
    "    #description\n",
    "    desc = boater.find_elements_by_xpath(\"//h4[@class = 'product-product']\")\n",
    "\n",
    "    for i in desc:\n",
    "\n",
    "        description.append(i.text)#appending the description in list\n",
    "\n",
    "    #price\n",
    "    cost = boater.find_elements_by_xpath(\"//div[@class = 'product-price']/span\")\n",
    "\n",
    "    for i in cost:\n",
    "\n",
    "        price.append(i.text)\n",
    "        \n",
    "        \n",
    "    nxt_button=boater.find_elements_by_xpath(\"//a[@rel='next']\")#scraping the list of buttons from the page\n",
    "\n",
    "    try:\n",
    "\n",
    "        boater.get(nxt_button[1].get_attribute('href'))#getting the link from the list for next page\n",
    "\n",
    "    except:\n",
    "\n",
    "        boater.get(nxt_button[0].get_attribute('href'))"
   ]
  },
  {
   "cell_type": "code",
   "execution_count": 295,
   "metadata": {},
   "outputs": [],
   "source": [
    "import pandas as pd\n",
    "jobs = pd.DataFrame({})\n",
    "jobs['Brand'] = brand[:101]\n",
    "jobs['Product description'] = description[:101]\n",
    "jobs['Price'] = price[:101]"
   ]
  },
  {
   "cell_type": "code",
   "execution_count": 296,
   "metadata": {},
   "outputs": [
    {
     "data": {
      "text/html": [
       "<div>\n",
       "<style scoped>\n",
       "    .dataframe tbody tr th:only-of-type {\n",
       "        vertical-align: middle;\n",
       "    }\n",
       "\n",
       "    .dataframe tbody tr th {\n",
       "        vertical-align: top;\n",
       "    }\n",
       "\n",
       "    .dataframe thead th {\n",
       "        text-align: right;\n",
       "    }\n",
       "</style>\n",
       "<table border=\"1\" class=\"dataframe\">\n",
       "  <thead>\n",
       "    <tr style=\"text-align: right;\">\n",
       "      <th></th>\n",
       "      <th>Brand</th>\n",
       "      <th>Product description</th>\n",
       "      <th>Price</th>\n",
       "    </tr>\n",
       "  </thead>\n",
       "  <tbody>\n",
       "    <tr>\n",
       "      <th>0</th>\n",
       "      <td>Nike</td>\n",
       "      <td>Men KD13 EP Basketball Shoes</td>\n",
       "      <td>Rs. 12995</td>\n",
       "    </tr>\n",
       "    <tr>\n",
       "      <th>1</th>\n",
       "      <td>Nike</td>\n",
       "      <td>Men AIR ZOOM Running Shoes</td>\n",
       "      <td>Rs. 10796Rs. 13495</td>\n",
       "    </tr>\n",
       "    <tr>\n",
       "      <th>2</th>\n",
       "      <td>Nike</td>\n",
       "      <td>Men JOYRIDE Running Shoes</td>\n",
       "      <td>(20% OFF)</td>\n",
       "    </tr>\n",
       "    <tr>\n",
       "      <th>3</th>\n",
       "      <td>Nike</td>\n",
       "      <td>Men JORDAN DELTA Basketball</td>\n",
       "      <td>Rs. 11246Rs. 14995</td>\n",
       "    </tr>\n",
       "    <tr>\n",
       "      <th>4</th>\n",
       "      <td>ALDO</td>\n",
       "      <td>Men Textured Sneakers</td>\n",
       "      <td>(25% OFF)</td>\n",
       "    </tr>\n",
       "    <tr>\n",
       "      <th>...</th>\n",
       "      <td>...</td>\n",
       "      <td>...</td>\n",
       "      <td>...</td>\n",
       "    </tr>\n",
       "    <tr>\n",
       "      <th>96</th>\n",
       "      <td>Reebok</td>\n",
       "      <td>Unisex Zig Kinetica II Running</td>\n",
       "      <td>(25% OFF)</td>\n",
       "    </tr>\n",
       "    <tr>\n",
       "      <th>97</th>\n",
       "      <td>Geox</td>\n",
       "      <td>Men Leather Formal Oxfords</td>\n",
       "      <td>Rs. 7440Rs. 8000</td>\n",
       "    </tr>\n",
       "    <tr>\n",
       "      <th>98</th>\n",
       "      <td>Geox</td>\n",
       "      <td>Men Leather Formal Oxfords</td>\n",
       "      <td>(7% OFF)</td>\n",
       "    </tr>\n",
       "    <tr>\n",
       "      <th>99</th>\n",
       "      <td>Nike</td>\n",
       "      <td>Men REACT MILER 2 Running</td>\n",
       "      <td>Rs. 8990</td>\n",
       "    </tr>\n",
       "    <tr>\n",
       "      <th>100</th>\n",
       "      <td>Nike</td>\n",
       "      <td>Women AIR MAX VIVA Sneakers</td>\n",
       "      <td>Rs. 11999Rs. 15999</td>\n",
       "    </tr>\n",
       "  </tbody>\n",
       "</table>\n",
       "<p>101 rows × 3 columns</p>\n",
       "</div>"
      ],
      "text/plain": [
       "      Brand             Product description               Price\n",
       "0      Nike    Men KD13 EP Basketball Shoes           Rs. 12995\n",
       "1      Nike      Men AIR ZOOM Running Shoes  Rs. 10796Rs. 13495\n",
       "2      Nike       Men JOYRIDE Running Shoes           (20% OFF)\n",
       "3      Nike     Men JORDAN DELTA Basketball  Rs. 11246Rs. 14995\n",
       "4      ALDO           Men Textured Sneakers           (25% OFF)\n",
       "..      ...                             ...                 ...\n",
       "96   Reebok  Unisex Zig Kinetica II Running           (25% OFF)\n",
       "97     Geox      Men Leather Formal Oxfords    Rs. 7440Rs. 8000\n",
       "98     Geox      Men Leather Formal Oxfords            (7% OFF)\n",
       "99     Nike       Men REACT MILER 2 Running            Rs. 8990\n",
       "100    Nike     Women AIR MAX VIVA Sneakers  Rs. 11999Rs. 15999\n",
       "\n",
       "[101 rows x 3 columns]"
      ]
     },
     "execution_count": 296,
     "metadata": {},
     "output_type": "execute_result"
    }
   ],
   "source": [
    "jobs"
   ]
  },
  {
   "cell_type": "markdown",
   "metadata": {},
   "source": [
    "## Q10"
   ]
  },
  {
   "cell_type": "code",
   "execution_count": 525,
   "metadata": {},
   "outputs": [],
   "source": [
    "traveler = webdriver.Chrome(\"chromedriver.exe\")"
   ]
  },
  {
   "cell_type": "code",
   "execution_count": 526,
   "metadata": {},
   "outputs": [],
   "source": [
    "url = 'https://www.amazon.in/'\n",
    "traveler.get(url)"
   ]
  },
  {
   "cell_type": "code",
   "execution_count": 527,
   "metadata": {},
   "outputs": [],
   "source": [
    "search_bar = traveler.find_element_by_id('twotabsearchtextbox')\n",
    "search_bar.send_keys('laptop')"
   ]
  },
  {
   "cell_type": "code",
   "execution_count": 528,
   "metadata": {},
   "outputs": [],
   "source": [
    "button = traveler.find_element_by_id('nav-search-submit-button')\n",
    "button.click()"
   ]
  },
  {
   "cell_type": "markdown",
   "metadata": {},
   "source": [
    "#### Applying filters"
   ]
  },
  {
   "cell_type": "markdown",
   "metadata": {},
   "source": [
    "I tried applying two filters like i7 and i9 but it is taking only one filter at a time.\n",
    "\n",
    "Thus, I'm creating a dataframe with respective to each filter."
   ]
  },
  {
   "cell_type": "code",
   "execution_count": 531,
   "metadata": {},
   "outputs": [],
   "source": [
    "#“Intel Core i7”\n",
    "\n",
    "filter1 = traveler.find_element_by_xpath(\"/html/body/div[1]/div[2]/div[1]/div/div[2]/div/div[3]/span/div[1]/span/div/div/div[6]/ul[1]/li[11]/span/a/div/label/i\")\n",
    "\n",
    "#filter2 = traveler.find_element_by_xpath(\"/html/body/div[1]/div[2]/div[1]/div/div[2]/div/div[3]/span/div[1]/span/div/div/div[6]/ul[2]/li[12]/span/a/div/label/i\")\n",
    "\n",
    "filter1.click()\n",
    "\n",
    "#filter2.click()"
   ]
  },
  {
   "cell_type": "markdown",
   "metadata": {},
   "source": [
    "#### 1. Title"
   ]
  },
  {
   "cell_type": "code",
   "execution_count": 532,
   "metadata": {},
   "outputs": [],
   "source": [
    "title = []\n",
    "\n",
    "name = traveler.find_elements_by_xpath(\"//span[@class = 'a-size-medium a-color-base a-text-normal']\")"
   ]
  },
  {
   "cell_type": "code",
   "execution_count": 533,
   "metadata": {},
   "outputs": [
    {
     "data": {
      "text/plain": [
       "'HP Pavilion Gaming 10th Gen Intel Core i7 Processor 15.6-inch FHD Gaming Laptop (16GB/512GB SSD + 32GB Intel Optane/Windows 10/NVIDIA 1650Ti 4GB/Shadow Black), 15-dk1509TX'"
      ]
     },
     "execution_count": 533,
     "metadata": {},
     "output_type": "execute_result"
    }
   ],
   "source": [
    "name[0].text"
   ]
  },
  {
   "cell_type": "markdown",
   "metadata": {},
   "source": [
    "#### 2. Price"
   ]
  },
  {
   "cell_type": "code",
   "execution_count": 534,
   "metadata": {},
   "outputs": [],
   "source": [
    "price = []\n",
    "\n",
    "cost = traveler.find_elements_by_xpath(\"//span[@class = 'a-price-whole']\")"
   ]
  },
  {
   "cell_type": "code",
   "execution_count": 535,
   "metadata": {},
   "outputs": [
    {
     "data": {
      "text/plain": [
       "'77,990'"
      ]
     },
     "execution_count": 535,
     "metadata": {},
     "output_type": "execute_result"
    }
   ],
   "source": [
    "cost[1].text"
   ]
  },
  {
   "cell_type": "code",
   "execution_count": 536,
   "metadata": {},
   "outputs": [],
   "source": [
    "for l in range(0,1):\n",
    "    \n",
    "    for m in cost:\n",
    "        price.append(m.text)\n",
    "        \n",
    "    for n in name:\n",
    "        title.append(n.text)"
   ]
  },
  {
   "cell_type": "markdown",
   "metadata": {},
   "source": [
    "#### 3. Rating"
   ]
  },
  {
   "cell_type": "code",
   "execution_count": 538,
   "metadata": {},
   "outputs": [],
   "source": [
    "#Fetching URLs\n",
    "\n",
    "urls = []\n",
    "\n",
    "for i in range(0,1):\n",
    "    for j in traveler.find_elements_by_xpath('//h2[@class = \"a-size-mini a-spacing-none a-color-base s-line-clamp-2\"]/a'):\n",
    "        urls.append(j.get_attribute('href'))"
   ]
  },
  {
   "cell_type": "code",
   "execution_count": 539,
   "metadata": {},
   "outputs": [
    {
     "data": {
      "text/plain": [
       "27"
      ]
     },
     "execution_count": 539,
     "metadata": {},
     "output_type": "execute_result"
    }
   ],
   "source": [
    "len(urls)"
   ]
  },
  {
   "cell_type": "code",
   "execution_count": 540,
   "metadata": {},
   "outputs": [],
   "source": [
    "rating = []"
   ]
  },
  {
   "cell_type": "code",
   "execution_count": 541,
   "metadata": {},
   "outputs": [],
   "source": [
    "for k in urls[:10]:\n",
    "    traveler.get(k)\n",
    "    time.sleep(2)\n",
    "\n",
    "    try:\n",
    "        #star = traveler.find_element_by_xpath(\"//span[@class = 'a-size-medium a-color-base']\")\n",
    "        star = traveler.find_element_by_xpath(\"//span[@class = 'a-size-medium a-color-base']\").get_attribute('innerHTML').split(' ')[0]\n",
    "        rating.append(star)\n",
    "    except:\n",
    "        rating.append('-')"
   ]
  },
  {
   "cell_type": "code",
   "execution_count": 542,
   "metadata": {},
   "outputs": [
    {
     "data": {
      "text/plain": [
       "['3', '4', '-', '4.4', '3', '3.1', '2.6', '-', '-', '-']"
      ]
     },
     "execution_count": 542,
     "metadata": {},
     "output_type": "execute_result"
    }
   ],
   "source": [
    "rating"
   ]
  },
  {
   "cell_type": "code",
   "execution_count": 578,
   "metadata": {},
   "outputs": [],
   "source": [
    "import pandas as pd\n",
    "table = pd.DataFrame({})\n",
    "table['Product Name'] = title[:10]\n",
    "table['Rating'] = rating[:10]\n",
    "table['Price'] = price[:10]"
   ]
  },
  {
   "cell_type": "code",
   "execution_count": 579,
   "metadata": {},
   "outputs": [
    {
     "data": {
      "text/html": [
       "<div>\n",
       "<style scoped>\n",
       "    .dataframe tbody tr th:only-of-type {\n",
       "        vertical-align: middle;\n",
       "    }\n",
       "\n",
       "    .dataframe tbody tr th {\n",
       "        vertical-align: top;\n",
       "    }\n",
       "\n",
       "    .dataframe thead th {\n",
       "        text-align: right;\n",
       "    }\n",
       "</style>\n",
       "<table border=\"1\" class=\"dataframe\">\n",
       "  <thead>\n",
       "    <tr style=\"text-align: right;\">\n",
       "      <th></th>\n",
       "      <th>Product Name</th>\n",
       "      <th>Rating</th>\n",
       "      <th>Price</th>\n",
       "    </tr>\n",
       "  </thead>\n",
       "  <tbody>\n",
       "    <tr>\n",
       "      <th>0</th>\n",
       "      <td>HP Pavilion Gaming 10th Gen Intel Core i7 Proc...</td>\n",
       "      <td>3</td>\n",
       "      <td>91,499</td>\n",
       "    </tr>\n",
       "    <tr>\n",
       "      <th>1</th>\n",
       "      <td>Dell G3 3500 Gaming 15.6inch ( 39.62 cms) 120h...</td>\n",
       "      <td>4</td>\n",
       "      <td>77,990</td>\n",
       "    </tr>\n",
       "    <tr>\n",
       "      <th>2</th>\n",
       "      <td>Dell Inspiron 7306 i7 11th Gen, x360 13.3\" 4K ...</td>\n",
       "      <td>-</td>\n",
       "      <td>1,17,999</td>\n",
       "    </tr>\n",
       "    <tr>\n",
       "      <th>3</th>\n",
       "      <td>Mi Notebook Horizon Edition 14 Intel Core i5-1...</td>\n",
       "      <td>4.4</td>\n",
       "      <td>53,999</td>\n",
       "    </tr>\n",
       "    <tr>\n",
       "      <th>4</th>\n",
       "      <td>Acer Nitro 5 Intel Core i7-9th Gen 17.3-inch D...</td>\n",
       "      <td>3</td>\n",
       "      <td>69,990</td>\n",
       "    </tr>\n",
       "    <tr>\n",
       "      <th>5</th>\n",
       "      <td>Life Digital Laptop 15.6-inch (39.62 cms) (Int...</td>\n",
       "      <td>3.1</td>\n",
       "      <td>36,990</td>\n",
       "    </tr>\n",
       "    <tr>\n",
       "      <th>6</th>\n",
       "      <td>Life Digital Laptop 15.6-inch (39.62 cms) (Int...</td>\n",
       "      <td>2.6</td>\n",
       "      <td>33,990</td>\n",
       "    </tr>\n",
       "    <tr>\n",
       "      <th>7</th>\n",
       "      <td>(Renewed) Dell Latitude E6420 14 Inch Laptop (...</td>\n",
       "      <td>-</td>\n",
       "      <td>34,000</td>\n",
       "    </tr>\n",
       "    <tr>\n",
       "      <th>8</th>\n",
       "      <td>(Renewed) Lenovo T430 14-inch Laptop (Core i7/...</td>\n",
       "      <td>-</td>\n",
       "      <td>38,499</td>\n",
       "    </tr>\n",
       "    <tr>\n",
       "      <th>9</th>\n",
       "      <td>(Renewed) Lenovo T430 14-inch Laptop (Core i7/...</td>\n",
       "      <td>-</td>\n",
       "      <td>37,499</td>\n",
       "    </tr>\n",
       "  </tbody>\n",
       "</table>\n",
       "</div>"
      ],
      "text/plain": [
       "                                        Product Name Rating     Price\n",
       "0  HP Pavilion Gaming 10th Gen Intel Core i7 Proc...      3    91,499\n",
       "1  Dell G3 3500 Gaming 15.6inch ( 39.62 cms) 120h...      4    77,990\n",
       "2  Dell Inspiron 7306 i7 11th Gen, x360 13.3\" 4K ...      -  1,17,999\n",
       "3  Mi Notebook Horizon Edition 14 Intel Core i5-1...    4.4    53,999\n",
       "4  Acer Nitro 5 Intel Core i7-9th Gen 17.3-inch D...      3    69,990\n",
       "5  Life Digital Laptop 15.6-inch (39.62 cms) (Int...    3.1    36,990\n",
       "6  Life Digital Laptop 15.6-inch (39.62 cms) (Int...    2.6    33,990\n",
       "7  (Renewed) Dell Latitude E6420 14 Inch Laptop (...      -    34,000\n",
       "8  (Renewed) Lenovo T430 14-inch Laptop (Core i7/...      -    38,499\n",
       "9  (Renewed) Lenovo T430 14-inch Laptop (Core i7/...      -    37,499"
      ]
     },
     "execution_count": 579,
     "metadata": {},
     "output_type": "execute_result"
    }
   ],
   "source": [
    "table"
   ]
  },
  {
   "cell_type": "code",
   "execution_count": 547,
   "metadata": {},
   "outputs": [],
   "source": [
    "button = traveler.find_element_by_id('nav-search-submit-button')\n",
    "button.click()"
   ]
  },
  {
   "cell_type": "markdown",
   "metadata": {},
   "source": [
    "### Intel Core i9"
   ]
  },
  {
   "cell_type": "code",
   "execution_count": 548,
   "metadata": {},
   "outputs": [],
   "source": [
    "filter2 = traveler.find_element_by_xpath(\"/html/body/div[1]/div[2]/div[1]/div/div[2]/div/div[3]/span/div[1]/span/div/div/div[6]/ul[2]/li[12]/span/a/div/label/i\")\n",
    "\n",
    "filter2.click()"
   ]
  },
  {
   "cell_type": "markdown",
   "metadata": {},
   "source": [
    "#### Product name"
   ]
  },
  {
   "cell_type": "code",
   "execution_count": 549,
   "metadata": {},
   "outputs": [],
   "source": [
    "title1 = []\n",
    "\n",
    "name1 = traveler.find_elements_by_xpath(\"//span[@class = 'a-size-medium a-color-base a-text-normal']\")"
   ]
  },
  {
   "cell_type": "code",
   "execution_count": 550,
   "metadata": {},
   "outputs": [
    {
     "data": {
      "text/plain": [
       "'ASUS ROG G703GI-E5148T 17.3\" (43.94 cms) FHD 144Hz/3ms Gaming Laptop (8th Gen Intel Core i9-8950HK/64GB/2TB SSHD + 1.5TB NVMe SSD/Windows 10/GTX 1080 8GB Graphics/4.70 Kg), Aluminum'"
      ]
     },
     "execution_count": 550,
     "metadata": {},
     "output_type": "execute_result"
    }
   ],
   "source": [
    "name1[0].text"
   ]
  },
  {
   "cell_type": "markdown",
   "metadata": {},
   "source": [
    "#### Price"
   ]
  },
  {
   "cell_type": "code",
   "execution_count": 551,
   "metadata": {},
   "outputs": [],
   "source": [
    "price1 = []\n",
    "\n",
    "cost1 = traveler.find_elements_by_xpath(\"//span[@class = 'a-price-whole']\")"
   ]
  },
  {
   "cell_type": "code",
   "execution_count": 553,
   "metadata": {},
   "outputs": [
    {
     "data": {
      "text/plain": [
       "'4,13,890'"
      ]
     },
     "execution_count": 553,
     "metadata": {},
     "output_type": "execute_result"
    }
   ],
   "source": [
    "cost1[0].text"
   ]
  },
  {
   "cell_type": "code",
   "execution_count": null,
   "metadata": {},
   "outputs": [],
   "source": []
  },
  {
   "cell_type": "code",
   "execution_count": 554,
   "metadata": {},
   "outputs": [],
   "source": [
    "for q in range(0,1):\n",
    "    \n",
    "    for o in cost1:\n",
    "        price1.append(o.text)\n",
    "        \n",
    "    for p in name1:\n",
    "        title1.append(p.text)"
   ]
  },
  {
   "cell_type": "markdown",
   "metadata": {},
   "source": [
    "#### Rating"
   ]
  },
  {
   "cell_type": "code",
   "execution_count": 558,
   "metadata": {},
   "outputs": [],
   "source": [
    "#Fetching URLs\n",
    "\n",
    "urls = []\n",
    "\n",
    "for k in range(0,1):\n",
    "    for k in traveler.find_elements_by_xpath('//h2[@class = \"a-size-mini a-spacing-none a-color-base s-line-clamp-2\"]/a'):\n",
    "        urls.append(k.get_attribute('href'))"
   ]
  },
  {
   "cell_type": "code",
   "execution_count": 559,
   "metadata": {},
   "outputs": [],
   "source": [
    "rating1 = []"
   ]
  },
  {
   "cell_type": "code",
   "execution_count": 560,
   "metadata": {},
   "outputs": [],
   "source": [
    "for a in urls[:10]:\n",
    "    traveler.get(a)\n",
    "    time.sleep(1)\n",
    "\n",
    "    try:\n",
    "        #star = traveler.find_element_by_xpath(\"//span[@class = 'a-size-medium a-color-base']\")\n",
    "        star1 = traveler.find_element_by_xpath(\"//span[@class = 'a-size-medium a-color-base']\").get_attribute('innerHTML').split(' ')[0]\n",
    "        rating1.append(star1)\n",
    "    except:\n",
    "        rating1.append('-')"
   ]
  },
  {
   "cell_type": "code",
   "execution_count": 561,
   "metadata": {},
   "outputs": [
    {
     "data": {
      "text/plain": [
       "['3.7', '3.7', '3.8', '-', '2.4', '4.5', '3.8', '3.4', '4.8', '-']"
      ]
     },
     "execution_count": 561,
     "metadata": {},
     "output_type": "execute_result"
    }
   ],
   "source": [
    "rating1"
   ]
  },
  {
   "cell_type": "code",
   "execution_count": 576,
   "metadata": {},
   "outputs": [],
   "source": [
    "import pandas as pd\n",
    "table1 = pd.DataFrame({})\n",
    "table1['Product Name'] = title1[:10]\n",
    "table1['Price'] = price1[:10]\n",
    "table1['Rating'] = rating1[:10]"
   ]
  },
  {
   "cell_type": "code",
   "execution_count": 577,
   "metadata": {},
   "outputs": [
    {
     "data": {
      "text/html": [
       "<div>\n",
       "<style scoped>\n",
       "    .dataframe tbody tr th:only-of-type {\n",
       "        vertical-align: middle;\n",
       "    }\n",
       "\n",
       "    .dataframe tbody tr th {\n",
       "        vertical-align: top;\n",
       "    }\n",
       "\n",
       "    .dataframe thead th {\n",
       "        text-align: right;\n",
       "    }\n",
       "</style>\n",
       "<table border=\"1\" class=\"dataframe\">\n",
       "  <thead>\n",
       "    <tr style=\"text-align: right;\">\n",
       "      <th></th>\n",
       "      <th>Product Name</th>\n",
       "      <th>Price</th>\n",
       "      <th>Rating</th>\n",
       "    </tr>\n",
       "  </thead>\n",
       "  <tbody>\n",
       "    <tr>\n",
       "      <th>0</th>\n",
       "      <td>ASUS ROG G703GI-E5148T 17.3\" (43.94 cms) FHD 1...</td>\n",
       "      <td>4,13,890</td>\n",
       "      <td>3.7</td>\n",
       "    </tr>\n",
       "    <tr>\n",
       "      <th>1</th>\n",
       "      <td>Lenovo Legion 7 10th Gen Intel Core i9 15.6 in...</td>\n",
       "      <td>2,62,990</td>\n",
       "      <td>3.7</td>\n",
       "    </tr>\n",
       "    <tr>\n",
       "      <th>2</th>\n",
       "      <td>ASUS ZenBook Pro Duo Intel Core i9-10980HK 10t...</td>\n",
       "      <td>2,79,990</td>\n",
       "      <td>3.8</td>\n",
       "    </tr>\n",
       "    <tr>\n",
       "      <th>3</th>\n",
       "      <td>(Renewed) Dell XPS 9570 Laptop|i9-8950HK|32GB ...</td>\n",
       "      <td>1,89,900</td>\n",
       "      <td>-</td>\n",
       "    </tr>\n",
       "    <tr>\n",
       "      <th>4</th>\n",
       "      <td>Dell XPS 9570 15.6\" (39.62cms) UHD Laptop (8th...</td>\n",
       "      <td>2,49,990</td>\n",
       "      <td>2.4</td>\n",
       "    </tr>\n",
       "    <tr>\n",
       "      <th>5</th>\n",
       "      <td>HP Omen X 2S Core i9 9th Gen 15.6-inch Dual Sc...</td>\n",
       "      <td>3,45,900</td>\n",
       "      <td>4.5</td>\n",
       "    </tr>\n",
       "    <tr>\n",
       "      <th>6</th>\n",
       "      <td>ASUS ZenBook Pro Duo UX581 Intel Core i9 9th G...</td>\n",
       "      <td>2,79,990</td>\n",
       "      <td>3.8</td>\n",
       "    </tr>\n",
       "    <tr>\n",
       "      <th>7</th>\n",
       "      <td>Dell G7 7500 15.6inch FHD 300 Hz Display Gamin...</td>\n",
       "      <td>2,00,690</td>\n",
       "      <td>3.4</td>\n",
       "    </tr>\n",
       "    <tr>\n",
       "      <th>8</th>\n",
       "      <td>ASUS ROG Strix Scar 17 (2020), 17.3\" FHD 300Hz...</td>\n",
       "      <td>2,78,139</td>\n",
       "      <td>4.8</td>\n",
       "    </tr>\n",
       "    <tr>\n",
       "      <th>9</th>\n",
       "      <td>(Renewed) ASUS UX581LV-H2035T ZenBook Pro Duo ...</td>\n",
       "      <td>2,07,992</td>\n",
       "      <td>-</td>\n",
       "    </tr>\n",
       "  </tbody>\n",
       "</table>\n",
       "</div>"
      ],
      "text/plain": [
       "                                        Product Name     Price Rating\n",
       "0  ASUS ROG G703GI-E5148T 17.3\" (43.94 cms) FHD 1...  4,13,890    3.7\n",
       "1  Lenovo Legion 7 10th Gen Intel Core i9 15.6 in...  2,62,990    3.7\n",
       "2  ASUS ZenBook Pro Duo Intel Core i9-10980HK 10t...  2,79,990    3.8\n",
       "3  (Renewed) Dell XPS 9570 Laptop|i9-8950HK|32GB ...  1,89,900      -\n",
       "4  Dell XPS 9570 15.6\" (39.62cms) UHD Laptop (8th...  2,49,990    2.4\n",
       "5  HP Omen X 2S Core i9 9th Gen 15.6-inch Dual Sc...  3,45,900    4.5\n",
       "6  ASUS ZenBook Pro Duo UX581 Intel Core i9 9th G...  2,79,990    3.8\n",
       "7  Dell G7 7500 15.6inch FHD 300 Hz Display Gamin...  2,00,690    3.4\n",
       "8  ASUS ROG Strix Scar 17 (2020), 17.3\" FHD 300Hz...  2,78,139    4.8\n",
       "9  (Renewed) ASUS UX581LV-H2035T ZenBook Pro Duo ...  2,07,992      -"
      ]
     },
     "execution_count": 577,
     "metadata": {},
     "output_type": "execute_result"
    }
   ],
   "source": [
    "table1"
   ]
  },
  {
   "cell_type": "markdown",
   "metadata": {},
   "source": [
    "#### Combining two tables using append function"
   ]
  },
  {
   "cell_type": "code",
   "execution_count": 582,
   "metadata": {},
   "outputs": [
    {
     "data": {
      "text/html": [
       "<div>\n",
       "<style scoped>\n",
       "    .dataframe tbody tr th:only-of-type {\n",
       "        vertical-align: middle;\n",
       "    }\n",
       "\n",
       "    .dataframe tbody tr th {\n",
       "        vertical-align: top;\n",
       "    }\n",
       "\n",
       "    .dataframe thead th {\n",
       "        text-align: right;\n",
       "    }\n",
       "</style>\n",
       "<table border=\"1\" class=\"dataframe\">\n",
       "  <thead>\n",
       "    <tr style=\"text-align: right;\">\n",
       "      <th></th>\n",
       "      <th>Product Name</th>\n",
       "      <th>Price</th>\n",
       "      <th>Rating</th>\n",
       "    </tr>\n",
       "  </thead>\n",
       "  <tbody>\n",
       "    <tr>\n",
       "      <th>0</th>\n",
       "      <td>ASUS ROG G703GI-E5148T 17.3\" (43.94 cms) FHD 1...</td>\n",
       "      <td>4,13,890</td>\n",
       "      <td>3.7</td>\n",
       "    </tr>\n",
       "    <tr>\n",
       "      <th>1</th>\n",
       "      <td>Lenovo Legion 7 10th Gen Intel Core i9 15.6 in...</td>\n",
       "      <td>2,62,990</td>\n",
       "      <td>3.7</td>\n",
       "    </tr>\n",
       "    <tr>\n",
       "      <th>2</th>\n",
       "      <td>ASUS ZenBook Pro Duo Intel Core i9-10980HK 10t...</td>\n",
       "      <td>2,79,990</td>\n",
       "      <td>3.8</td>\n",
       "    </tr>\n",
       "    <tr>\n",
       "      <th>3</th>\n",
       "      <td>(Renewed) Dell XPS 9570 Laptop|i9-8950HK|32GB ...</td>\n",
       "      <td>1,89,900</td>\n",
       "      <td>-</td>\n",
       "    </tr>\n",
       "    <tr>\n",
       "      <th>4</th>\n",
       "      <td>Dell XPS 9570 15.6\" (39.62cms) UHD Laptop (8th...</td>\n",
       "      <td>2,49,990</td>\n",
       "      <td>2.4</td>\n",
       "    </tr>\n",
       "    <tr>\n",
       "      <th>5</th>\n",
       "      <td>HP Omen X 2S Core i9 9th Gen 15.6-inch Dual Sc...</td>\n",
       "      <td>3,45,900</td>\n",
       "      <td>4.5</td>\n",
       "    </tr>\n",
       "    <tr>\n",
       "      <th>6</th>\n",
       "      <td>ASUS ZenBook Pro Duo UX581 Intel Core i9 9th G...</td>\n",
       "      <td>2,79,990</td>\n",
       "      <td>3.8</td>\n",
       "    </tr>\n",
       "    <tr>\n",
       "      <th>7</th>\n",
       "      <td>Dell G7 7500 15.6inch FHD 300 Hz Display Gamin...</td>\n",
       "      <td>2,00,690</td>\n",
       "      <td>3.4</td>\n",
       "    </tr>\n",
       "    <tr>\n",
       "      <th>8</th>\n",
       "      <td>ASUS ROG Strix Scar 17 (2020), 17.3\" FHD 300Hz...</td>\n",
       "      <td>2,78,139</td>\n",
       "      <td>4.8</td>\n",
       "    </tr>\n",
       "    <tr>\n",
       "      <th>9</th>\n",
       "      <td>(Renewed) ASUS UX581LV-H2035T ZenBook Pro Duo ...</td>\n",
       "      <td>2,07,992</td>\n",
       "      <td>-</td>\n",
       "    </tr>\n",
       "    <tr>\n",
       "      <th>0</th>\n",
       "      <td>HP Pavilion Gaming 10th Gen Intel Core i7 Proc...</td>\n",
       "      <td>91,499</td>\n",
       "      <td>3</td>\n",
       "    </tr>\n",
       "    <tr>\n",
       "      <th>1</th>\n",
       "      <td>Dell G3 3500 Gaming 15.6inch ( 39.62 cms) 120h...</td>\n",
       "      <td>77,990</td>\n",
       "      <td>4</td>\n",
       "    </tr>\n",
       "    <tr>\n",
       "      <th>2</th>\n",
       "      <td>Dell Inspiron 7306 i7 11th Gen, x360 13.3\" 4K ...</td>\n",
       "      <td>1,17,999</td>\n",
       "      <td>-</td>\n",
       "    </tr>\n",
       "    <tr>\n",
       "      <th>3</th>\n",
       "      <td>Mi Notebook Horizon Edition 14 Intel Core i5-1...</td>\n",
       "      <td>53,999</td>\n",
       "      <td>4.4</td>\n",
       "    </tr>\n",
       "    <tr>\n",
       "      <th>4</th>\n",
       "      <td>Acer Nitro 5 Intel Core i7-9th Gen 17.3-inch D...</td>\n",
       "      <td>69,990</td>\n",
       "      <td>3</td>\n",
       "    </tr>\n",
       "    <tr>\n",
       "      <th>5</th>\n",
       "      <td>Life Digital Laptop 15.6-inch (39.62 cms) (Int...</td>\n",
       "      <td>36,990</td>\n",
       "      <td>3.1</td>\n",
       "    </tr>\n",
       "    <tr>\n",
       "      <th>6</th>\n",
       "      <td>Life Digital Laptop 15.6-inch (39.62 cms) (Int...</td>\n",
       "      <td>33,990</td>\n",
       "      <td>2.6</td>\n",
       "    </tr>\n",
       "    <tr>\n",
       "      <th>7</th>\n",
       "      <td>(Renewed) Dell Latitude E6420 14 Inch Laptop (...</td>\n",
       "      <td>34,000</td>\n",
       "      <td>-</td>\n",
       "    </tr>\n",
       "    <tr>\n",
       "      <th>8</th>\n",
       "      <td>(Renewed) Lenovo T430 14-inch Laptop (Core i7/...</td>\n",
       "      <td>38,499</td>\n",
       "      <td>-</td>\n",
       "    </tr>\n",
       "    <tr>\n",
       "      <th>9</th>\n",
       "      <td>(Renewed) Lenovo T430 14-inch Laptop (Core i7/...</td>\n",
       "      <td>37,499</td>\n",
       "      <td>-</td>\n",
       "    </tr>\n",
       "  </tbody>\n",
       "</table>\n",
       "</div>"
      ],
      "text/plain": [
       "                                        Product Name     Price Rating\n",
       "0  ASUS ROG G703GI-E5148T 17.3\" (43.94 cms) FHD 1...  4,13,890    3.7\n",
       "1  Lenovo Legion 7 10th Gen Intel Core i9 15.6 in...  2,62,990    3.7\n",
       "2  ASUS ZenBook Pro Duo Intel Core i9-10980HK 10t...  2,79,990    3.8\n",
       "3  (Renewed) Dell XPS 9570 Laptop|i9-8950HK|32GB ...  1,89,900      -\n",
       "4  Dell XPS 9570 15.6\" (39.62cms) UHD Laptop (8th...  2,49,990    2.4\n",
       "5  HP Omen X 2S Core i9 9th Gen 15.6-inch Dual Sc...  3,45,900    4.5\n",
       "6  ASUS ZenBook Pro Duo UX581 Intel Core i9 9th G...  2,79,990    3.8\n",
       "7  Dell G7 7500 15.6inch FHD 300 Hz Display Gamin...  2,00,690    3.4\n",
       "8  ASUS ROG Strix Scar 17 (2020), 17.3\" FHD 300Hz...  2,78,139    4.8\n",
       "9  (Renewed) ASUS UX581LV-H2035T ZenBook Pro Duo ...  2,07,992      -\n",
       "0  HP Pavilion Gaming 10th Gen Intel Core i7 Proc...    91,499      3\n",
       "1  Dell G3 3500 Gaming 15.6inch ( 39.62 cms) 120h...    77,990      4\n",
       "2  Dell Inspiron 7306 i7 11th Gen, x360 13.3\" 4K ...  1,17,999      -\n",
       "3  Mi Notebook Horizon Edition 14 Intel Core i5-1...    53,999    4.4\n",
       "4  Acer Nitro 5 Intel Core i7-9th Gen 17.3-inch D...    69,990      3\n",
       "5  Life Digital Laptop 15.6-inch (39.62 cms) (Int...    36,990    3.1\n",
       "6  Life Digital Laptop 15.6-inch (39.62 cms) (Int...    33,990    2.6\n",
       "7  (Renewed) Dell Latitude E6420 14 Inch Laptop (...    34,000      -\n",
       "8  (Renewed) Lenovo T430 14-inch Laptop (Core i7/...    38,499      -\n",
       "9  (Renewed) Lenovo T430 14-inch Laptop (Core i7/...    37,499      -"
      ]
     },
     "execution_count": 582,
     "metadata": {},
     "output_type": "execute_result"
    }
   ],
   "source": [
    "table1.append(table)"
   ]
  },
  {
   "cell_type": "code",
   "execution_count": null,
   "metadata": {},
   "outputs": [],
   "source": []
  }
 ],
 "metadata": {
  "kernelspec": {
   "display_name": "Python 3",
   "language": "python",
   "name": "python3"
  },
  "language_info": {
   "codemirror_mode": {
    "name": "ipython",
    "version": 3
   },
   "file_extension": ".py",
   "mimetype": "text/x-python",
   "name": "python",
   "nbconvert_exporter": "python",
   "pygments_lexer": "ipython3",
   "version": "3.8.3"
  }
 },
 "nbformat": 4,
 "nbformat_minor": 4
}
